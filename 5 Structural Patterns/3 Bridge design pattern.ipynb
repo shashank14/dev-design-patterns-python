{
 "cells": [
  {
   "cell_type": "markdown",
   "id": "56f2c211",
   "metadata": {},
   "source": [
    "##### The Bridge design pattern "
   ]
  },
  {
   "cell_type": "markdown",
   "id": "d699dbac",
   "metadata": {},
   "source": [
    "The Bridge design pattern is a structural design pattern used in software engineering to decouple an abstraction from its implementation so that the two can vary independently.\n",
    "\n",
    "This pattern involves an interface which acts as a bridge between the abstraction and implementation classes. By doing so, it separates the object's interface from its underlying implementation."
   ]
  },
  {
   "cell_type": "code",
   "execution_count": null,
   "id": "98af9d23",
   "metadata": {},
   "outputs": [],
   "source": []
  },
  {
   "cell_type": "markdown",
   "id": "ed43f583",
   "metadata": {},
   "source": [
    "\n"
   ]
  },
  {
   "cell_type": "code",
   "execution_count": null,
   "id": "87f37805",
   "metadata": {},
   "outputs": [],
   "source": []
  },
  {
   "cell_type": "markdown",
   "id": "f664c8dc",
   "metadata": {},
   "source": [
    "###### Implementor (Interface):\n",
    "Defines the interface for the concrete implementations. It declares methods that the concrete implementors will provide.\n",
    "\n",
    "###### Concrete Implementor:\n",
    "Implements the implementor interface and defines how to perform the specific operations. Different concrete implementors offer different implementations of the same interface.\n",
    "\n",
    "###### Abstraction (Interface):\n",
    "Defines the high-level control layer that doesn't do the work by itself but delegates it to the implementation layer. It typically contains a reference to an object of the implementation hierarchy.\n",
    "\n",
    "###### Refined Abstraction:\n",
    "Extends or inherits from the Abstraction. It can redefine certain aspects of the abstraction but still delegates the primary job to the Implementation."
   ]
  },
  {
   "cell_type": "code",
   "execution_count": null,
   "id": "61eeceb8",
   "metadata": {},
   "outputs": [],
   "source": []
  },
  {
   "cell_type": "markdown",
   "id": "c4b48f5b",
   "metadata": {},
   "source": [
    "## Abstract Base Classes (ABCs):\n",
    "\n",
    "###### NavigationImpl (Implementation Layer ABC):\n",
    "\n",
    "This abstract class defines the interface for the implementation classes. It declares the navigate_to abstract method, which must be implemented by any concrete implementation class.\n",
    "\n",
    "\n",
    "###### NavigationSystem (Abstraction Layer ABC): \n",
    "\n",
    "This abstract class serves as the abstraction layer. It declares the navigate abstract method, which is implemented by the concrete abstraction classes. This method utilizes an instance of NavigationImpl."
   ]
  },
  {
   "cell_type": "code",
   "execution_count": null,
   "id": "1d17597e",
   "metadata": {},
   "outputs": [],
   "source": []
  },
  {
   "cell_type": "markdown",
   "id": "02a49a25",
   "metadata": {},
   "source": [
    "\n",
    "\n",
    "###### Concrete Implementations:\n",
    "GoogleMaps and AppleMaps (Implementing NavigationImpl): These classes provide specific implementations of the NavigationImpl interface. They override the navigate_to method with the specific navigation logic for Google Maps and Apple Maps, respectively.\n",
    "\n",
    "\n",
    "###### Concrete Abstractions:\n",
    "UberRide and UberEats (Implementing NavigationSystem):\n",
    "\n",
    "These classes implement the NavigationSystem abstract base class. They each have a method navigate that prints a specific message and delegates the navigation task to the navigation implementation (NavigationImpl instance) they hold. They also have a method set_navigation_impl to set the navigation implementation.\n",
    "\n",
    "\n",
    "###### Composition:\n",
    "Composition in UberRide and UberEats:\n",
    "\n",
    "Both of these concrete abstraction classes use composition to include an instance of a NavigationImpl (either GoogleMaps or AppleMaps). This allows them to delegate the navigation functionality to the implementation instance.\n",
    "Demonstration (in the if __name__ == \"__main__\" block):\n",
    "\n",
    "###### Creating Instances:\n",
    "\n",
    "Instances of UberRide, UberEats, GoogleMaps, and AppleMaps are created.\n",
    "Setting Implementations: The set_navigation_impl method is used to associate UberRide with GoogleMaps and UberEats with AppleMaps.\n",
    "###### Using the System:\n",
    "\n",
    "The navigate method of UberRide and UberEats instances is called, demonstrating the bridge between the abstraction (navigation system) and the implementation (navigation tool).\n",
    "This code structure allows the NavigationSystem (like UberRide or UberEats) to vary independently from the NavigationImpl (like GoogleMaps or AppleMaps) implementations, adhering to the Bridge design pattern principles."
   ]
  },
  {
   "cell_type": "code",
   "execution_count": null,
   "id": "5c17838e",
   "metadata": {},
   "outputs": [],
   "source": []
  },
  {
   "cell_type": "markdown",
   "id": "53351ad3",
   "metadata": {},
   "source": [
    "In this implementation, the pattern is used to decouple the abstraction of navigation systems (like UberRide and UberEats) from their implementations (GoogleMaps and AppleMaps). This allows the navigation systems to change their navigation implementation dynamically at runtime without changing their interfaces.\n"
   ]
  },
  {
   "cell_type": "code",
   "execution_count": null,
   "id": "2e01e9ff",
   "metadata": {},
   "outputs": [],
   "source": []
  },
  {
   "cell_type": "code",
   "execution_count": 6,
   "id": "e5f993f0",
   "metadata": {},
   "outputs": [
    {
     "name": "stdout",
     "output_type": "stream",
     "text": [
      "Uber ride with Keerti to Central Park using Google Maps.\n",
      "Uber Eats delivery from Pizza Palace to 123 HSR using Apple Maps.\n"
     ]
    }
   ],
   "source": [
    "from abc import ABC, abstractmethod\n",
    "\n",
    "# Implementation Interface\n",
    "class Maps(ABC):\n",
    "    @abstractmethod\n",
    "    def navigate_to(self, destination):\n",
    "        pass\n",
    "\n",
    "    \n",
    "# Concrete Implementation: GoogleMaps\n",
    "class GoogleMaps(Maps):\n",
    "    def navigate_to(self, destination):\n",
    "        print(\"Google Maps.\")\n",
    "        # Actual navigation logic using Google Maps API\n",
    "\n",
    "# Concrete Implementation: AppleMaps\n",
    "class AppleMaps(Maps):\n",
    "    def navigate_to(self, destination):\n",
    "        print(\"Apple Maps.\")\n",
    "        # Actual navigation logic using Apple Maps API\n",
    "    \n",
    "\n",
    "# Abstraction Layer\n",
    "class NavigationSystem(ABC):\n",
    "    @abstractmethod\n",
    "    def navigate(self, destination):\n",
    "        pass\n",
    "\n",
    "# Concrete Abstraction: UberRide\n",
    "class UberRide(NavigationSystem):\n",
    "    def __init__(self, driver_name):\n",
    "        self.driver_name = driver_name\n",
    "        self.map = None\n",
    "\n",
    "    def set_navigation_map(self, maps):\n",
    "        self.map = maps\n",
    "\n",
    "    def navigate(self, destination):\n",
    "        print(f\"Uber ride with {self.driver_name} to {destination} using \", end=\"\")\n",
    "        self.map.navigate_to(destination)\n",
    "\n",
    "# Concrete Abstraction: UberEats\n",
    "class UberEats(NavigationSystem):\n",
    "    def __init__(self, restaurant_name):\n",
    "        self.restaurant_name = restaurant_name\n",
    "        self.map = None\n",
    "\n",
    "    def set_navigation_map(self, maps):\n",
    "        self.map = maps\n",
    "\n",
    "    def navigate(self, destination):\n",
    "        print(f\"Uber Eats delivery from {self.restaurant_name} to {destination} using \", end=\"\")\n",
    "        self.map.navigate_to(destination)\n",
    "\n",
    "\n",
    "\n",
    "# Demo\n",
    "if __name__ == \"__main__\":\n",
    "    # Create an UberRide with a driver\n",
    "    uber = UberRide(\"Keerti\")\n",
    "\n",
    "    # Create an UberEats delivery\n",
    "    uberEats = UberEats(\"Pizza Palace\")\n",
    "\n",
    "    # Create different navigation implementations\n",
    "    googleMaps = GoogleMaps()\n",
    "    appleMaps = AppleMaps()\n",
    "\n",
    "    # Set the navigation implementation for UberRide\n",
    "    uber.set_navigation_map(googleMaps)\n",
    "\n",
    "    # Request an Uber ride with Google Maps navigation\n",
    "    uber.navigate(\"Central Park\")\n",
    "\n",
    "    # Switch to Apple Maps navigation for UberEats\n",
    "    uberEats.set_navigation_map(appleMaps)\n",
    "\n",
    "    # Request an Uber Eats delivery with Apple Maps navigation\n",
    "    uberEats.navigate(\"123 HSR\")\n"
   ]
  },
  {
   "cell_type": "code",
   "execution_count": null,
   "id": "4dcd0467",
   "metadata": {},
   "outputs": [],
   "source": []
  },
  {
   "cell_type": "code",
   "execution_count": null,
   "id": "a2ef6b71",
   "metadata": {},
   "outputs": [],
   "source": []
  }
 ],
 "metadata": {
  "kernelspec": {
   "display_name": "Python 3 (ipykernel)",
   "language": "python",
   "name": "python3"
  },
  "language_info": {
   "codemirror_mode": {
    "name": "ipython",
    "version": 3
   },
   "file_extension": ".py",
   "mimetype": "text/x-python",
   "name": "python",
   "nbconvert_exporter": "python",
   "pygments_lexer": "ipython3",
   "version": "3.9.18"
  }
 },
 "nbformat": 4,
 "nbformat_minor": 5
}
