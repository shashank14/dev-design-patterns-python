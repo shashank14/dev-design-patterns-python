{
 "cells": [
  {
   "cell_type": "markdown",
   "id": "2899cdba",
   "metadata": {},
   "source": [
    "##### Proxy design pattern"
   ]
  },
  {
   "cell_type": "markdown",
   "id": "41beb964",
   "metadata": {},
   "source": [
    "This pattern is used in software design to serve as an intermediary for another object to control access to it."
   ]
  },
  {
   "cell_type": "code",
   "execution_count": null,
   "id": "419396c0",
   "metadata": {},
   "outputs": [],
   "source": []
  },
  {
   "cell_type": "markdown",
   "id": "d5283f5f",
   "metadata": {},
   "source": [
    "#### Interface (Image):\n",
    "\n",
    "Role: Defines a common interface for both the real object and the proxy. This allows any client to treat the proxy and the real object interchangeably.\n",
    "\n",
    "In Your Example: The Image interface with the display method is the common interface for both RealImage and ImageProxy.\n",
    "\n",
    "\n",
    "###### Real Object (RealImage):\n",
    "\n",
    "Role: The actual object that the proxy represents. This object does the real work, and its creation and access are often resource-intensive.\n",
    "\n",
    "In Your Example: RealImage is the real object. It loads an image from disk (a potentially expensive operation) and displays it.\n",
    "\n",
    "###### Proxy (ImageProxy):\n",
    "\n",
    "Role: Maintains a reference to the real object, controls access to it, and can perform additional actions (such as lazy initialization, logging, access control, etc.) before or after forwarding requests to the real object.\n",
    "\n",
    "In Your Example: ImageProxy acts as a proxy for RealImage. It overrides the display method and lazily initializes RealImage upon first use. This means it delays the loading of the image from disk until absolutely necessary (i.e., when display is called).\n",
    "\n",
    "\n",
    "###### Client (ImageDemo):\n",
    "\n",
    "Role: Interacts with the Proxy object. The client typically does not know (and should not care) whether it is working with a real object or a proxy.\n",
    "\n",
    "In Your Example: ImageDemo class acts as the client. It creates an instance of ImageProxy and uses it, unaware of the lazy loading happening behind the scenes."
   ]
  },
  {
   "cell_type": "code",
   "execution_count": null,
   "id": "0f72a9ac",
   "metadata": {},
   "outputs": [],
   "source": []
  },
  {
   "cell_type": "code",
   "execution_count": 2,
   "id": "2d2e522e",
   "metadata": {},
   "outputs": [
    {
     "name": "stdout",
     "output_type": "stream",
     "text": [
      "Loading image from disk: high_res_image.jpg\n",
      "Displaying image: high_res_image.jpg\n"
     ]
    }
   ],
   "source": [
    "from abc import ABC, abstractmethod\n",
    "\n",
    "# Interface\n",
    "class Image(ABC):\n",
    "    @abstractmethod\n",
    "    def display(self):\n",
    "        pass\n",
    "\n",
    "# RealImage class\n",
    "class RealImage(Image):\n",
    "    def __init__(self, filename):\n",
    "        self.filename = filename\n",
    "        self.load_from_disk()\n",
    "\n",
    "    def display(self):\n",
    "        print(f\"Displaying image: {self.filename}\")\n",
    "\n",
    "    def load_from_disk(self):\n",
    "        print(f\"Loading image from disk: {self.filename}\")\n",
    "\n",
    "# Proxy class\n",
    "class ImageProxy(Image):\n",
    "    def __init__(self, filename):\n",
    "        self.filename = filename\n",
    "        self.real_image = None\n",
    "\n",
    "    def display(self):\n",
    "        if self.real_image is None:\n",
    "            self.real_image = RealImage(self.filename)\n",
    "        self.real_image.display()\n",
    "\n",
    "# ImageDemo class\n",
    "class ImageDemo:\n",
    "    @staticmethod\n",
    "    def main():\n",
    "        # Create an ImageProxy for a high-resolution image\n",
    "        proxy = ImageProxy(\"high_res_image.jpg\")\n",
    "\n",
    "        # Display the image (loading it on-demand)\n",
    "        proxy.display()\n",
    "\n",
    "#         # The image is not loaded again if we display it multiple times\n",
    "#         proxy.display()\n",
    "\n",
    "if __name__ == \"__main__\":\n",
    "    ImageDemo.main()\n"
   ]
  },
  {
   "cell_type": "code",
   "execution_count": null,
   "id": "0a5ec239",
   "metadata": {},
   "outputs": [],
   "source": []
  }
 ],
 "metadata": {
  "kernelspec": {
   "display_name": "Python 3 (ipykernel)",
   "language": "python",
   "name": "python3"
  },
  "language_info": {
   "codemirror_mode": {
    "name": "ipython",
    "version": 3
   },
   "file_extension": ".py",
   "mimetype": "text/x-python",
   "name": "python",
   "nbconvert_exporter": "python",
   "pygments_lexer": "ipython3",
   "version": "3.9.18"
  }
 },
 "nbformat": 4,
 "nbformat_minor": 5
}
