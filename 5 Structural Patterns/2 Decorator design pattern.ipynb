{
 "cells": [
  {
   "cell_type": "markdown",
   "id": "6aaadc0c",
   "metadata": {},
   "source": [
    "#### The Decorator design pattern "
   ]
  },
  {
   "cell_type": "markdown",
   "id": "543b1dfb",
   "metadata": {},
   "source": [
    "##### The Decorator design\n",
    "The Decorator design pattern is a structural pattern used to add new functionality to an object dynamically, without altering its structure.\n",
    "\n",
    "This pattern creates a decorator class which wraps the original class and provides additional functionality keeping the class methods signature intact. It's particularly useful for adhering to the Open/Closed Principle, one of the SOLID principles, which states that software entities should be open for extension, but closed for modification.\n",
    "\n",
    "\n"
   ]
  },
  {
   "cell_type": "code",
   "execution_count": null,
   "id": "d1aa3707",
   "metadata": {},
   "outputs": [],
   "source": []
  },
  {
   "cell_type": "markdown",
   "id": "4ea939fb",
   "metadata": {},
   "source": [
    "Key Components of the Decorator Pattern:\n",
    "    \n",
    "###### Component (Interface or Abstract Class):\n",
    "Defines the interface for objects that can have responsibilities added to them dynamically.\n",
    "\n",
    "##### Concrete Component:\n",
    "Defines an object to which additional responsibilities can be attached.\n",
    "\n",
    "\n",
    "##### Decorator (Abstract Class):\n",
    "Maintains a reference to a Component object and defines an interface that conforms to Component's interface.\n",
    "\n",
    "\n",
    "###### Concrete Decorators:\n",
    "Extends the functionality of the Component by adding state or adding behavior."
   ]
  },
  {
   "cell_type": "code",
   "execution_count": null,
   "id": "2b6dfe3f",
   "metadata": {},
   "outputs": [],
   "source": []
  },
  {
   "cell_type": "markdown",
   "id": "b1cf92a3",
   "metadata": {},
   "source": [
    "#### How It Works:\n",
    "The Decorator pattern attaches additional responsibilities to an object dynamically. Decorators provide a flexible alternative to subclassing for extending functionality.\n",
    "The client code works with all objects using the Component interface. This allows for the decorators to be interchangeable with a component they decorate to add functionalities.\n",
    "Each decorator has a reference to a Component object and it adds its own decoration while keeping the rest of the object behavior unchanged."
   ]
  },
  {
   "cell_type": "code",
   "execution_count": null,
   "id": "d6144bf0",
   "metadata": {},
   "outputs": [],
   "source": []
  },
  {
   "cell_type": "code",
   "execution_count": 1,
   "id": "31ca0bf4",
   "metadata": {},
   "outputs": [
    {
     "name": "stdout",
     "output_type": "stream",
     "text": [
      "Description of pizza order is Pizza with Extra Cheese with Extra Sauce\n",
      "Price of pizza order is: 215.0\n",
      "Description of burger order is Burger with Extra Cheese with Extra Toppings\n",
      "Price of burger order is: 135.0\n"
     ]
    }
   ],
   "source": [
    "from abc import ABC, abstractmethod\n",
    "\n",
    "# Base interface representing a food item (Component)\n",
    "class FoodItem(ABC):\n",
    "    @abstractmethod\n",
    "    def get_description(self):\n",
    "        pass\n",
    "\n",
    "    @abstractmethod\n",
    "    def get_price(self):\n",
    "        pass\n",
    "\n",
    "# Concrete component\n",
    "class Pizza(FoodItem):\n",
    "    def get_description(self):\n",
    "        return \"Pizza\"\n",
    "\n",
    "    def get_price(self):\n",
    "        return 200.0\n",
    "\n",
    "# Concrete component\n",
    "class Burger(FoodItem):\n",
    "    def get_description(self):\n",
    "        return \"Burger\"\n",
    "\n",
    "    def get_price(self):\n",
    "        return 100.0\n",
    "\n",
    "# Decorator interface\n",
    "class Decorator(FoodItem, ABC):\n",
    "    def __init__(self, food_item):\n",
    "        self.food_item = food_item\n",
    "\n",
    "# Concrete decorator for adding extra cheese\n",
    "class ExtraCheeseDecorator(Decorator):\n",
    "    def __init__(self, food_item, price):\n",
    "        super().__init__(food_item)\n",
    "        self.extra_cheese_price = price\n",
    "\n",
    "    def get_description(self):\n",
    "        return self.food_item.get_description() + \" with Extra Cheese\"\n",
    "\n",
    "    def get_price(self):\n",
    "        return self.food_item.get_price() + self.extra_cheese_price\n",
    "\n",
    "# Concrete decorator for adding extra sauce\n",
    "class ExtraSauceDecorator(Decorator):\n",
    "    def __init__(self, food_item, price):\n",
    "        super().__init__(food_item)\n",
    "        self.extra_sauce_price = price\n",
    "\n",
    "    def get_description(self):\n",
    "        return self.food_item.get_description() + \" with Extra Sauce\"\n",
    "\n",
    "    def get_price(self):\n",
    "        return self.food_item.get_price() + self.extra_sauce_price\n",
    "\n",
    "# Concrete decorator for adding extra toppings\n",
    "class ExtraToppingsDecorator(Decorator):\n",
    "    def __init__(self, food_item, price):\n",
    "        super().__init__(food_item)\n",
    "        self.extra_toppings_price = price\n",
    "\n",
    "    def get_description(self):\n",
    "        return self.food_item.get_description() + \" with Extra Toppings\"\n",
    "\n",
    "    def get_price(self):\n",
    "        return self.food_item.get_price() + self.extra_toppings_price\n",
    "\n",
    "# Test code\n",
    "def main():\n",
    "    # Order a Pizza and a Burger\n",
    "    pizza_order = Pizza()\n",
    "    burger_order = Burger()\n",
    "\n",
    "    pizza_order = ExtraCheeseDecorator(pizza_order, 10.0)\n",
    "    pizza_order = ExtraSauceDecorator(pizza_order, 5.0)\n",
    "\n",
    "    burger_order = ExtraCheeseDecorator(burger_order, 20.0)\n",
    "    burger_order = ExtraToppingsDecorator(burger_order, 15.0)\n",
    "\n",
    "    print(\"Description of pizza order is \" + pizza_order.get_description())\n",
    "    print(\"Price of pizza order is: \" + str(pizza_order.get_price()))\n",
    "\n",
    "    print(\"Description of burger order is \" + burger_order.get_description())\n",
    "    print(\"Price of burger order is: \" + str(burger_order.get_price()))\n",
    "\n",
    "if __name__ == \"__main__\":\n",
    "    main()\n"
   ]
  },
  {
   "cell_type": "code",
   "execution_count": null,
   "id": "436b4187",
   "metadata": {},
   "outputs": [],
   "source": []
  },
  {
   "cell_type": "code",
   "execution_count": null,
   "id": "85c38609",
   "metadata": {},
   "outputs": [],
   "source": []
  },
  {
   "cell_type": "code",
   "execution_count": null,
   "id": "ad1a4a4a",
   "metadata": {},
   "outputs": [],
   "source": []
  }
 ],
 "metadata": {
  "kernelspec": {
   "display_name": "Python 3 (ipykernel)",
   "language": "python",
   "name": "python3"
  },
  "language_info": {
   "codemirror_mode": {
    "name": "ipython",
    "version": 3
   },
   "file_extension": ".py",
   "mimetype": "text/x-python",
   "name": "python",
   "nbconvert_exporter": "python",
   "pygments_lexer": "ipython3",
   "version": "3.9.18"
  }
 },
 "nbformat": 4,
 "nbformat_minor": 5
}
########################


from abc import ABC, abstractmethod

# Base interface representing a report (Component)
class Report(ABC):
    @abstractmethod
    def get_content(self):
        pass

# Concrete component
class SimpleReport(Report):
    def get_content(self):
        return "This is a simple report."

# Decorator interface
class ReportDecorator(Report, ABC):
    def __init__(self, report):
        self.report = report

    @abstractmethod
    def get_content(self):
        pass

# Concrete decorator for adding a header
class HeaderDecorator(ReportDecorator):
    def __init__(self, report, header):
        super().__init__(report)
        self.header = header

    def get_content(self):
        return f"{self.header}\n{self.report.get_content()}"

# Concrete decorator for adding a footer
class FooterDecorator(ReportDecorator):
    def __init__(self, report, footer):
        super().__init__(report)
        self.footer = footer

    def get_content(self):
        return f"{self.report.get_content()}\n{self.footer}"

# Concrete decorator for adding a watermark
class WatermarkDecorator(ReportDecorator):
    def __init__(self, report, watermark):
        super().__init__(report)
        self.watermark = watermark

    def get_content(self):
        return f"{self.report.get_content()}\nWatermark: {self.watermark}"

# Test code
def main():
    # Create a simple report
    simple_report = SimpleReport()

    # Decorate the report with a header, footer, and watermark
    report_with_header = HeaderDecorator(simple_report, "Report Header: Company Confidential")
    report_with_footer = FooterDecorator(report_with_header, "Report Footer: Page 1")
    final_report = WatermarkDecorator(report_with_footer, "Confidential")

    # Print the final report content
    print(final_report.get_content())

if __name__ == "__main__":
    main()
