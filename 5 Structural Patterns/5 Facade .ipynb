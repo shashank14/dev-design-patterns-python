{
 "cells": [
  {
   "cell_type": "markdown",
   "id": "1387d1c4",
   "metadata": {},
   "source": [
    "##### Facade Design Pattern\n",
    "Providing a simplified, high-level interface to a complex subsystem, shielding clients from its intricacies.\n",
    "\n"
   ]
  },
  {
   "cell_type": "markdown",
   "id": "89abc63c",
   "metadata": {},
   "source": [
    "The Facade design pattern is a structural pattern that provides a simplified interface to a complex system of classes, library, or framework. This pattern is especially useful when working with a large set of complex classes or APIs. By using a facade, you can hide the complexity of the system and provide a simpler interface to the clients.\n",
    "\n",
    "Here's an example in Python demonstrating the Facade design pattern:"
   ]
  },
  {
   "cell_type": "markdown",
   "id": "117d4a22",
   "metadata": {},
   "source": [
    "### Key Components:\n",
    "##### Facade:\n",
    "Represents the simplified interface to the subsystem, managing client requests.\n",
    "    \n",
    "##### Subsystem:\n",
    "Consists of various components and classes with complex interactions."
   ]
  },
  {
   "cell_type": "code",
   "execution_count": null,
   "id": "3be38292",
   "metadata": {},
   "outputs": [],
   "source": []
  },
  {
   "cell_type": "code",
   "execution_count": 1,
   "id": "769e0c8f",
   "metadata": {},
   "outputs": [
    {
     "name": "stdout",
     "output_type": "stream",
     "text": [
      "Starting the computer...\n",
      "CPU is powered on.\n",
      "Memory is initialized.\n",
      "GPU graphics are enabled.\n",
      "Booting from the disk drive.\n",
      "Connected to the network.\n",
      "CPU is executing instructions.\n",
      "Computer is ready to use.\n"
     ]
    }
   ],
   "source": [
    "# Subsystem 1: CPU\n",
    "class CPU:\n",
    "    def power_on(self):\n",
    "        print(\"CPU is powered on.\")\n",
    "\n",
    "    def execute_instructions(self):\n",
    "        print(\"CPU is executing instructions.\")\n",
    "\n",
    "# Subsystem 2: Memory\n",
    "class Memory:\n",
    "    def initialize(self):\n",
    "        print(\"Memory is initialized.\")\n",
    "\n",
    "# Subsystem 3: GPU\n",
    "class GPU:\n",
    "    def enable_graphics(self):\n",
    "        print(\"GPU graphics are enabled.\")\n",
    "\n",
    "# Subsystem 4: Disk Drive\n",
    "class DiskDrive:\n",
    "    def boot_from_disk(self):\n",
    "        print(\"Booting from the disk drive.\")\n",
    "\n",
    "# Subsystem 5: Network Interface\n",
    "class NetworkInterface:\n",
    "    def connect_to_network(self):\n",
    "        print(\"Connected to the network.\")\n",
    "\n",
    "# Facade: Computer System\n",
    "class ComputerSystemFacade:\n",
    "    def __init__(self):\n",
    "        self.cpu = CPU()\n",
    "        self.memory = Memory()\n",
    "        self.gpu = GPU()\n",
    "        self.disk_drive = DiskDrive()\n",
    "        self.network_interface = NetworkInterface()\n",
    "\n",
    "    def start_computer(self):\n",
    "        print(\"Starting the computer...\")\n",
    "        self.cpu.power_on()\n",
    "        self.memory.initialize()\n",
    "        self.gpu.enable_graphics()\n",
    "        self.disk_drive.boot_from_disk()\n",
    "        self.network_interface.connect_to_network()\n",
    "        self.cpu.execute_instructions()\n",
    "        print(\"Computer is ready to use.\")\n",
    "\n",
    "# Client code\n",
    "if __name__ == \"__main__\":\n",
    "    computer = ComputerSystemFacade()\n",
    "\n",
    "    # User initiates the computer startup process with a single call\n",
    "    computer.start_computer()\n"
   ]
  },
  {
   "cell_type": "code",
   "execution_count": null,
   "id": "20dfd0a2",
   "metadata": {},
   "outputs": [],
   "source": []
  },
  {
   "cell_type": "markdown",
   "id": "c8de3c12",
   "metadata": {},
   "source": [
    "### Advantages:\n",
    "\n",
    "###### Simplified Interface:\n",
    "Offers a straightforward, high-level interface to a complex system.\n",
    "\n",
    "###### Decouples Clients:\n",
    "Shields clients from subsystem changes, promoting loose coupling.\n",
    "\n",
    "###### Code Organization:\n",
    "Enhances code structure by encapsulating subsystem complexity. Promotes Best Practices: Facilitates adherence to best practices and design principles.\n",
    "\n",
    "\n",
    "### Disadvantages:\n",
    "###### Limited Customization: \n",
    "May not allow fine-grained control for advanced users. Potential Bloat: Overuse can lead to a bloated facade with too many methods. Complex Subsystems: Not suitable for simple subsystems without much complexity.\n",
    "\n",
    "### Use Cases:\n",
    "\n",
    "###### API Libraries:\n",
    "Simplifying the use of complex APIs or libraries.\n",
    "\n",
    "###### Operating Systems:\n",
    "Providing a user-friendly interface to system functions. Software Frameworks: Abstracting complex frameworks for easier use.\n",
    "\n",
    "###### Payment Processing:\n",
    "Simplifying payment gateway integrations for e-commerce. Authentication Systems: Managing user authentication and authorization."
   ]
  },
  {
   "cell_type": "code",
   "execution_count": null,
   "id": "2044f3d2",
   "metadata": {},
   "outputs": [],
   "source": []
  }
 ],
 "metadata": {
  "kernelspec": {
   "display_name": "Python 3 (ipykernel)",
   "language": "python",
   "name": "python3"
  },
  "language_info": {
   "codemirror_mode": {
    "name": "ipython",
    "version": 3
   },
   "file_extension": ".py",
   "mimetype": "text/x-python",
   "name": "python",
   "nbconvert_exporter": "python",
   "pygments_lexer": "ipython3",
   "version": "3.9.18"
  }
 },
 "nbformat": 4,
 "nbformat_minor": 5
}
