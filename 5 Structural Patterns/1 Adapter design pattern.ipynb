{
 "cells": [
  {
   "cell_type": "markdown",
   "id": "09c1d728",
   "metadata": {},
   "source": [
    "###### Adapter design pattern"
   ]
  },
  {
   "cell_type": "code",
   "execution_count": null,
   "id": "b6ee42fe",
   "metadata": {},
   "outputs": [],
   "source": []
  },
  {
   "cell_type": "markdown",
   "id": "8b075585",
   "metadata": {},
   "source": [
    "###### The Adapter design pattern\n",
    "The Adapter design patter, is a structural design pattern that allows objects with incompatible interfaces to work together.\n",
    "\n",
    "It acts as a bridge between two incompatible interfaces. This pattern involves a single class, the adapter, which joins functionalities of independent or incompatible interfaces."
   ]
  },
  {
   "cell_type": "markdown",
   "id": "5b0497f8",
   "metadata": {},
   "source": [
    "#### Key Components of the Adapter Pattern:\n",
    "\n",
    "<!-- #### Target Interface:\n",
    "This is the interface that the client expects or uses. It defines the domain-specific interface that the client uses.\n",
    " -->\n",
    "\n",
    "\n",
    "#### Adapter Interface:\n",
    "This is a interface\n",
    "\n",
    "#### Adapter:\n",
    "This is a class that bridges the gap between the Target and the Adaptee. It implements the Target interface and holds an instance of the Adaptee. The adapter translates the interface of the Adaptee into an interface that the Target expects.\n",
    "\n",
    "\n",
    "#### Adaptee:\n",
    "This is the class that needs adapting. It contains some useful behavior, but its interface is incompatible with the client."
   ]
  },
  {
   "cell_type": "code",
   "execution_count": null,
   "id": "bc80a32c",
   "metadata": {},
   "outputs": [],
   "source": []
  },
  {
   "cell_type": "markdown",
   "id": "d77e5773",
   "metadata": {},
   "source": [
    "\n",
    "#### How It Works:\n",
    "The client makes a call to the adapter by invoking methods on it using the target interface.\n",
    "The adapter translates these calls to calls on the adaptee in a format that the adaptee expects.\n",
    "This allows the client to operate independently of how the adaptee is implemented."
   ]
  },
  {
   "cell_type": "markdown",
   "id": "a9b2009b",
   "metadata": {},
   "source": [
    "#### Types of Adapters:\n",
    "There are two ways to implement the Adapter pattern:\n",
    "\n",
    "\n",
    "##### Class Adapter:\n",
    "\n",
    "Uses multiple inheritance (not possible in languages like Java) to adapt one interface to another.\n",
    "It implements the interface it is adapting to and inherits from the adaptee class.\n",
    "\n",
    "##### Object Adapter:\n",
    "Uses composition to adapt one interface to another.\n",
    "It holds an instance of the adaptee in a field and implements the target interface."
   ]
  },
  {
   "cell_type": "code",
   "execution_count": null,
   "id": "c4e3e62b",
   "metadata": {},
   "outputs": [],
   "source": []
  },
  {
   "cell_type": "code",
   "execution_count": 12,
   "id": "b7a1044a",
   "metadata": {},
   "outputs": [],
   "source": [
    "### object based adapter"
   ]
  },
  {
   "cell_type": "code",
   "execution_count": 6,
   "id": "071318f8",
   "metadata": {},
   "outputs": [
    {
     "name": "stdout",
     "output_type": "stream",
     "text": [
      "----------------------------------------------\n",
      "Converting the XML Data 'Sample Data' to YAML Data!\n",
      "Analyzing YAML Data - Sample Data in yaml\n"
     ]
    }
   ],
   "source": [
    "# this is what we want to use \n",
    "# adaptee\n",
    "class JSONAnalyticsTool:\n",
    "    def __init__(self):\n",
    "        self.json_data = \"\"\n",
    "\n",
    "    def set_json_data(self, json_data):\n",
    "        self.json_data = json_data\n",
    "\n",
    "    def analyze_data(self):\n",
    "        if \"json\" in self.json_data:\n",
    "            print(f\"Analyzing JSON Data - {self.json_data}\")\n",
    "        else:\n",
    "            print(\"Not in the correct format. Can't analyze!\")\n",
    "            \n",
    "\n",
    "class YAMLAnalyticsTool:\n",
    "    def __init__(self):\n",
    "        self.yaml_data = \"\"\n",
    "\n",
    "    def set_yaml_data(self, yaml_data):\n",
    "        self.yaml_data = yaml_data\n",
    "\n",
    "    def analyze_data(self):\n",
    "        if \"yaml\" in self.yaml_data:\n",
    "            print(f\"Analyzing YAML Data - {self.yaml_data}\")\n",
    "        else:\n",
    "            print(\"Not in the correct format. Can't analyze!\")\n",
    "\n",
    "# interface for adapter            \n",
    "class IAnalyticsTool:\n",
    "    def analyze_data(self):\n",
    "        pass\n",
    "\n",
    "# adapter\n",
    "class XMLToJSONAdapter(IAnalyticsTool):\n",
    "    def __init__(self, xml_data):\n",
    "        print(f\"Converting the XML Data '{xml_data}' to JSON Data!\")\n",
    "        new_data = xml_data + \" in json\"\n",
    "        self.json_analytics_tool = JSONAnalyticsTool()\n",
    "        self.json_analytics_tool.set_json_data(new_data)\n",
    "\n",
    "    def analyze_data(self):\n",
    "        self.json_analytics_tool.analyze_data()\n",
    "        \n",
    "class XMLToYAMLAdapter(IAnalyticsTool):\n",
    "    def __init__(self, xml_data):\n",
    "        print(f\"Converting the XML Data '{xml_data}' to YAML Data!\")\n",
    "        new_data = xml_data + \" in yaml\"\n",
    "        self.yaml_analytics_tool = YAMLAnalyticsTool()\n",
    "        self.yaml_analytics_tool.set_yaml_data(new_data)\n",
    "\n",
    "    def analyze_data(self):\n",
    "        self.yaml_analytics_tool.analyze_data()\n",
    "\n",
    "def xml_to_json_demo():\n",
    "    xml_data = \"Sample Data\"\n",
    "    \n",
    "#     tool1 = JSONAnalyticsTool()\n",
    "#     tool1.set_json_data(xml_data)\n",
    "#     tool1.analyze_data()\n",
    "\n",
    "    print(\"----------------------------------------------\")\n",
    "\n",
    "    #tool2 = XMLToJSONAdapter(xml_data)\n",
    "    tool2 = XMLToYAMLAdapter(xml_data)\n",
    "    tool2.analyze_data()\n",
    "\n",
    "if __name__ == \"__main__\":\n",
    "    xml_to_json_demo()\n"
   ]
  },
  {
   "cell_type": "code",
   "execution_count": null,
   "id": "624a38d7",
   "metadata": {},
   "outputs": [],
   "source": []
  },
  {
   "cell_type": "code",
   "execution_count": 8,
   "id": "29a4ce0b",
   "metadata": {},
   "outputs": [],
   "source": [
    "#### class based adapter"
   ]
  },
  {
   "cell_type": "code",
   "execution_count": 7,
   "id": "067f90e8",
   "metadata": {},
   "outputs": [
    {
     "name": "stdout",
     "output_type": "stream",
     "text": [
      "Not in the correct format. Can't analyze!\n",
      "----------------------------------------------\n",
      "Converting the XML Data 'Sample Data' to JSON Data!\n"
     ]
    }
   ],
   "source": [
    "class JSONAnalyticsTool:\n",
    "    def __init__(self):\n",
    "        self.json_data = \"\"\n",
    "\n",
    "    def set_json_data(self, json_data):\n",
    "        self.json_data = json_data\n",
    "\n",
    "    def analyze_data(self):\n",
    "        if \"json\" in self.json_data:\n",
    "            print(f\"Analyzing JSON Data - {self.json_data}\")\n",
    "        else:\n",
    "            print(\"Not in the correct format. Can't analyze!\")\n",
    "\n",
    "class AnalyticsTool:\n",
    "    def analyze_data(self):\n",
    "        pass\n",
    "\n",
    "class XMLToJSONAdapter(AnalyticsTool, JSONAnalyticsTool):\n",
    "    def __init__(self, xml_data):\n",
    "        super().__init__()\n",
    "        print(f\"Converting the XML Data '{xml_data}' to JSON Data!\")\n",
    "        new_data = xml_data + \" in json\"\n",
    "        self.set_json_data(new_data)\n",
    "\n",
    "    def analyze_data(self):\n",
    "        # Could convert here instead of the constructor\n",
    "        super().analyze_data()\n",
    "\n",
    "def main():\n",
    "    xml_data = \"Sample Data\"\n",
    "    tool1 = JSONAnalyticsTool()\n",
    "    tool1.set_json_data(xml_data)\n",
    "    tool1.analyze_data()\n",
    "\n",
    "    print(\"----------------------------------------------\")\n",
    "\n",
    "    tool2 = XMLToJSONAdapter(xml_data)\n",
    "    tool2.analyze_data()\n",
    "\n",
    "if __name__ == \"__main__\":\n",
    "    main()\n"
   ]
  },
  {
   "cell_type": "code",
   "execution_count": null,
   "id": "7949d172",
   "metadata": {},
   "outputs": [],
   "source": []
  },
  {
   "cell_type": "code",
   "execution_count": null,
   "id": "498d36b2",
   "metadata": {},
   "outputs": [],
   "source": []
  },
  {
   "cell_type": "code",
   "execution_count": 1,
   "id": "cdea429f",
   "metadata": {},
   "outputs": [
    {
     "name": "stdout",
     "output_type": "stream",
     "text": [
      "Old Logger: Hello, World!\n"
     ]
    }
   ],
   "source": [
    "class OldLogger:\n",
    "    def log_message(self, message):\n",
    "        print(f\"Old Logger: {message}\")\n",
    "\n",
    "class NewLogger:\n",
    "    def log(self, message):\n",
    "        pass\n",
    "\n",
    "class OldLoggerAdapter(NewLogger):\n",
    "    def __init__(self, old_logger):\n",
    "        self.old_logger = old_logger\n",
    "\n",
    "    def log(self, message):\n",
    "        self.old_logger.log_message(message)\n",
    "\n",
    "# Usage\n",
    "old_logger = OldLogger()\n",
    "adapter = OldLoggerAdapter(old_logger)\n",
    "adapter.log(\"Hello, World!\")\n"
   ]
  },
  {
   "cell_type": "code",
   "execution_count": null,
   "id": "770e75f1",
   "metadata": {},
   "outputs": [],
   "source": []
  }
 ],
 "metadata": {
  "kernelspec": {
   "display_name": "Python 3 (ipykernel)",
   "language": "python",
   "name": "python3"
  },
  "language_info": {
   "codemirror_mode": {
    "name": "ipython",
    "version": 3
   },
   "file_extension": ".py",
   "mimetype": "text/x-python",
   "name": "python",
   "nbconvert_exporter": "python",
   "pygments_lexer": "ipython3",
   "version": "3.9.18"
  }
 },
 "nbformat": 4,
 "nbformat_minor": 5
}
