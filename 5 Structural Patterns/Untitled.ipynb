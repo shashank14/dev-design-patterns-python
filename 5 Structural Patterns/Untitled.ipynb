{
 "cells": [
  {
   "cell_type": "code",
   "execution_count": 1,
   "id": "b0c1ef7f",
   "metadata": {},
   "outputs": [],
   "source": [
    "# composite pattern"
   ]
  },
  {
   "cell_type": "code",
   "execution_count": 2,
   "id": "6c1fe257",
   "metadata": {},
   "outputs": [],
   "source": [
    "from abc import ABC, abstractmethod"
   ]
  },
  {
   "cell_type": "code",
   "execution_count": 20,
   "id": "6b7357a7",
   "metadata": {},
   "outputs": [],
   "source": [
    "# Abstract class\n",
    "class FileSystem(ABC):\n",
    "    \n",
    "    @abstractmethod\n",
    "    def list_component(self):\n",
    "        pass\n",
    "    \n",
    "    @abstractmethod\n",
    "    def get_size(self):\n",
    "        pass"
   ]
  },
  {
   "cell_type": "code",
   "execution_count": 30,
   "id": "112be46e",
   "metadata": {},
   "outputs": [],
   "source": [
    "class File(FileSystem):\n",
    "    \n",
    "    def __init__(self,name,size):\n",
    "        self.file_name = name\n",
    "        self.size = size\n",
    "        \n",
    "    def list_component(self):\n",
    "        print(self.file_name)\n",
    "    \n",
    "    def get_size(self):\n",
    "        return self.size"
   ]
  },
  {
   "cell_type": "code",
   "execution_count": 57,
   "id": "3d64b378",
   "metadata": {},
   "outputs": [],
   "source": [
    "class Directory(FileSystem):\n",
    "    \n",
    "    def __init__(self,name):\n",
    "        self.dir_name = name\n",
    "        self.componets = []\n",
    "        \n",
    "    def list_component(self):\n",
    "        print(self.dir_name)\n",
    "        for component in self.componets:\n",
    "            component.list_component()\n",
    "        \n",
    "    def add_component(self, component):\n",
    "        self.componets.append(component)\n",
    "        \n",
    "    def get_size(self):\n",
    "        self.total_size=0\n",
    "        for component in self.componets:\n",
    "            self.total_size+=component.get_size()\n",
    "        return self.total_size"
   ]
  },
  {
   "cell_type": "code",
   "execution_count": 79,
   "id": "f58a77e4",
   "metadata": {},
   "outputs": [],
   "source": [
    "root = Directory(\"roor_folder\")\n",
    "file1 = File(\"file1\",10)\n",
    "file2 = File(\"file2\",20)\n",
    "file3 = File(\"file2\",30)"
   ]
  },
  {
   "cell_type": "code",
   "execution_count": 80,
   "id": "c08e54c8",
   "metadata": {},
   "outputs": [],
   "source": [
    "sub_folder = Directory(\"sub_folder\")\n",
    "file4 = File(\"file4\",10)\n",
    "file5 = File(\"file4\",20)\n",
    "file6 = File(\"file6\",30)"
   ]
  },
  {
   "cell_type": "code",
   "execution_count": 76,
   "id": "5d177401",
   "metadata": {},
   "outputs": [],
   "source": [
    "root.add_component(file1)\n",
    "root.add_component(file2)\n",
    "root.add_component(file3)"
   ]
  },
  {
   "cell_type": "code",
   "execution_count": 81,
   "id": "faa94359",
   "metadata": {},
   "outputs": [],
   "source": [
    "root.add_component(sub_folder)"
   ]
  },
  {
   "cell_type": "code",
   "execution_count": 83,
   "id": "7410f923",
   "metadata": {},
   "outputs": [],
   "source": [
    "sub_folder.add_component(file1)\n",
    "sub_folder.add_component(file2)\n",
    "sub_folder.add_component(file3)"
   ]
  },
  {
   "cell_type": "code",
   "execution_count": 84,
   "id": "fe24f9c9",
   "metadata": {},
   "outputs": [
    {
     "name": "stdout",
     "output_type": "stream",
     "text": [
      "roor_folder\n",
      "sub_folder\n",
      "file1\n",
      "file2\n",
      "file2\n"
     ]
    }
   ],
   "source": [
    "root.list_component()"
   ]
  },
  {
   "cell_type": "code",
   "execution_count": 56,
   "id": "39521328",
   "metadata": {},
   "outputs": [
    {
     "data": {
      "text/plain": [
       "60"
      ]
     },
     "execution_count": 56,
     "metadata": {},
     "output_type": "execute_result"
    }
   ],
   "source": [
    "root.get_size()"
   ]
  },
  {
   "cell_type": "code",
   "execution_count": null,
   "id": "c0bac446",
   "metadata": {},
   "outputs": [],
   "source": []
  },
  {
   "cell_type": "code",
   "execution_count": null,
   "id": "844881f2",
   "metadata": {},
   "outputs": [],
   "source": []
  },
  {
   "cell_type": "code",
   "execution_count": null,
   "id": "61ce9632",
   "metadata": {},
   "outputs": [],
   "source": []
  },
  {
   "cell_type": "code",
   "execution_count": null,
   "id": "0b70edfc",
   "metadata": {},
   "outputs": [],
   "source": []
  },
  {
   "cell_type": "code",
   "execution_count": null,
   "id": "04ad86a1",
   "metadata": {},
   "outputs": [],
   "source": []
  },
  {
   "cell_type": "code",
   "execution_count": null,
   "id": "4ff23556",
   "metadata": {},
   "outputs": [],
   "source": []
  },
  {
   "cell_type": "code",
   "execution_count": null,
   "id": "2bef02b6",
   "metadata": {},
   "outputs": [],
   "source": []
  },
  {
   "cell_type": "code",
   "execution_count": null,
   "id": "bddd82aa",
   "metadata": {},
   "outputs": [],
   "source": []
  },
  {
   "cell_type": "code",
   "execution_count": null,
   "id": "2cc75bc7",
   "metadata": {},
   "outputs": [],
   "source": []
  },
  {
   "cell_type": "code",
   "execution_count": null,
   "id": "f2970834",
   "metadata": {},
   "outputs": [],
   "source": []
  }
 ],
 "metadata": {
  "kernelspec": {
   "display_name": "Python 3 (ipykernel)",
   "language": "python",
   "name": "python3"
  },
  "language_info": {
   "codemirror_mode": {
    "name": "ipython",
    "version": 3
   },
   "file_extension": ".py",
   "mimetype": "text/x-python",
   "name": "python",
   "nbconvert_exporter": "python",
   "pygments_lexer": "ipython3",
   "version": "3.9.18"
  }
 },
 "nbformat": 4,
 "nbformat_minor": 5
}
