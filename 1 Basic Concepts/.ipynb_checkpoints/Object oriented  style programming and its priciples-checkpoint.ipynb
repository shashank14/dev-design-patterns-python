{
 "cells": [
  {
   "cell_type": "markdown",
   "id": "3a3962bd",
   "metadata": {},
   "source": [
    "### Object oriented  style programming and it's priciples"
   ]
  },
  {
   "cell_type": "code",
   "execution_count": 24,
   "id": "7ec92791",
   "metadata": {},
   "outputs": [],
   "source": [
    "# Definition:\n",
    "\n",
    "# We use programming to solve real-world problems, and it won’t make much sense if one can’t model\n",
    "# real-world scenarios using programming languages.\n",
    "# This is where object-oriented programming comes into play.\n",
    "\n",
    "# Object-oriented programming, also called OOP, is a programming model that is dependent\n",
    "# on the concept of objects and classes.\n",
    "\n",
    "# OOP is a programming style, not a tool, so despite being old, it’s vastly popular and established.\n",
    "# This programming style involves dividing a program into pieces of objects that can communicate \n",
    "# with each other. \n",
    "\n",
    "# Every object has its own unique set of properties. These properties are later\n",
    "# accessed and modified through the use of various operations.\n",
    "\n",
    "# Check out the illustration below.\n",
    "# It shows a real-life example of an employee record, where every employee can be\n",
    "# considered an “object”.\n",
    "\n",
    "# Since every employee has a name, age, salary, and designation, all these can be considered\n",
    "# as the properties of each employee."
   ]
  },
  {
   "cell_type": "code",
   "execution_count": null,
   "id": "6021008d",
   "metadata": {},
   "outputs": [],
   "source": []
  },
  {
   "cell_type": "code",
   "execution_count": 25,
   "id": "53b15783",
   "metadata": {},
   "outputs": [],
   "source": [
    "# Building blocks of OOP\n",
    "# The following are the essential concepts of object-oriented programming:\n",
    "# Attributes\n",
    "# Methods\n",
    "# Classes\n",
    "# Objects"
   ]
  },
  {
   "cell_type": "code",
   "execution_count": null,
   "id": "d67c93c0",
   "metadata": {},
   "outputs": [],
   "source": []
  },
  {
   "cell_type": "code",
   "execution_count": 26,
   "id": "7e57fa8e",
   "metadata": {},
   "outputs": [],
   "source": [
    "# Classes and objects\n",
    "# In the real world, we can find many objects around us like cars, \n",
    "# buildings, and humans. \n",
    "\n",
    "# What are the characteristics of these objects? \n",
    "# All these objects have some state and behavior.\n",
    "\n",
    "# Let's take an example of a calculator.\n",
    "\n",
    "# It has a state, i.e., either it is on or off.\n",
    "# It also has behaviors, \n",
    "# i.e., we can perform addition, subtraction, multiplication, division,\n",
    "# and many other operations on numbers.\n",
    "\n",
    "# Therefore, we can say that objects have state(s) and behavior(s).\n",
    "\n",
    "# Interesting, isn’t it? However, the question is, “where do the objects come from?”\n",
    "\n",
    "# The answer to the question above is classes. A class can be thought of as a blueprint for creating objects."
   ]
  },
  {
   "cell_type": "code",
   "execution_count": null,
   "id": "6b6dff80",
   "metadata": {},
   "outputs": [],
   "source": []
  },
  {
   "cell_type": "code",
   "execution_count": 27,
   "id": "342f72cc",
   "metadata": {},
   "outputs": [],
   "source": [
    "# Attributes\n",
    "# Attributes are variables that represent the state of the object.\n",
    "\n",
    "# In other words, if you were to implement the calculator object below in a computer program, \n",
    "# variables could represent its state."
   ]
  },
  {
   "cell_type": "code",
   "execution_count": null,
   "id": "2c03ea09",
   "metadata": {},
   "outputs": [],
   "source": []
  },
  {
   "cell_type": "code",
   "execution_count": null,
   "id": "fc389bc8",
   "metadata": {},
   "outputs": [],
   "source": []
  },
  {
   "cell_type": "code",
   "execution_count": 28,
   "id": "ef07e000",
   "metadata": {},
   "outputs": [],
   "source": [
    "# Methods\n",
    "# Methods are like functions that represent the behavior of the object.\n",
    "# In other words, if you were to implement the calculator object below in a computer program,\n",
    "# functions could represent its behavior. \n",
    "\n",
    "# Methods have access to a class's \n",
    "# attributes (and other methods). They can accept parameters, return values, and are used to perform an action \n",
    "# on an object of a class.\n",
    "\n",
    "# The illustration below shows what a Calculator class should look like:"
   ]
  },
  {
   "cell_type": "code",
   "execution_count": null,
   "id": "e77f1d33",
   "metadata": {},
   "outputs": [],
   "source": []
  },
  {
   "cell_type": "code",
   "execution_count": null,
   "id": "3053765d",
   "metadata": {},
   "outputs": [],
   "source": []
  },
  {
   "cell_type": "code",
   "execution_count": 29,
   "id": "51311675",
   "metadata": {},
   "outputs": [],
   "source": [
    "# Principles of OOP\n",
    "# The following are the four principles of object-oriented programming:\n",
    "\n",
    "# Encapsulation\n",
    "# Abstraction\n",
    "# Polymorphism\n",
    "# Inheritance"
   ]
  },
  {
   "cell_type": "code",
   "execution_count": null,
   "id": "d7e0c745",
   "metadata": {},
   "outputs": [],
   "source": []
  },
  {
   "cell_type": "markdown",
   "id": "4ddddedd",
   "metadata": {},
   "source": [
    "### 1st Principle"
   ]
  },
  {
   "cell_type": "code",
   "execution_count": null,
   "id": "58d189dc",
   "metadata": {},
   "outputs": [],
   "source": []
  },
  {
   "cell_type": "markdown",
   "id": "3d05f0e4",
   "metadata": {},
   "source": [
    "##### Encapsulation & Abstraction"
   ]
  },
  {
   "cell_type": "markdown",
   "id": "9c0df4d8",
   "metadata": {},
   "source": [
    "Encapsulation is a fundamental concept/principle in object-oriented programming (OOP). It refers to the bundling of data (attributes) and methods (functions) that operate on that data into a single unit, known as an object. \n",
    "\n",
    "Moreover, encapsulation involves restricting direct access to some of object's components, which is a means of preventing accidental interference and misuse of the methods and data.\n",
    "\n",
    "#### abstraction\n",
    "It refers to the concept of hiding the complex reality while exposing only the necessary parts.\n",
    "\n",
    "\n"
   ]
  },
  {
   "cell_type": "code",
   "execution_count": null,
   "id": "86249f98",
   "metadata": {},
   "outputs": [],
   "source": []
  },
  {
   "cell_type": "markdown",
   "id": "1f825049",
   "metadata": {},
   "source": [
    "Key aspects of encapsulation in OOP include:\n",
    "\n",
    "###### Data Hiding : \n",
    "One of the primary purposes of encapsulation is to hide the internal state of an object from the outside. This is typically done by making the data private or protected, meaning it can only be accessed and modified by methods within the same class or, in the case of protected data, by methods in derived classes.\n",
    "\n",
    "\n",
    "###### Accessors and Mutators:\n",
    "Access to private or protected data is often controlled through public methods known as accessors (getters) and mutators (setters). Accessors return the value of a private field, and mutators allow you to modify the value. This approach allows the internal implementation of the class to be changed without affecting other parts of the program that use the class.\n",
    "\n",
    "###### Modularity: \n",
    "Encapsulation supports the concept of modularity in programming, where different parts of a program can be developed, tested, and debugged independently before being combined into a larger system.\n",
    "\n",
    "\n",
    "Control over Data: By controlling how data is accessed or modified, encapsulation helps in maintaining the integrity of the data. It allows for validation checks or specific logic to be executed when data is read or written.\n",
    "\n",
    "Simplifying Complexities: Encapsulation allows complex operations to be packaged in an easy-to-use interface. Users of a class don't need to understand the detailed implementation in order to use its functionality.\n",
    "\n"
   ]
  },
  {
   "cell_type": "code",
   "execution_count": 1,
   "id": "db70a6ae",
   "metadata": {},
   "outputs": [
    {
     "name": "stdout",
     "output_type": "stream",
     "text": [
      "150\n",
      "130\n"
     ]
    }
   ],
   "source": [
    "class BankAccount:\n",
    "    def __init__(self, balance=0):\n",
    "        self._balance = balance  # Private attribute\n",
    "\n",
    "    def deposit(self, amount):\n",
    "        if amount > 0:\n",
    "            self._balance += amount\n",
    "\n",
    "    def withdraw(self, amount):\n",
    "        if 0 < amount <= self._balance:\n",
    "            self._balance -= amount\n",
    "            return amount\n",
    "        return 0\n",
    "\n",
    "    def get_balance(self):\n",
    "        return self._balance\n",
    "\n",
    "# Usage\n",
    "account = BankAccount(100)\n",
    "account.deposit(50)\n",
    "print(account.get_balance())  # 150\n",
    "account.withdraw(20)\n",
    "print(account.get_balance())  # 130\n"
   ]
  },
  {
   "cell_type": "markdown",
   "id": "ab925c60",
   "metadata": {},
   "source": [
    "### 2nd Principle"
   ]
  },
  {
   "cell_type": "code",
   "execution_count": null,
   "id": "e7c18aa9",
   "metadata": {},
   "outputs": [],
   "source": []
  },
  {
   "cell_type": "markdown",
   "id": "488c49da",
   "metadata": {},
   "source": [
    "#### Polymorphism"
   ]
  },
  {
   "cell_type": "markdown",
   "id": "acb5e5c6",
   "metadata": {},
   "source": [
    "\n",
    "Polymorphism is a core/principle concept in object-oriented programming (OOP) that refers to the ability of different objects to respond in their own way to the same method call. \n",
    "\n",
    "The term \"polymorphism\" comes from Greek words meaning \"many forms\". In OOP, it enables objects of different classes to be treated as objects of a common superclass."
   ]
  },
  {
   "cell_type": "code",
   "execution_count": null,
   "id": "a65a26be",
   "metadata": {},
   "outputs": [],
   "source": []
  },
  {
   "cell_type": "markdown",
   "id": "a452b26f",
   "metadata": {},
   "source": [
    "Key Characteristics of Polymorphism:\n",
    "\n",
    "##### Interface Inheritance:\n",
    "It allows different classes to implement the same interface, but each class can provide its own implementation of the interface.\n",
    "\n",
    "###### Flexibility and Reusability:\n",
    "Polymorphism promotes flexibility and code reusability. A single function can work on different types of objects, and new types can be introduced without changing the existing function.\n",
    "\n",
    "##### Decoupling:\n",
    "It helps in decoupling the code as it separates the implementation from the interface"
   ]
  },
  {
   "cell_type": "code",
   "execution_count": null,
   "id": "ab040635",
   "metadata": {},
   "outputs": [],
   "source": []
  },
  {
   "cell_type": "code",
   "execution_count": 5,
   "id": "b89b7145",
   "metadata": {},
   "outputs": [
    {
     "name": "stdout",
     "output_type": "stream",
     "text": [
      "50\n",
      "153.86\n"
     ]
    }
   ],
   "source": [
    "from abc import ABC, abstractmethod\n",
    "\n",
    "class Shape(ABC):\n",
    "    @abstractmethod\n",
    "    def area(self):\n",
    "        pass\n",
    "\n",
    "class Rectangle(Shape):\n",
    "    def __init__(self, width, height):\n",
    "        self.width = width\n",
    "        self.height = height\n",
    "\n",
    "    def area(self):\n",
    "        return self.width * self.height\n",
    "\n",
    "class Circle(Shape):\n",
    "    def __init__(self, radius):\n",
    "        self.radius = radius\n",
    "\n",
    "    def area(self):\n",
    "        return 3.14 * self.radius * self.radius\n",
    "\n",
    "# Function that works polymorphically with any Shape\n",
    "def print_area(shape):\n",
    "    print(shape.area())\n",
    "\n",
    "# Usage\n",
    "rectangle = Rectangle(10, 5)\n",
    "circle = Circle(7)\n",
    "\n",
    "print_area(rectangle)  # Output: 50\n",
    "print_area(circle)     # Output: approximately 153.86\n"
   ]
  },
  {
   "cell_type": "code",
   "execution_count": null,
   "id": "2efdb254",
   "metadata": {},
   "outputs": [],
   "source": []
  },
  {
   "cell_type": "markdown",
   "id": "cf4cb9b1",
   "metadata": {},
   "source": [
    "There are two primary types of polymorphism:\n",
    "#####  1 Compile-Time Polymorphism (Static Polymorphism):\n",
    "\n",
    "##### 2 Run-Time Polymorphism (Dynamic Polymorphism):\n"
   ]
  },
  {
   "cell_type": "markdown",
   "id": "38293b6a",
   "metadata": {},
   "source": [
    "\n",
    "\n",
    "##### Compile-Time Polymorphism (Static Polymorphism):\n",
    "This type of polymorphism is resolved during compile time. The most common example is method overloading, where multiple methods have the same name but different parameters within the same class.\n"
   ]
  },
  {
   "cell_type": "code",
   "execution_count": null,
   "id": "d1a3c324",
   "metadata": {},
   "outputs": [],
   "source": []
  },
  {
   "cell_type": "code",
   "execution_count": null,
   "id": "6f169758",
   "metadata": {},
   "outputs": [],
   "source": []
  },
  {
   "cell_type": "code",
   "execution_count": 1,
   "id": "af3d7519",
   "metadata": {},
   "outputs": [],
   "source": [
    "class Calculator:\n",
    "    # Function for adding two numbers\n",
    "    def add(self, a, b):\n",
    "        return a + b\n",
    "\n",
    "    # Function for adding three numbers\n",
    "    def add(self, a, b, c):\n",
    "        return a + b + c\n",
    "\n",
    "# Usage\n",
    "calc = Calculator()\n",
    "#print(calc.add(2, 3))        # Will result in an error in Python\n",
    "#print(calc.add(2, 3, 4))     # Outputs 9\n"
   ]
  },
  {
   "cell_type": "code",
   "execution_count": null,
   "id": "9367813e",
   "metadata": {},
   "outputs": [],
   "source": []
  },
  {
   "cell_type": "markdown",
   "id": "e012a8a6",
   "metadata": {},
   "source": [
    "##### Run-Time Polymorphism (Dynamic Polymorphism):\n",
    "This is when the method to be invoked is determined at runtime. It's typically achieved through method overriding, where a method in a subclass has the same signature as a method in the superclass.\n",
    "\n",
    "\n",
    "##### Method Overriding:\n",
    "In subclassing, a child class can override a method of its parent class. This is a form of runtime polymorphism."
   ]
  },
  {
   "cell_type": "code",
   "execution_count": 4,
   "id": "6f397e23",
   "metadata": {},
   "outputs": [
    {
     "name": "stdout",
     "output_type": "stream",
     "text": [
      "This animal makes a sound\n",
      "Dog barks\n"
     ]
    }
   ],
   "source": [
    "\n",
    "\n",
    "class Animal:\n",
    "    def speak(self):\n",
    "        return \"This animal makes a sound\"\n",
    "\n",
    "class Dog(Animal):\n",
    "    def speak(self):\n",
    "        return \"Dog barks\"\n",
    "\n",
    "# Creating instances\n",
    "generic_animal = Animal()\n",
    "buddy = Dog()\n",
    "\n",
    "# Calling the speak method on both objects\n",
    "print(generic_animal.speak())\n",
    "# Output: This animal makes a sound\n",
    "print(buddy.speak())\n",
    "# Output: Dog barks\n"
   ]
  },
  {
   "cell_type": "code",
   "execution_count": null,
   "id": "20e06f08",
   "metadata": {},
   "outputs": [],
   "source": []
  },
  {
   "cell_type": "markdown",
   "id": "2756b0f7",
   "metadata": {},
   "source": [
    "### 3rd principle"
   ]
  },
  {
   "cell_type": "code",
   "execution_count": null,
   "id": "53ddd004",
   "metadata": {},
   "outputs": [],
   "source": []
  },
  {
   "cell_type": "markdown",
   "id": "e9559db2",
   "metadata": {},
   "source": [
    "###### Inheritance"
   ]
  },
  {
   "cell_type": "markdown",
   "id": "a52310a1",
   "metadata": {},
   "source": [
    "Inheritance is a fundamental concept/principle in object-oriented programming (OOP) that enables a new class to inherit properties and methods from an existing class.\n",
    "This key feature of OOP allows for code reusability, polymorphism, and the establishment of hierarchical relationships between classes."
   ]
  },
  {
   "cell_type": "code",
   "execution_count": null,
   "id": "57d00238",
   "metadata": {},
   "outputs": [],
   "source": []
  },
  {
   "cell_type": "markdown",
   "id": "84148369",
   "metadata": {},
   "source": [
    "##### Key Aspects of Inheritance:\n",
    "##### Base Class (Superclass):\n",
    "This is the class from which properties and methods are inherited. It's often referred to as the parent class.\n",
    "\n",
    "##### Derived Class (Subclass):\n",
    "This class inherits from the base class. It can add its own properties and methods in addition to the inherited ones and can also modify (override) inherited methods. It's often referred to as the child class.\n",
    "\n",
    "##### Reusability: \n",
    "Inheritance promotes code reusability. Common functionality can be written in the base class and then reused in the derived classes.\n",
    "\n",
    "##### Extension:\n",
    "Subclasses can extend the functionality of the base class. This is often done by adding new methods or properties or by overriding existing methods to change their behavior.\n",
    "\n",
    "##### Hierarchical Classification:\n",
    "Inheritance can be used to create a hierarchical classification of classes. This can make it easier to understand and organize complex systems.\n",
    "\n"
   ]
  },
  {
   "cell_type": "code",
   "execution_count": null,
   "id": "6752764a",
   "metadata": {},
   "outputs": [],
   "source": []
  },
  {
   "cell_type": "code",
   "execution_count": 14,
   "id": "cfcdacc8",
   "metadata": {},
   "outputs": [
    {
     "name": "stdout",
     "output_type": "stream",
     "text": [
      "Buddy says Woof!\n",
      "Whiskers says Meow!\n"
     ]
    }
   ],
   "source": [
    "class Animal:\n",
    "    def __init__(self, name):\n",
    "        self.name = name\n",
    "\n",
    "    def speak(self):\n",
    "        pass\n",
    "\n",
    "class Dog(Animal):\n",
    "    def speak(self):\n",
    "        return f\"{self.name} says Woof!\"\n",
    "\n",
    "class Cat(Animal):\n",
    "    def speak(self):\n",
    "        return f\"{self.name} says Meow!\"\n",
    "\n",
    "# Usage\n",
    "dog = Dog(\"Buddy\")\n",
    "cat = Cat(\"Whiskers\")\n",
    "\n",
    "print(dog.speak())  # Outputs: Buddy says Woof!\n",
    "print(cat.speak())  # Outputs: Whiskers says Meow!\n"
   ]
  },
  {
   "cell_type": "code",
   "execution_count": null,
   "id": "33f23fc5",
   "metadata": {},
   "outputs": [],
   "source": []
  },
  {
   "cell_type": "markdown",
   "id": "5a60d00f",
   "metadata": {},
   "source": [
    "##### Explanation:\n",
    "Animal (Base Class): Defines a general blueprint for animals. It includes a constructor to set the name and a generic speak method.\n",
    "\n",
    "Dog and Cat (Derived Classes): These classes inherit from Animal. They override the speak method to provide behavior specific to dogs and cats.\n",
    "\n",
    "This example demonstrates how Dog and Cat inherit the properties and methods from Animal. They reuse the __init__ method from Animal and provide their own implementation of the speak method.\n",
    "This illustrates how inheritance facilitates code reuse and allows for the creation of a class hierarchy where subclasses can specialize the behavior of the base class."
   ]
  },
  {
   "cell_type": "code",
   "execution_count": null,
   "id": "72e6bcdd",
   "metadata": {},
   "outputs": [],
   "source": []
  },
  {
   "cell_type": "markdown",
   "id": "5d73d9ae",
   "metadata": {},
   "source": [
    "##### has-a a relation "
   ]
  },
  {
   "cell_type": "markdown",
   "id": "113c6daa",
   "metadata": {},
   "source": [
    "\n",
    "In object-oriented programming, \"has-a\" relationships represent associations between classes.\n",
    "\n",
    "###### They can be categorized into two main types:\n",
    "aggregation and composition. \n",
    "\n",
    "Both aggregation and composition are forms of association where one class is a \"part\" of another class, but they differ in the degree of their relationship.\n",
    "\n",
    "###### Aggregation:\n",
    "Aggregation is a form of association where the child can exist independently of the parent. It represents a \"has-a\" relationship with weaker coupling. In aggregation, the lifecycle of the child is not managed by the parent.\n",
    "\n",
    "##### Composition:\n",
    "is a fundamental concept in object-oriented programming (OOP) that defines a strong \"part-whole\" relationship between two classes, with strictly coupled lifecycles. In composition, one class (the composite or whole) contains an object of another class (the component or part) and controls its lifecycle."
   ]
  },
  {
   "cell_type": "code",
   "execution_count": null,
   "id": "f087d5cd",
   "metadata": {},
   "outputs": [],
   "source": []
  },
  {
   "cell_type": "code",
   "execution_count": null,
   "id": "f1854a03",
   "metadata": {},
   "outputs": [],
   "source": []
  },
  {
   "cell_type": "markdown",
   "id": "0c10b20d",
   "metadata": {},
   "source": [
    "###### Composition:\n",
    "Aggregation is a form of association where the child cannot exist independently of the parent. It represents a \"has-a\" relationship with tight coupling. In Composition, the lifecycle of the child is managed by the parent."
   ]
  },
  {
   "cell_type": "code",
   "execution_count": null,
   "id": "3ce13898",
   "metadata": {},
   "outputs": [],
   "source": []
  },
  {
   "cell_type": "markdown",
   "id": "35bf801f",
   "metadata": {},
   "source": [
    "##### Composition Example"
   ]
  },
  {
   "cell_type": "code",
   "execution_count": 17,
   "id": "b5ecc1ae",
   "metadata": {},
   "outputs": [
    {
     "name": "stdout",
     "output_type": "stream",
     "text": [
      "TechCorp, Address: 123 Tech Ave, Techville, 12345\n",
      "John Doe, Address: 456 Elm St, Springfield, 67890\n"
     ]
    }
   ],
   "source": [
    "class Address:\n",
    "    def __init__(self, street, city, zip_code):\n",
    "        self.street = street\n",
    "        self.city = city\n",
    "        self.zip_code = zip_code\n",
    "\n",
    "    def __str__(self):\n",
    "        return f\"{self.street}, {self.city}, {self.zip_code}\"\n",
    "\n",
    "class Company:\n",
    "    def __init__(self, name, street, city, zip_code):\n",
    "        self.name = name\n",
    "        self.address = Address(street, city, zip_code)\n",
    "\n",
    "    def __str__(self):\n",
    "        return f\"{self.name}, Address: {self.address}\"\n",
    "\n",
    "class Person:\n",
    "    def __init__(self, name, street, city, zip_code):\n",
    "        self.name = name\n",
    "        self.address = Address(street, city, zip_code)\n",
    "\n",
    "    def __str__(self):\n",
    "        return f\"{self.name}, Address: {self.address}\"\n",
    "\n",
    "# Usage\n",
    "company = Company(\"TechCorp\", \"123 Tech Ave\", \"Techville\", \"12345\")\n",
    "person = Person(\"John Doe\", \"456 Elm St\", \"Springfield\", \"67890\")\n",
    "\n",
    "print(company)  # TechCorp, Address: 123 Tech Ave, Techville, 12345\n",
    "print(person)   # John Doe, Address: 456 Elm St, Springfield, 67890\n"
   ]
  },
  {
   "cell_type": "markdown",
   "id": "e29df112",
   "metadata": {},
   "source": [
    "The example I provided is actually more representative of composition rather than aggregation, and here's why:"
   ]
  },
  {
   "cell_type": "markdown",
   "id": "82d911df",
   "metadata": {},
   "source": [
    "Composition in the Example:\n",
    "###### Lifecycle Dependency:\n",
    "In the given example, the Address instances are created within the Company and Person constructors. \n",
    "Therefore, each Address instance is tied to the specific lifecycle of the Company or Person object that created it. If the Company or Person object is destroyed, its Address object no longer has any meaning or use. This lifecycle dependency is a key characteristic of composition.\n",
    "\n",
    "#### Ownership:\n",
    "Both Company and Person classes \"own\" their Address instance. They are responsible for its creation and lifecycle, and the Address is not meant to be shared with other objects. This ownership is another important aspect of composition.\n",
    "\n",
    "\n",
    "\n",
    "\n",
    "\n",
    "\n",
    "\n"
   ]
  },
  {
   "cell_type": "code",
   "execution_count": null,
   "id": "50632668",
   "metadata": {},
   "outputs": [],
   "source": []
  },
  {
   "cell_type": "code",
   "execution_count": null,
   "id": "5227a4a1",
   "metadata": {},
   "outputs": [],
   "source": []
  },
  {
   "cell_type": "markdown",
   "id": "eac649e0",
   "metadata": {},
   "source": [
    "#### Aggregation"
   ]
  },
  {
   "cell_type": "markdown",
   "id": "7430a9b4",
   "metadata": {},
   "source": [
    "\n",
    "Aggregation in object-oriented programming represents a \"has-a\" relationship between two classes, but unlike composition, it's a weaker association. In an aggregation relationship, the child can exist independently of the parent. This means that if the parent is destroyed, the child object can continue to exist.\n",
    "\n",
    "Example: Library and Books\n",
    "Consider a Library class and a Book class. A library has books, but the books can exist outside of the library. This relationship is an example of aggregation.\n",
    "\n",
    "Python Code for Aggregation Example:"
   ]
  },
  {
   "cell_type": "code",
   "execution_count": null,
   "id": "32a07d5f",
   "metadata": {},
   "outputs": [],
   "source": []
  },
  {
   "cell_type": "markdown",
   "id": "08008b59",
   "metadata": {},
   "source": [
    "###### Aggregation"
   ]
  },
  {
   "cell_type": "code",
   "execution_count": 3,
   "id": "0608621d",
   "metadata": {},
   "outputs": [
    {
     "name": "stdout",
     "output_type": "stream",
     "text": [
      "Library with books: 1984, To Kill a Mockingbird\n"
     ]
    }
   ],
   "source": [
    "class Book:\n",
    "    def __init__(self, title):\n",
    "        self.title = title\n",
    "\n",
    "    def __str__(self):\n",
    "        return self.title\n",
    "\n",
    "class Library:\n",
    "    def __init__(self):\n",
    "        self.books = []\n",
    "\n",
    "    def add_book(self, book):\n",
    "        self.books.append(book)\n",
    "\n",
    "    def __str__(self):\n",
    "        book_titles = ', '.join(book.title for book in self.books)\n",
    "        return f\"Library with books: {book_titles}\"\n",
    "\n",
    "# Usage\n",
    "book1 = Book(\"1984\")\n",
    "book2 = Book(\"To Kill a Mockingbird\")\n",
    "\n",
    "library = Library()\n",
    "library.add_book(book1)\n",
    "library.add_book(book2)\n",
    "\n",
    "print(library)  # Library with books: 1984, To Kill a Mockingbird\n"
   ]
  },
  {
   "cell_type": "markdown",
   "id": "10d8548d",
   "metadata": {},
   "source": [
    "Explanation:\n",
    "Book (Child Class): Represents a book. It's a standalone class that doesn't depend on the Library class. Books can exist without being part of a library.\n",
    "\n",
    "Library (Parent Class): Contains a list of Book objects. It aggregates Book objects but does not manage their lifecycles. If the Library is destroyed, the Book objects can continue to exist."
   ]
  },
  {
   "cell_type": "code",
   "execution_count": null,
   "id": "42f28186",
   "metadata": {},
   "outputs": [],
   "source": []
  },
  {
   "cell_type": "markdown",
   "id": "56490001",
   "metadata": {},
   "source": [
    "###### Aggregation vs. Composition:\n",
    "Aggregation implies a relationship where the child can exist independently of the parent. For example, a Department and Professor relationship would be an aggregation if professors can belong to multiple departments or none at all.\n",
    "\n",
    "Composition implies a stronger relationship where the child is dependent on the parent. In the provided example, the Address does not have any meaningful existence outside of a Company or Person.\n",
    "\n",
    "In real-world scenarios, an address might be shared (e.g., multiple people living at the same address or a person having the same address as a company), which would lean more towards aggregation. However, as modeled in the provided example where each Company and Person has its own distinct Address object not shared with others, it aligns more closely with the principles of composition.\n"
   ]
  },
  {
   "cell_type": "markdown",
   "id": "52e9e27a",
   "metadata": {},
   "source": []
  }
 ],
 "metadata": {
  "kernelspec": {
   "display_name": "Python 3 (ipykernel)",
   "language": "python",
   "name": "python3"
  },
  "language_info": {
   "codemirror_mode": {
    "name": "ipython",
    "version": 3
   },
   "file_extension": ".py",
   "mimetype": "text/x-python",
   "name": "python",
   "nbconvert_exporter": "python",
   "pygments_lexer": "ipython3",
   "version": "3.9.18"
  }
 },
 "nbformat": 4,
 "nbformat_minor": 5
}
