{
 "cells": [
  {
   "cell_type": "code",
   "execution_count": 1,
   "id": "00ce7870-c35d-46ee-bc27-80b35f22ccdc",
   "metadata": {},
   "outputs": [],
   "source": [
    "## What is Dependency Injection?"
   ]
  },
  {
   "cell_type": "markdown",
   "id": "19fa54af-0c36-4e0c-a326-a1e3831f62e3",
   "metadata": {},
   "source": [
    "What is Dependency Injection?\n",
    "\n",
    "\n",
    "Dependency Injection (DI) is a design pattern in which an object's dependencies (the other objects it depends on) are injected into it, rather than the object creating the dependencies itself. This pattern allows for better separation of concerns, making the code more modular, testable, and maintainable."
   ]
  },
  {
   "cell_type": "code",
   "execution_count": null,
   "id": "5fc889f4-fb8f-44cb-bf57-1a27502e5aae",
   "metadata": {},
   "outputs": [],
   "source": []
  },
  {
   "cell_type": "markdown",
   "id": "22d78682-4fdb-4790-922a-829314a19ea7",
   "metadata": {},
   "source": [
    "Advantages of Dependency Injection with Respect to OOP and SOLID Principles\n",
    "Separation of Concerns: DI allows you to separate the creation of dependencies from the business logic,\n",
    "leading to cleaner and more modular code.\n"
   ]
  },
  {
   "cell_type": "code",
   "execution_count": null,
   "id": "5e38c764-7f5d-4cfd-a5d5-699607eeb943",
   "metadata": {},
   "outputs": [],
   "source": []
  },
  {
   "cell_type": "markdown",
   "id": "731ace8c-1a4e-4950-aafc-0d38d3159c18",
   "metadata": {},
   "source": [
    "### Testability:\n",
    "By injecting dependencies, you can easily replace real dependencies with mocks or stubs, making unit testing straightforward.\n",
    "\n",
    "### Flexibility and Configurability: \n",
    "Dependencies can be easily swapped without changing the dependent class, making the system more flexible.\n",
    "## Adherence to SOLID Principles:\n",
    "#### Single Responsibility Principle (SRP):\n",
    "\n",
    "Classes have only one reason to change, as the responsibility of creating dependencies is separated.\n",
    "#### Open/Closed Principle (OCP):\n",
    "Classes are open for extension but closed for modification. You can change dependencies without modifying the classes that use them.\n",
    "#### Liskov Substitution Principle (LSP):\n",
    "DI allows the use of interfaces or abstract classes, enabling polymorphism.\n",
    "#### Interface Segregation Principle (ISP):\n",
    "Clients depend on specific interfaces, not concrete implementations.\n",
    "#### Dependency Inversion Principle (DIP): \n",
    "High-level modules do not depend on low-level modules; both depend on abstractions."
   ]
  },
  {
   "cell_type": "code",
   "execution_count": null,
   "id": "6d9d5a00-3fe3-40e0-84cd-b77f46da6320",
   "metadata": {},
   "outputs": [],
   "source": []
  },
  {
   "cell_type": "markdown",
   "id": "2a74c51b-6a81-4e38-9458-cd987c72b738",
   "metadata": {},
   "source": [
    "Code Example in Python\n",
    "Let's demonstrate DI with a simple example involving a Service class and a Client class.\n",
    "\n",
    "Without Dependency Injection"
   ]
  },
  {
   "cell_type": "code",
   "execution_count": null,
   "id": "462c555d-f1fa-46d6-8a06-e1ae4fa28c43",
   "metadata": {},
   "outputs": [],
   "source": []
  },
  {
   "cell_type": "code",
   "execution_count": 2,
   "id": "1936080f-f044-4e41-a883-14b95958fde0",
   "metadata": {},
   "outputs": [
    {
     "name": "stdout",
     "output_type": "stream",
     "text": [
      "Service is being performed\n"
     ]
    }
   ],
   "source": [
    "class Service:\n",
    "    def perform_service(self):\n",
    "        return \"Service is being performed\"\n",
    "\n",
    "class Client:\n",
    "    def __init__(self):\n",
    "        self.service = Service()\n",
    "\n",
    "    def do_something(self):\n",
    "        return self.service.perform_service()\n",
    "\n",
    "client = Client()\n",
    "print(client.do_something())\n"
   ]
  },
  {
   "cell_type": "code",
   "execution_count": null,
   "id": "edb4491a-4e4f-41b6-bd5e-0f3c687c544d",
   "metadata": {},
   "outputs": [],
   "source": []
  },
  {
   "cell_type": "code",
   "execution_count": null,
   "id": "6665b853-f781-4c30-843f-2397a7742110",
   "metadata": {},
   "outputs": [],
   "source": [
    "In this example, Client is tightly coupled to Service, making it difficult to test and maintain.\n",
    "\n",
    "With Dependency Injection"
   ]
  },
  {
   "cell_type": "code",
   "execution_count": null,
   "id": "6beafbe1-a52b-43b6-9e0e-587bf9e21c22",
   "metadata": {},
   "outputs": [],
   "source": []
  },
  {
   "cell_type": "code",
   "execution_count": 3,
   "id": "29c2416d-fdb7-40da-a489-41c659fd65b9",
   "metadata": {},
   "outputs": [
    {
     "name": "stdout",
     "output_type": "stream",
     "text": [
      "Service is being performed\n"
     ]
    }
   ],
   "source": [
    "class Service:\n",
    "    def perform_service(self):\n",
    "        return \"Service is being performed\"\n",
    "\n",
    "class Client:\n",
    "    def __init__(self, service):\n",
    "        self.service = service\n",
    "\n",
    "    def do_something(self):\n",
    "        return self.service.perform_service()\n",
    "\n",
    "# Using Dependency Injection\n",
    "service = Service()\n",
    "client = Client(service)\n",
    "print(client.do_something())\n"
   ]
  },
  {
   "cell_type": "code",
   "execution_count": null,
   "id": "18eabbdf-0a46-4b60-9a99-8d127f28b56b",
   "metadata": {},
   "outputs": [],
   "source": []
  },
  {
   "cell_type": "markdown",
   "id": "7230800d-3fe5-442a-b04d-6040c245d301",
   "metadata": {},
   "source": [
    "Now, Client depends on an abstraction rather than a concrete implementation. This makes the code more flexible and easier to test.\n",
    "\n",
    "Using Dependency Injection with an Interface (Protocol)\n",
    "To better adhere to the DIP, we can use Python's Protocol from the typing module to define an interface for the service:"
   ]
  },
  {
   "cell_type": "code",
   "execution_count": null,
   "id": "ca72f016-fa5d-4587-8430-db49d855383a",
   "metadata": {},
   "outputs": [],
   "source": []
  },
  {
   "cell_type": "code",
   "execution_count": null,
   "id": "45d64f9f-d239-4a38-8332-6aef28515f6a",
   "metadata": {},
   "outputs": [],
   "source": []
  },
  {
   "cell_type": "code",
   "execution_count": null,
   "id": "562b171d-7979-4e75-aba4-a06739e33823",
   "metadata": {},
   "outputs": [],
   "source": []
  },
  {
   "cell_type": "code",
   "execution_count": null,
   "id": "2c9251d7-7b6b-43e5-89ea-cadef2407796",
   "metadata": {},
   "outputs": [],
   "source": []
  }
 ],
 "metadata": {
  "kernelspec": {
   "display_name": "Python 3 (ipykernel)",
   "language": "python",
   "name": "python3"
  },
  "language_info": {
   "codemirror_mode": {
    "name": "ipython",
    "version": 3
   },
   "file_extension": ".py",
   "mimetype": "text/x-python",
   "name": "python",
   "nbconvert_exporter": "python",
   "pygments_lexer": "ipython3",
   "version": "3.12.3"
  }
 },
 "nbformat": 4,
 "nbformat_minor": 5
}
