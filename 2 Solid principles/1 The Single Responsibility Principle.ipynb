{
 "cells": [
  {
   "cell_type": "markdown",
   "id": "844541a4",
   "metadata": {},
   "source": [
    "###### The Single Responsibility Principle"
   ]
  },
  {
   "cell_type": "markdown",
   "id": "a4d623d2",
   "metadata": {},
   "source": [
    "The Single Responsibility Principle (SRP) is one of the SOLID principles of object-oriented design, which states that a class should have only one reason to change. This means that a class should only have one job or responsibility.\n",
    "\n",
    "Single Responsibility Principle: Fighter Jet Example\n",
    "Let's apply the Single Responsibility Principle to a fighter jet example. We'll create different classes, each responsible for a specific aspect of the fighter jet's functionality."
   ]
  },
  {
   "cell_type": "code",
   "execution_count": null,
   "id": "87644d8f",
   "metadata": {},
   "outputs": [],
   "source": []
  },
  {
   "cell_type": "code",
   "execution_count": 5,
   "id": "f457baf4",
   "metadata": {},
   "outputs": [
    {
     "name": "stdout",
     "output_type": "stream",
     "text": [
      "Operating jet engine.\n",
      "Loading weapons.\n",
      "Aiming weapons.\n",
      "Firing weapons.\n"
     ]
    }
   ],
   "source": [
    "class FighterJet:\n",
    "    def __init__(self, engine, weapon_system):\n",
    "        self.engine = engine\n",
    "        self.weapon_system = weapon_system\n",
    "\n",
    "    def fly(self):\n",
    "        return self.engine.operate()\n",
    "    \n",
    "    def load(self):\n",
    "        return self.weapon_system.load()\n",
    "    \n",
    "    def aim(self):\n",
    "        return self.weapon_system.aim()\n",
    "    \n",
    "    def fire(self):\n",
    "        return self.weapon_system.fire()\n",
    "\n",
    "class Engine:\n",
    "    def operate(self):\n",
    "        return \"Operating jet engine.\"\n",
    "\n",
    "class WeaponSystem:\n",
    "    def load(self):\n",
    "        return \"Loading weapons.\"\n",
    "\n",
    "    def aim(self):\n",
    "        return \"Aiming weapons.\"\n",
    "\n",
    "    def fire(self):\n",
    "        return \"Firing weapons.\"\n",
    "\n",
    "# Usage\n",
    "engine = Engine()\n",
    "weapon = WeaponSystem()\n",
    "\n",
    "fighter_jet = FighterJet(engine, weapon)\n",
    "\n",
    "print(fighter_jet.fly())  # Responsibility: Flying the jet\n",
    "print(fighter_jet.load()) # Responsibility: Loading weapons\n",
    "print(fighter_jet.aim()) # Responsibility: Aiming weapons\n",
    "print(fighter_jet.fire()) # Responsibility: Firing weapons\n",
    "\n"
   ]
  },
  {
   "cell_type": "code",
   "execution_count": null,
   "id": "d80a6a68",
   "metadata": {},
   "outputs": [],
   "source": []
  },
  {
   "cell_type": "markdown",
   "id": "f0e9733f",
   "metadata": {},
   "source": [
    "#### Explanation:\n",
    "\n",
    "\n",
    "##### FighterJet Class: \n",
    "\n",
    "Responsible for the overall management of the fighter jet. It delegates specific tasks (like operating the engine and managing the weapon system) to other classes.\n",
    "\n",
    "###### Engine Class:\n",
    "Responsible for all engine-related operations. Its sole reason to change would be if something about the engine's operation needs to be altered.\n",
    "\n",
    "###### WeaponSystem Class:\n",
    "Responsible for managing the weapons. This includes loading, aiming, and firing the weapons. Any change in how the weapon system operates would only affect this class.\n",
    "\n",
    "In this example, each class has a single responsibility, and therefore only one reason to change. The FighterJet class is not concerned with how the engine operates or how the weapons are managed; it simply uses these functionalities. Similarly, the Engine and WeaponSystem classes are focused on their respective areas.\n",
    "\n",
    "\n",
    "#### points\n",
    "Following the Single Responsibility Principle helps in making the code more maintainable and understandable.\n",
    "\n",
    "Each class has a clearly defined role, making it easier to manage and modify the code in the future.\n",
    "Changes in one part of the system are less likely to impact other parts, reducing the risk of bugs and unintended consequences when modifications are made."
   ]
  },
  {
   "cell_type": "code",
   "execution_count": null,
   "id": "87f228e4",
   "metadata": {},
   "outputs": [],
   "source": []
  },
  {
   "cell_type": "code",
   "execution_count": null,
   "id": "f5b3c880",
   "metadata": {},
   "outputs": [],
   "source": []
  },
  {
   "cell_type": "code",
   "execution_count": null,
   "id": "c72c33a7",
   "metadata": {},
   "outputs": [],
   "source": []
  },
  {
   "cell_type": "code",
   "execution_count": null,
   "id": "251e5101",
   "metadata": {},
   "outputs": [],
   "source": []
  },
  {
   "cell_type": "code",
   "execution_count": null,
   "id": "d420f0ea",
   "metadata": {},
   "outputs": [],
   "source": []
  },
  {
   "cell_type": "code",
   "execution_count": null,
   "id": "fe6b50f5",
   "metadata": {},
   "outputs": [],
   "source": []
  }
 ],
 "metadata": {
  "kernelspec": {
   "display_name": "Python 3 (ipykernel)",
   "language": "python",
   "name": "python3"
  },
  "language_info": {
   "codemirror_mode": {
    "name": "ipython",
    "version": 3
   },
   "file_extension": ".py",
   "mimetype": "text/x-python",
   "name": "python",
   "nbconvert_exporter": "python",
   "pygments_lexer": "ipython3",
   "version": "3.9.18"
  }
 },
 "nbformat": 4,
 "nbformat_minor": 5
}
