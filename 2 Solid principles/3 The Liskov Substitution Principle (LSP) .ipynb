{
 "cells": [
  {
   "cell_type": "markdown",
   "id": "d421edeb",
   "metadata": {},
   "source": [
    "###### The Liskov Substitution Principle (LSP) "
   ]
  },
  {
   "cell_type": "markdown",
   "id": "b3539750",
   "metadata": {},
   "source": [
    "The Liskov Substitution Principle (LSP) is a concept in object-oriented programming that forms a part of the SOLID principles. It states that objects of a superclass should be replaceable with objects of its subclasses without affecting the correctness of the program. In other words, a subclass should override the parent class methods in a way that does not break functionality from a client's point of view.\n"
   ]
  },
  {
   "cell_type": "code",
   "execution_count": null,
   "id": "def509bc",
   "metadata": {},
   "outputs": [],
   "source": []
  },
  {
   "cell_type": "markdown",
   "id": "445c7099",
   "metadata": {},
   "source": [
    "Example: Geometric Shapes\n",
    "Let's illustrate LSP with an example involving geometric shapes, specifically rectangles and squares.\n",
    "\n",
    "Base Class: Rectangle"
   ]
  },
  {
   "cell_type": "code",
   "execution_count": 2,
   "id": "ddc0bdcd",
   "metadata": {},
   "outputs": [
    {
     "name": "stdout",
     "output_type": "stream",
     "text": [
      "12\n",
      "49\n"
     ]
    }
   ],
   "source": [
    "class Rectangle:\n",
    "    def __init__(self, width, height):\n",
    "        self._width = width\n",
    "        self._height = height\n",
    "\n",
    "    @property\n",
    "    def width(self):\n",
    "        return self._width\n",
    "\n",
    "    @width.setter\n",
    "    def width(self, value):\n",
    "        self._width = value\n",
    "\n",
    "    @property\n",
    "    def height(self):\n",
    "        return self._height\n",
    "\n",
    "    @height.setter\n",
    "    def height(self, value):\n",
    "        self._height = value\n",
    "\n",
    "    def area(self):\n",
    "        return self._width * self._height\n",
    "    \n",
    "    \n",
    "# Subclass: Square\n",
    "# A common misunderstanding is to make Square a subclass of Rectangle, given that a square is a rectangle \n",
    "# with equal sides. However, this relationship violates LSP because changing the width or height of a Square \n",
    "# should change both dimensions, which doesn't hold true for a general Rectangle.\n",
    "\n",
    "class Square(Rectangle):\n",
    "    def __init__(self, size):\n",
    "        super().__init__(size, size)\n",
    "\n",
    "    @Rectangle.width.setter\n",
    "    def width(self, value):\n",
    "        self._width = self._height = value\n",
    "\n",
    "    @Rectangle.height.setter\n",
    "    def height(self, value):\n",
    "        self._width = self._height = value\n",
    "\n",
    "def set_dimensions_and_calculate_area(rectangle, width, height):\n",
    "    rectangle.width = width\n",
    "    rectangle.height = height\n",
    "    return rectangle.area()\n",
    "\n",
    "# Correct usage with a Rectangle\n",
    "rectangle = Rectangle(2, 3)\n",
    "print(set_dimensions_and_calculate_area(rectangle, 3, 4))  # Outputs: 12\n",
    "\n",
    "# Incorrect usage with a Square (violates LSP)\n",
    "square = Square(5)\n",
    "print(set_dimensions_and_calculate_area(square, 4, 7))  # Outputs: 49, which is incorrect for a square\n"
   ]
  },
  {
   "cell_type": "code",
   "execution_count": null,
   "id": "63f89963",
   "metadata": {},
   "outputs": [],
   "source": []
  },
  {
   "cell_type": "markdown",
   "id": "14e1c7e7",
   "metadata": {},
   "source": [
    "###### Explanation:\n",
    "Rectangle Class: Represents a rectangle with independent width and height.\n",
    "\n",
    "###### Square Class:\n",
    "Inherits from Rectangle. The setters for width and height are overridden to ensure both dimensions are always equal. This is where the LSP is violated because setting width and height independently on a square (as you would with a rectangle) leads to unexpected behavior.\n",
    "\n",
    "###### set_dimensions_and_calculate_area Function:\n",
    "Accepts a Rectangle object and sets its dimensions. When a Square object is used instead, it violates the LSP, as seen in the example output.\n",
    "\n",
    "This example is a classic case used to demonstrate the LSP. In a correctly designed system adhering to LSP, the Square should not inherit from the Rectangle if changing its width and height independently causes the object to behave in ways not consistent with a rectangle.\n",
    "\n",
    "\n",
    "Instead, Square and Rectangle could be derived from a common base class or interface, or they could be separate classes without an inheritance relationship."
   ]
  },
  {
   "cell_type": "code",
   "execution_count": null,
   "id": "c1b8e162",
   "metadata": {},
   "outputs": [],
   "source": []
  },
  {
   "cell_type": "code",
   "execution_count": null,
   "id": "ec29a94c",
   "metadata": {},
   "outputs": [],
   "source": []
  },
  {
   "cell_type": "code",
   "execution_count": null,
   "id": "94efd00c",
   "metadata": {},
   "outputs": [],
   "source": []
  },
  {
   "cell_type": "code",
   "execution_count": null,
   "id": "726baa28",
   "metadata": {},
   "outputs": [],
   "source": []
  },
  {
   "cell_type": "code",
   "execution_count": null,
   "id": "42ff9ff1",
   "metadata": {},
   "outputs": [],
   "source": []
  },
  {
   "cell_type": "code",
   "execution_count": null,
   "id": "0c56853c",
   "metadata": {},
   "outputs": [],
   "source": []
  },
  {
   "cell_type": "code",
   "execution_count": null,
   "id": "ec1462ad",
   "metadata": {},
   "outputs": [],
   "source": []
  },
  {
   "cell_type": "markdown",
   "id": "fb27a352",
   "metadata": {},
   "source": [
    "##### Explanation:\n",
    "\n",
    "###### Violation of LSP: \n",
    "In this example, substituting a Rectangle object with a Square object leads to unexpected behavior. \n",
    "Setting the width and height independently for a square doesn't make sense as it violates the definition of a square.\n",
    "\n",
    "\n",
    "###### Consequence:\n",
    "\n",
    "This violation leads to incorrect behavior when Square objects are used in contexts designed for Rectangle objects.\n",
    "\n",
    "\n",
    "##### Correct Approach Following LSP:\n",
    "To adhere to LSP, Square and Rectangle should not have an inheritance relationship if their behaviors are fundamentally different in certain contexts. They could implement a common interface or be completely separate classes without a parent-child relationship.\n",
    "\n",
    "The Liskov Substitution Principle is crucial for designing robust systems. It ensures that extending the system through inheritance won't introduce errors or unexpected behavior, preserving the correctness of the program.\n",
    "\n",
    "\n"
   ]
  },
  {
   "cell_type": "code",
   "execution_count": null,
   "id": "0859e6da",
   "metadata": {},
   "outputs": [],
   "source": []
  },
  {
   "cell_type": "code",
   "execution_count": null,
   "id": "9b58b67b",
   "metadata": {},
   "outputs": [],
   "source": []
  }
 ],
 "metadata": {
  "kernelspec": {
   "display_name": "Python 3 (ipykernel)",
   "language": "python",
   "name": "python3"
  },
  "language_info": {
   "codemirror_mode": {
    "name": "ipython",
    "version": 3
   },
   "file_extension": ".py",
   "mimetype": "text/x-python",
   "name": "python",
   "nbconvert_exporter": "python",
   "pygments_lexer": "ipython3",
   "version": "3.9.18"
  }
 },
 "nbformat": 4,
 "nbformat_minor": 5
}
