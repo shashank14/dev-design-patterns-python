{
 "cells": [
  {
   "cell_type": "markdown",
   "id": "12b99912",
   "metadata": {},
   "source": [
    "\n",
    "###### The Interface Segregation Principle"
   ]
  },
  {
   "cell_type": "markdown",
   "id": "dbbd18fb",
   "metadata": {},
   "source": [
    "\n",
    "The Interface Segregation Principle (ISP) is one of the SOLID principles of object-oriented design and it states that no client should be forced to depend on methods it does not use. It encourages the segregation of larger interfaces into smaller and more specific ones so that clients only need to know/use about the methods that are of interest to them."
   ]
  },
  {
   "cell_type": "code",
   "execution_count": null,
   "id": "73b83032",
   "metadata": {},
   "outputs": [],
   "source": []
  },
  {
   "cell_type": "markdown",
   "id": "cffbd21a",
   "metadata": {},
   "source": [
    "### Example: Multi-Function Printer\n",
    "Suppose we have a multi-function printer that can print, scan, and fax. Instead of having one large interface, we segregate the functionalities into specific interfaces.\n",
    "\n",
    "Segregated Interfaces"
   ]
  },
  {
   "cell_type": "code",
   "execution_count": null,
   "id": "991b7d4e",
   "metadata": {},
   "outputs": [],
   "source": []
  },
  {
   "cell_type": "code",
   "execution_count": 1,
   "id": "524a2bec",
   "metadata": {},
   "outputs": [],
   "source": [
    "from abc import ABC, abstractmethod\n",
    "\n",
    "class IPrinter(ABC):\n",
    "    @abstractmethod\n",
    "    def print_document(self, document):\n",
    "        pass\n",
    "\n",
    "class IScanner(ABC):\n",
    "    @abstractmethod\n",
    "    def scan_document(self, document):\n",
    "        pass\n",
    "\n",
    "class IFax(ABC):\n",
    "    @abstractmethod\n",
    "    def fax_document(self, document):\n",
    "        pass\n",
    "\n",
    "    \n",
    "class IPhone(ABC):\n",
    "    @abstractmethod\n",
    "    def call(self, document):\n",
    "        pass\n"
   ]
  },
  {
   "cell_type": "code",
   "execution_count": null,
   "id": "d3751c37",
   "metadata": {},
   "outputs": [],
   "source": []
  },
  {
   "cell_type": "markdown",
   "id": "bb1b251b",
   "metadata": {},
   "source": [
    "##### Concrete Implementations\n",
    "Now, we can create concrete classes that implement these interfaces. This way, a class that only needs printing functionality, for example, doesn't need to implement scanning or faxing methods."
   ]
  },
  {
   "cell_type": "code",
   "execution_count": null,
   "id": "842f532e",
   "metadata": {},
   "outputs": [],
   "source": []
  },
  {
   "cell_type": "code",
   "execution_count": 6,
   "id": "f9359249",
   "metadata": {},
   "outputs": [],
   "source": [
    "class Printer(IPrinter):\n",
    "    def print_document(self, document):\n",
    "        print(f\"Printing: {document}\")\n",
    "\n",
    "class Scanner(IScanner):\n",
    "    def scan_document(self, document):\n",
    "        print(f\"Scanning: {document}\")\n",
    "\n",
    "class FaxMachine(IFax):\n",
    "    def fax_document(self, document):\n",
    "        print(f\"Faxing: {document}\")\n",
    "\n",
    "class MultiFunctionDevice(IPrinter, IScanner, IFax):\n",
    "    def __init__(self, printer, scanner, fax):\n",
    "        self.printer = printer\n",
    "        self.scanner = scanner\n",
    "        self.fax = fax\n",
    "\n",
    "    def print_document(self, document):\n",
    "        self.printer.print_document(document)\n",
    "\n",
    "    def scan_document(self, document):\n",
    "        self.scanner.scan_document(document)\n",
    "\n",
    "    def fax_document(self, document):\n",
    "        self.fax.fax_document(document)\n",
    "        \n",
    "class PrinterScaner(IPrinter, IScanner):\n",
    "    def __init__(self, printer, scanner):\n",
    "        self.printer = printer\n",
    "        self.scanner = scanner\n",
    "\n",
    "    def print_document(self, document):\n",
    "        self.printer.print_document(document)\n",
    "\n",
    "    def scan_document(self, document):\n",
    "        self.scanner.scan_document(document)\n"
   ]
  },
  {
   "cell_type": "code",
   "execution_count": null,
   "id": "78349112",
   "metadata": {},
   "outputs": [],
   "source": []
  },
  {
   "cell_type": "code",
   "execution_count": 7,
   "id": "86647c13",
   "metadata": {},
   "outputs": [
    {
     "name": "stdout",
     "output_type": "stream",
     "text": [
      "Printing: Document1.pdf\n",
      "Scanning: Document2.pdf\n",
      "Faxing: Document3.pdf\n"
     ]
    }
   ],
   "source": [
    "# Creating individual devices\n",
    "printer = Printer()\n",
    "scanner = Scanner()\n",
    "fax = FaxMachine()\n",
    "\n",
    "# Multi-function device\n",
    "mfd = MultiFunctionDevice(printer, scanner, fax)\n",
    "\n",
    "# Use the multi-function device\n",
    "mfd.print_document(\"Document1.pdf\")\n",
    "mfd.scan_document(\"Document2.pdf\")\n",
    "mfd.fax_document(\"Document3.pdf\")\n"
   ]
  },
  {
   "cell_type": "code",
   "execution_count": 8,
   "id": "f995d50a",
   "metadata": {},
   "outputs": [
    {
     "name": "stdout",
     "output_type": "stream",
     "text": [
      "Printing: Document1.pdf\n",
      "Scanning: Document2.pdf\n"
     ]
    }
   ],
   "source": [
    "ps = PrinterScaner(printer, scanner)\n",
    "\n",
    "# Use the multi-function device\n",
    "ps.print_document(\"Document1.pdf\")\n",
    "ps.scan_document(\"Document2.pdf\")"
   ]
  },
  {
   "cell_type": "code",
   "execution_count": null,
   "id": "353f83d2",
   "metadata": {},
   "outputs": [],
   "source": []
  },
  {
   "cell_type": "code",
   "execution_count": null,
   "id": "e3574afb",
   "metadata": {},
   "outputs": [],
   "source": []
  },
  {
   "cell_type": "markdown",
   "id": "6bd13bd4",
   "metadata": {},
   "source": [
    "#### Explanation\n",
    "Segregated Interfaces (IPrinter, IScanner, IFax): Instead of one large interface, we have created three specific interfaces. Each interface has methods related to its functionality.\n",
    "\n",
    "Concrete Classes (Printer, Scanner, FaxMachine): These classes implement the specific interfaces. A class only implements the methods it needs.\n",
    "\n",
    "MultiFunctionDevice: This class is an example of a client that requires all functionalities. It implements all three interfaces and composes individual devices.\n",
    "\n",
    "This design adheres to the ISP, as it prevents the concrete classes from implementing unnecessary methods, which would be the case if we forced them to implement a single, general-purpose interface. Each class only needs to concern itself with the methods that are relevant to its function."
   ]
  },
  {
   "cell_type": "code",
   "execution_count": null,
   "id": "c2b23a2a",
   "metadata": {},
   "outputs": [],
   "source": []
  },
  {
   "cell_type": "code",
   "execution_count": null,
   "id": "0cfe3ae8",
   "metadata": {},
   "outputs": [],
   "source": []
  }
 ],
 "metadata": {
  "kernelspec": {
   "display_name": "Python 3 (ipykernel)",
   "language": "python",
   "name": "python3"
  },
  "language_info": {
   "codemirror_mode": {
    "name": "ipython",
    "version": 3
   },
   "file_extension": ".py",
   "mimetype": "text/x-python",
   "name": "python",
   "nbconvert_exporter": "python",
   "pygments_lexer": "ipython3",
   "version": "3.9.18"
  }
 },
 "nbformat": 4,
 "nbformat_minor": 5
}
