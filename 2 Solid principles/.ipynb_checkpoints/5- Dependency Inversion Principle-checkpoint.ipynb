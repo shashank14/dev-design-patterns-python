{
 "cells": [
  {
   "cell_type": "markdown",
   "id": "7608b1b4",
   "metadata": {},
   "source": [
    "### The Dependency Inversion Principle "
   ]
  },
  {
   "cell_type": "markdown",
   "id": "e2bbb69f",
   "metadata": {},
   "source": [
    "The Dependency Inversion Principle (DIP) is one of the key principles of SOLID in object-oriented design. It states that high-level modules should not depend on low-level modules, but both should depend on abstractions. Additionally, abstractions should not depend upon details; details should depend upon abstractions. This principle aims to reduce the dependencies on concrete types and instead promote a more modular and flexible design.\n",
    "\n",
    "Example: Email Notification System\n",
    "Let's consider an example of an email notification system, where the high-level module (NotificationManager) should not directly depend on low-level modules (EmailService, SMSService). Instead, they should depend on an abstraction (MessageService).\n",
    "\n",
    "Python Code Example:\n"
   ]
  },
  {
   "cell_type": "code",
   "execution_count": null,
   "id": "cae1b1b7",
   "metadata": {},
   "outputs": [],
   "source": []
  },
  {
   "cell_type": "code",
   "execution_count": 22,
   "id": "f71551da",
   "metadata": {},
   "outputs": [
    {
     "name": "stdout",
     "output_type": "stream",
     "text": [
      "Sending email to email@example.com: Hello Email\n",
      "Sending SMS to +123456789: Hello SMS\n"
     ]
    }
   ],
   "source": [
    "from abc import ABC, abstractmethod\n",
    "\n",
    "# Abstraction (Interface for message service)\n",
    "class MessageService(ABC):\n",
    "    @abstractmethod\n",
    "    def send_message(self, message, recipient):\n",
    "        pass\n",
    "\n",
    "# Low-Level Module (Concrete Email Service)\n",
    "class EmailService(MessageService):\n",
    "    def send_message(self, message, recipient):\n",
    "        print(f\"Sending email to {recipient}: {message}\")\n",
    "\n",
    "# Low-Level Module (Concrete SMS Service)\n",
    "class SMSService(MessageService):\n",
    "    def send_message(self, message, recipient):\n",
    "        print(f\"Sending SMS to {recipient}: {message}\")\n",
    "\n",
    "# High-Level Module (Notification Manager)\n",
    "class NotificationManager:\n",
    "    def __init__(self, service: MessageService):\n",
    "        self.service = service\n",
    "\n",
    "    def notify(self, message, recipient):\n",
    "        self.service.send_message(message, recipient)\n",
    "\n",
    "# Usage\n",
    "email_service = EmailService()\n",
    "sms_service = SMSService()\n",
    "notification_manager_email = NotificationManager(email_service)\n",
    "notification_manager_sms = NotificationManager(sms_service)\n",
    "\n",
    "notification_manager_email.notify(\"Hello Email\", \"email@example.com\")\n",
    "notification_manager_sms.notify(\"Hello SMS\", \"+123456789\")\n"
   ]
  },
  {
   "cell_type": "code",
   "execution_count": null,
   "id": "c5a978d2",
   "metadata": {},
   "outputs": [],
   "source": []
  },
  {
   "cell_type": "markdown",
   "id": "3e262074",
   "metadata": {},
   "source": [
    "The Dependency Inversion Principle (DIP) emphasizes that both high-level and low-level modules should depend on abstractions rather than concrete details. Let's clarify how the NotificationManager (a high-level module) depends on the MessageService (an abstraction) in the provided example:\n",
    "\n",
    "##### Understanding the Dependency:\n",
    "Abstraction (MessageService):\n",
    "\n",
    "MessageService is an abstract class that defines a send_message method. It's an abstraction because it doesn't contain any specific implementation details; it just provides a generic interface for sending messages.\n",
    "High-Level Module (NotificationManager):\n",
    "\n",
    "NotificationManager is designed to manage notifications. It needs a way to send these notifications, but instead of directly using a specific service like EmailService or SMSService, it relies on the MessageService interface.\n",
    "Dependency on Abstraction:\n",
    "\n",
    "When we instantiate NotificationManager, we pass in an object that implements the MessageService interface. This could be an EmailService, SMSService, or any other service that follows the MessageService interface.\n",
    "By programming to the MessageService interface, NotificationManager does not need to know the specifics of how messages are sent. It only knows that it can call send_message on the service it has been given.\n",
    "This design means NotificationManager is dependent on the MessageService abstraction, not on the concrete details of email or SMS sending.\n",
    "Example Revisited:\n",
    "When we create a NotificationManager, we inject a MessageService:"
   ]
  },
  {
   "cell_type": "code",
   "execution_count": 24,
   "id": "0565368f",
   "metadata": {},
   "outputs": [],
   "source": [
    "email_service = EmailService()  # This is a MessageService\n",
    "notification_manager_email = NotificationManager(email_service)"
   ]
  },
  {
   "cell_type": "code",
   "execution_count": null,
   "id": "8a1d7cc7",
   "metadata": {},
   "outputs": [],
   "source": []
  },
  {
   "cell_type": "code",
   "execution_count": null,
   "id": "244e613d",
   "metadata": {},
   "outputs": [],
   "source": []
  },
  {
   "cell_type": "markdown",
   "id": "4d45552a",
   "metadata": {},
   "source": [
    "In object-oriented design, the terms \"high-level\" and \"low-level\" modules are used to describe the level of abstraction and the role of different components in a system. The distinction between them is based on their responsibilities and how closely they are tied to the concrete implementation details.\n",
    "\n",
    "#### High-Level Modules\n",
    "Definition: High-level modules are those parts of the system that are responsible for higher-order business rules, policies, or functions. They operate on a more abstract level.\n",
    "\n",
    "\n",
    "#### Characteristics:\n",
    "They orchestrate the flow of operations, delegating specific tasks to lower-level modules.\n",
    "They are usually more stable and less prone to changes as they deal with broad system functionalities.\n",
    "High-level modules are often client-facing parts of the application that interact with user input or system output.\n",
    "In the Example (NotificationManager):\n",
    "NotificationManager is considered high-level because it manages the notification process at an abstract level.\n",
    "It doesn’t concern itself with the specifics of how messages are sent (email, SMS, etc.) but focuses on the broader logic of managing and sending notifications.\n",
    "\n",
    "\n",
    "\n",
    "#### Low-Level Modules\n",
    "Definition: Low-level modules are closer to the concrete implementation details and data. They handle specific tasks and have detailed knowledge about how certain operations are carried out.\n",
    "#### Characteristics:\n",
    "They implement specific functionalities and are more closely aligned with the underlying hardware or data.\n",
    "Low-level modules are often subject to more frequent changes compared to high-level modules, as they deal with specific implementation details that might vary.\n",
    "In the Example (SMSService, EmailService):\n",
    "SMSService and EmailService are low-level because they are specifically responsible for sending messages via SMS and email, respectively.\n",
    "They contain the detailed logic and protocols required to deliver these types of messages.\n",
    "\n",
    "\n",
    "#### Summary\n",
    "The classification into high-level and low-level modules helps in designing systems that are loosely coupled and more maintainable. High-level modules contain business logic and decision-making, while low-level modules handle the specifics of data handling, communication, or other detailed operations. This separation allows for flexibility, as changing the concrete implementations in low-level modules doesn’t affect the high-level modules, provided the interfaces remain consistent."
   ]
  },
  {
   "cell_type": "code",
   "execution_count": null,
   "id": "2d7ae11b",
   "metadata": {},
   "outputs": [],
   "source": []
  },
  {
   "cell_type": "code",
   "execution_count": null,
   "id": "d5cdca97",
   "metadata": {},
   "outputs": [],
   "source": []
  }
 ],
 "metadata": {
  "kernelspec": {
   "display_name": "Python 3 (ipykernel)",
   "language": "python",
   "name": "python3"
  },
  "language_info": {
   "codemirror_mode": {
    "name": "ipython",
    "version": 3
   },
   "file_extension": ".py",
   "mimetype": "text/x-python",
   "name": "python",
   "nbconvert_exporter": "python",
   "pygments_lexer": "ipython3",
   "version": "3.9.18"
  }
 },
 "nbformat": 4,
 "nbformat_minor": 5
}
