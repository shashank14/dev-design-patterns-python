{
 "cells": [
  {
   "cell_type": "markdown",
   "id": "1499b260",
   "metadata": {},
   "source": [
    "###### The Open/Closed Principle (OCP)"
   ]
  },
  {
   "cell_type": "markdown",
   "id": "89e97a21",
   "metadata": {},
   "source": [
    "The Open/Closed Principle (OCP) is a fundamental concept in object-oriented design which states that classes should be open for extension but closed for modification. This means that the behavior of a module can be extended without modifying its source code.\n",
    "\n",
    "Let's illustrate this principle with a real-world example in Python: a report generation system where we can add new types of reports without modifying the existing code.\n",
    "\n",
    "Example: Report Generation System\n",
    "Base Class for Reports\n",
    "First, we define an abstract base class for reports, which all specific report types will extend."
   ]
  },
  {
   "cell_type": "code",
   "execution_count": null,
   "id": "68777356",
   "metadata": {},
   "outputs": [],
   "source": []
  },
  {
   "cell_type": "code",
   "execution_count": 5,
   "id": "def5cd9e",
   "metadata": {},
   "outputs": [],
   "source": [
    "from abc import ABC, abstractmethod\n",
    "\n",
    "class Report(ABC):\n",
    "    @abstractmethod\n",
    "    def generate(self):\n",
    "        pass\n"
   ]
  },
  {
   "cell_type": "code",
   "execution_count": null,
   "id": "dbff9465",
   "metadata": {},
   "outputs": [],
   "source": []
  },
  {
   "cell_type": "markdown",
   "id": "26d0a05b",
   "metadata": {},
   "source": [
    "##### Concrete Implementations\n",
    "Next, we create concrete implementations for different types of reports, like PDFReport and ExcelReport."
   ]
  },
  {
   "cell_type": "code",
   "execution_count": 6,
   "id": "51db4872",
   "metadata": {},
   "outputs": [],
   "source": [
    "class PDFReport(Report):\n",
    "    def generate(self):\n",
    "        return \"PDF Report generated.\"\n",
    "\n",
    "class ExcelReport(Report):\n",
    "    def generate(self):\n",
    "        return \"Excel Report generated.\"\n"
   ]
  },
  {
   "cell_type": "code",
   "execution_count": null,
   "id": "7530dd13",
   "metadata": {},
   "outputs": [],
   "source": []
  },
  {
   "cell_type": "markdown",
   "id": "b130fdf2",
   "metadata": {},
   "source": [
    "##### Report Generator\n",
    "The ReportGenerator class is responsible for generating reports. It works with any subclass of Report without needing to know the details of how each report is generated."
   ]
  },
  {
   "cell_type": "code",
   "execution_count": null,
   "id": "bf4c84c6",
   "metadata": {},
   "outputs": [],
   "source": []
  },
  {
   "cell_type": "code",
   "execution_count": 7,
   "id": "5a2648f4",
   "metadata": {},
   "outputs": [],
   "source": [
    "class ReportGenerator:\n",
    "    def __init__(self, report: Report):\n",
    "        self.report = report\n",
    "\n",
    "    def create_report(self):\n",
    "        print(self.report.generate())\n"
   ]
  },
  {
   "cell_type": "code",
   "execution_count": null,
   "id": "d8e90964",
   "metadata": {},
   "outputs": [],
   "source": []
  },
  {
   "cell_type": "markdown",
   "id": "a3caaa18",
   "metadata": {},
   "source": [
    "Usage\n",
    "We can use these classes without modifying the existing classes."
   ]
  },
  {
   "cell_type": "code",
   "execution_count": null,
   "id": "a9b99fb4",
   "metadata": {},
   "outputs": [],
   "source": []
  },
  {
   "cell_type": "code",
   "execution_count": 8,
   "id": "9f3a757e",
   "metadata": {},
   "outputs": [
    {
     "name": "stdout",
     "output_type": "stream",
     "text": [
      "PDF Report generated.\n",
      "Excel Report generated.\n"
     ]
    }
   ],
   "source": [
    "# Generating PDF Report\n",
    "pdf_report = PDFReport()\n",
    "report_generator = ReportGenerator(pdf_report)\n",
    "report_generator.create_report()  # Outputs: PDF Report generated.\n",
    "\n",
    "# Generating Excel Report\n",
    "excel_report = ExcelReport()\n",
    "report_generator = ReportGenerator(excel_report)\n",
    "report_generator.create_report()  # Outputs: Excel Report generated.\n"
   ]
  },
  {
   "cell_type": "code",
   "execution_count": null,
   "id": "98025ce0",
   "metadata": {},
   "outputs": [],
   "source": []
  },
  {
   "cell_type": "markdown",
   "id": "0b7e01d2",
   "metadata": {},
   "source": [
    "##### Extending the System\n",
    "Suppose we want to add a new type of report, like a WordReport. We can do this without modifying any existing code (following OCP)."
   ]
  },
  {
   "cell_type": "code",
   "execution_count": null,
   "id": "08a39842",
   "metadata": {},
   "outputs": [],
   "source": []
  },
  {
   "cell_type": "code",
   "execution_count": 9,
   "id": "bba53c63",
   "metadata": {},
   "outputs": [
    {
     "name": "stdout",
     "output_type": "stream",
     "text": [
      "Word Report generated.\n"
     ]
    }
   ],
   "source": [
    "class WordReport(Report):\n",
    "    def generate(self):\n",
    "        return \"Word Report generated.\"\n",
    "\n",
    "# Generating Word Report\n",
    "word_report = WordReport()\n",
    "report_generator = ReportGenerator(word_report)\n",
    "report_generator.create_report()  # Outputs: Word Report generated.\n"
   ]
  },
  {
   "cell_type": "code",
   "execution_count": null,
   "id": "75903576",
   "metadata": {},
   "outputs": [],
   "source": []
  },
  {
   "cell_type": "markdown",
   "id": "fec052e4",
   "metadata": {},
   "source": [
    "##### Explanation\n",
    "Report (Abstract Base Class): Defines the interface for all report types. It adheres to the OCP as it allows new report types to be created without modifying existing code.\n",
    "\n",
    "PDFReport, ExcelReport, WordReport (Concrete Implementations): Implementations of the Report interface for different report types.\n",
    "\n",
    "ReportGenerator (Client Class): Uses the Report interface to generate reports. It’s closed for modification (you don't change it when adding new types of reports) but open for extension (it can work with new types of reports).\n",
    "\n",
    "In this example, the system is designed to easily allow the addition of new report types without modifying the existing ReportGenerator or the abstract Report class, demonstrating adherence to the Open/Closed Principle."
   ]
  },
  {
   "cell_type": "code",
   "execution_count": null,
   "id": "ed2390b3",
   "metadata": {},
   "outputs": [],
   "source": []
  },
  {
   "cell_type": "code",
   "execution_count": null,
   "id": "59c77834",
   "metadata": {},
   "outputs": [],
   "source": []
  }
 ],
 "metadata": {
  "kernelspec": {
   "display_name": "Python 3 (ipykernel)",
   "language": "python",
   "name": "python3"
  },
  "language_info": {
   "codemirror_mode": {
    "name": "ipython",
    "version": 3
   },
   "file_extension": ".py",
   "mimetype": "text/x-python",
   "name": "python",
   "nbconvert_exporter": "python",
   "pygments_lexer": "ipython3",
   "version": "3.9.18"
  }
 },
 "nbformat": 4,
 "nbformat_minor": 5
}
