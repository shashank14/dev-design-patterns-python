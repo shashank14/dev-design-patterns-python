{
 "cells": [
  {
   "cell_type": "markdown",
   "id": "10dcef4e",
   "metadata": {},
   "source": [
    "##### The Strategy design pattern"
   ]
  },
  {
   "cell_type": "markdown",
   "id": "c8a82bd6",
   "metadata": {},
   "source": [
    "Defining a family of algorithms, encapsulating them, and making them interchangeable without altering client code.\n",
    "\n",
    "It's particularly useful in scenarios where you need to switch between multiple algorithms dynamically or add new ones without changing client code."
   ]
  },
  {
   "cell_type": "code",
   "execution_count": null,
   "id": "dd424b74",
   "metadata": {},
   "outputs": [],
   "source": []
  },
  {
   "cell_type": "markdown",
   "id": "b7f50664",
   "metadata": {},
   "source": [
    "\n",
    "\n",
    "##### Key Components of the Strategy Pattern:\n",
    "\n",
    "\n",
    "###### Strategy (Interface or Abstract Class):\n",
    "This defines a common interface for all supported algorithms. Context uses this interface to call the algorithm defined by a Concrete Strategy.\n",
    "\n",
    "\n",
    "###### Concrete Strategies:\n",
    "These are classes that implement the Strategy interface, each providing different implementations for an algorithm.\n",
    "Each version of the algorithm is encapsulated in its own class, making the algorithms interchangeable within the Context.\n",
    "\n",
    "\n",
    "##### Context (or Client):\n",
    "This is a class that contains a reference to a Concrete Strategy instance. and is responsible to delegate work to that strategy"
   ]
  },
  {
   "cell_type": "code",
   "execution_count": null,
   "id": "1f59b723",
   "metadata": {},
   "outputs": [],
   "source": []
  },
  {
   "cell_type": "code",
   "execution_count": 3,
   "id": "a9697daf",
   "metadata": {},
   "outputs": [
    {
     "name": "stdout",
     "output_type": "stream",
     "text": [
      "Processing credit card payment of $100.0\n",
      "Processing PayPal payment of $50.0\n"
     ]
    }
   ],
   "source": [
    "from abc import ABC, abstractmethod\n",
    "\n",
    "# PaymentStrategy interface\n",
    "class PaymentStrategy(ABC):\n",
    "    @abstractmethod\n",
    "    def process_payment(self, amount):\n",
    "        pass\n",
    "\n",
    "# Concrete PaymentStrategy classes\n",
    "class CreditCardPayment(PaymentStrategy):\n",
    "    def process_payment(self, amount):\n",
    "        print(f\"Processing credit card payment of ${amount}\")\n",
    "\n",
    "class PayPalPayment(PaymentStrategy):\n",
    "    def process_payment(self, amount):\n",
    "        print(f\"Processing PayPal payment of ${amount}\")\n",
    "\n",
    "class CryptocurrencyPayment(PaymentStrategy):\n",
    "    def process_payment(self, amount):\n",
    "        print(f\"Processing cryptocurrency payment of ${amount}\")\n",
    "\n",
    "# PaymentProcessor (context)\n",
    "class PaymentProcessor:\n",
    "    def __init__(self):\n",
    "        self.payment_strategy = None\n",
    "\n",
    "    def set_payment_strategy(self, strategy):\n",
    "        self.payment_strategy = strategy\n",
    "\n",
    "    def process_payment(self, amount):\n",
    "        if self.payment_strategy:\n",
    "            self.payment_strategy.process_payment(amount)\n",
    "        else:\n",
    "            print(\"Payment strategy not set.\")\n",
    "\n",
    "# PaymentDemo\n",
    "def payment_demo():\n",
    "    payment_processor = PaymentProcessor()\n",
    "\n",
    "    # Select and set the payment strategy at runtime\n",
    "    strategy = CreditCardPayment()\n",
    "    payment_processor.set_payment_strategy(strategy)\n",
    "    payment_processor.process_payment(100.0)\n",
    "\n",
    "    # Change the payment strategy\n",
    "    strategy = PayPalPayment()\n",
    "    payment_processor.set_payment_strategy(strategy)\n",
    "    payment_processor.process_payment(50.0)\n",
    "\n",
    "if __name__ == \"__main__\":\n",
    "    payment_demo()\n"
   ]
  },
  {
   "cell_type": "code",
   "execution_count": null,
   "id": "987db77e",
   "metadata": {},
   "outputs": [],
   "source": []
  },
  {
   "cell_type": "markdown",
   "id": "eebd02a1",
   "metadata": {},
   "source": [
    "####  Use Cases:"
   ]
  },
  {
   "cell_type": "markdown",
   "id": "a25602de",
   "metadata": {},
   "source": [
    "\n",
    "##### Sorting Algorithms:\n",
    "Dynamic selection of sorting algorithms (e.g., quicksort, mergesort).\n",
    "###### Data Compression:\n",
    "Compressing data using various algorithms (e.g., gzip, zlib).\n",
    "###### Routing Algorithms: \n",
    "Selecting optimal routes for navigation.\n",
    "###### Gaming:\n",
    "Al decision-making strategies for game characters.\n",
    "##### Image Processing:\n",
    "Applying filters or transformations using various algorithms.\n",
    "###### Text Editors:\n",
    "Implementing font selection."
   ]
  },
  {
   "cell_type": "code",
   "execution_count": null,
   "id": "ef93fbba",
   "metadata": {},
   "outputs": [],
   "source": []
  }
 ],
 "metadata": {
  "kernelspec": {
   "display_name": "Python 3 (ipykernel)",
   "language": "python",
   "name": "python3"
  },
  "language_info": {
   "codemirror_mode": {
    "name": "ipython",
    "version": 3
   },
   "file_extension": ".py",
   "mimetype": "text/x-python",
   "name": "python",
   "nbconvert_exporter": "python",
   "pygments_lexer": "ipython3",
   "version": "3.9.18"
  }
 },
 "nbformat": 4,
 "nbformat_minor": 5
}
