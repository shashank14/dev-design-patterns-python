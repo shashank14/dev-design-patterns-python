{
 "cells": [
  {
   "cell_type": "markdown",
   "id": "f2e9d9e4",
   "metadata": {},
   "source": [
    "###### The Iterator Design Pattern "
   ]
  },
  {
   "cell_type": "markdown",
   "id": "9bd948df",
   "metadata": {},
   "source": [
    "The Iterator Design Pattern is a behavioral design pattern that provides a way to access the elements of an aggregate object sequentially without exposing its underlying representation.\n",
    "\n",
    "The Iterator pattern encapsulates the details of navigating through a collection and allows clients to iterate through the collection using a common interface.\n",
    "\n",
    "Iterator Pattern: Python Example\n",
    "Let's demonstrate the Iterator Pattern with an example of a custom collection class, where we can iterate through a set of items in the collection without needing to know how the collection is structured internally."
   ]
  },
  {
   "cell_type": "code",
   "execution_count": null,
   "id": "440ccc38",
   "metadata": {},
   "outputs": [],
   "source": []
  },
  {
   "cell_type": "code",
   "execution_count": null,
   "id": "3aa7b16d",
   "metadata": {},
   "outputs": [],
   "source": []
  },
  {
   "cell_type": "code",
   "execution_count": 3,
   "id": "35a9a685",
   "metadata": {},
   "outputs": [
    {
     "name": "stdout",
     "output_type": "stream",
     "text": [
      "Product: Laptop, Price: $99999.99\n",
      "Product: Smartphone, Price: $49999.99\n",
      "Product: Headphones, Price: $7999.99\n"
     ]
    }
   ],
   "source": [
    "\n",
    "# Iterator interface\n",
    "class Iterator:\n",
    "    def first(self):\n",
    "        pass\n",
    "\n",
    "    def next(self):\n",
    "        pass\n",
    "\n",
    "    def has_next(self):\n",
    "        pass\n",
    "\n",
    "\n",
    "# Concrete iterator for the product collection\n",
    "class ProductIterator(Iterator):\n",
    "    def __init__(self, products):\n",
    "        self.products = products\n",
    "        self.current = 0\n",
    "\n",
    "    def first(self):\n",
    "        if not self.products:\n",
    "            return None\n",
    "        self.current = 0\n",
    "        return self.products[self.current]\n",
    "\n",
    "    def next(self):\n",
    "        if self.has_next():\n",
    "            self.current += 1\n",
    "            return self.products[self.current]\n",
    "        return None\n",
    "\n",
    "    def has_next(self):\n",
    "        return self.current < len(self.products) - 1\n",
    "\n",
    "    \n",
    "# Product class representing individual products\n",
    "class Product:\n",
    "    def __init__(self, name, price):\n",
    "        self.name = name\n",
    "        self.price = price\n",
    "\n",
    "    def get_name(self):\n",
    "        return self.name\n",
    "\n",
    "    def get_price(self):\n",
    "        return self.price\n",
    "\n",
    "    \n",
    "#Aggregate class that stores products and provides an iterator\n",
    "class Inventory:\n",
    "    def __init__(self):\n",
    "        self.products = []\n",
    "\n",
    "    def add_product(self, product):\n",
    "        self.products.append(product)\n",
    "\n",
    "    def create_iterator(self):\n",
    "        return ProductIterator(self.products)\n",
    "\n",
    "def amazon_inventory_demo():\n",
    "    # Create some products\n",
    "    product1 = Product(\"Laptop\", 99999.99)\n",
    "    product2 = Product(\"Smartphone\", 49999.99)\n",
    "    product3 = Product(\"Headphones\", 7999.99)\n",
    "\n",
    "    # Create an inventory and add products\n",
    "    inventory = Inventory()\n",
    "    inventory.add_product(product1)\n",
    "    inventory.add_product(product2)\n",
    "    inventory.add_product(product3)\n",
    "\n",
    "    # Create an iterator and iterate over the products\n",
    "    iterator = inventory.create_iterator()\n",
    "    current_product = iterator.first()\n",
    "\n",
    "    while current_product:\n",
    "        print(f\"Product: {current_product.get_name()}, Price: ${current_product.get_price()}\")\n",
    "        current_product = iterator.next()\n",
    "\n",
    "if __name__ == \"__main__\":\n",
    "    amazon_inventory_demo()\n"
   ]
  },
  {
   "cell_type": "code",
   "execution_count": null,
   "id": "8455d810",
   "metadata": {},
   "outputs": [],
   "source": []
  },
  {
   "cell_type": "code",
   "execution_count": null,
   "id": "fb2b5400",
   "metadata": {},
   "outputs": [],
   "source": []
  },
  {
   "cell_type": "code",
   "execution_count": 2,
   "id": "b0722452",
   "metadata": {},
   "outputs": [
    {
     "name": "stdout",
     "output_type": "stream",
     "text": [
      "Item 1\n",
      "Item 2\n",
      "Item 3\n"
     ]
    }
   ],
   "source": [
    "class Collection:\n",
    "    \"\"\" Concrete Collection \"\"\"\n",
    "    def __init__(self):\n",
    "        self._items = []\n",
    "\n",
    "    def add_item(self, item):\n",
    "        self._items.append(item)\n",
    "\n",
    "    def create_iterator(self):\n",
    "        return CollectionIterator(self)\n",
    "\n",
    "class CollectionIterator:\n",
    "    \"\"\" Concrete Iterator \"\"\"\n",
    "    def __init__(self, collection):\n",
    "        self._collection = collection\n",
    "        self._index = 0\n",
    "\n",
    "    def has_next(self):\n",
    "        \"\"\" Check if there's a next item \"\"\"\n",
    "        return self._index < len(self._collection._items)\n",
    "\n",
    "    def next(self):\n",
    "        \"\"\" Get the next item \"\"\"\n",
    "        if self.has_next():\n",
    "            item = self._collection._items[self._index]\n",
    "            self._index += 1\n",
    "            return item\n",
    "        else:\n",
    "            raise StopIteration\n",
    "\n",
    "# Usage\n",
    "collection = Collection()\n",
    "collection.add_item(\"Item 1\")\n",
    "collection.add_item(\"Item 2\")\n",
    "collection.add_item(\"Item 3\")\n",
    "\n",
    "iterator = collection.create_iterator()\n",
    "\n",
    "while iterator.has_next():\n",
    "    item = iterator.next()\n",
    "    print(item)\n"
   ]
  },
  {
   "cell_type": "code",
   "execution_count": null,
   "id": "6712d315",
   "metadata": {},
   "outputs": [],
   "source": []
  },
  {
   "cell_type": "markdown",
   "id": "4718fef0",
   "metadata": {},
   "source": [
    "##### Explanation:\n",
    "Collection (Concrete Collection): This class represents a concrete collection that can contain various items. It offers a method to add items to the collection and a method to create an iterator for the collection.\n",
    "\n",
    "CollectionIterator (Concrete Iterator): This class implements the iterator for the Collection. It keeps track of the current position in the collection and provides the has_next and next methods to traverse the collection.\n",
    "\n",
    "Usage: We create an instance of Collection, add items to it, and then create an iterator using create_iterator(). We use the iterator to iterate through the collection without needing to know how the items are stored in the collection.\n",
    "\n",
    "The Iterator Pattern is valuable for collections that require different ways of traversing or for collections with complex internal structures. It simplifies the client interface and provides an elegant way to access elements of a collection without exposing the collection's internal structure."
   ]
  },
  {
   "cell_type": "code",
   "execution_count": 5,
   "id": "df0b950d",
   "metadata": {},
   "outputs": [],
   "source": [
    "from abc import ABC, abstractmethod"
   ]
  },
  {
   "cell_type": "code",
   "execution_count": null,
   "id": "4e24d283",
   "metadata": {},
   "outputs": [],
   "source": []
  },
  {
   "cell_type": "code",
   "execution_count": 55,
   "id": "36118c15",
   "metadata": {},
   "outputs": [],
   "source": [
    "class iIterator(ABC):\n",
    "    \n",
    "    @abstractmethod\n",
    "    def first(self):\n",
    "        pass\n",
    "    \n",
    "    @abstractmethod\n",
    "    def next(self):\n",
    "        pass\n",
    "    \n",
    "    @abstractmethod\n",
    "    def has_next(self):\n",
    "        pass"
   ]
  },
  {
   "cell_type": "code",
   "execution_count": 56,
   "id": "cc7e37a0",
   "metadata": {},
   "outputs": [],
   "source": [
    "class ProductIterator(iIterator):\n",
    "    \n",
    "    def __init__(self,products):\n",
    "        self.products = products\n",
    "        self.current = 0\n",
    "        \n",
    "        \n",
    "    def first(self):\n",
    "        if not self.products:\n",
    "            return None\n",
    "        self.current = 0\n",
    "        return self.products[self.current]\n",
    "    \n",
    "    def next(self):\n",
    "        if self.has_next():\n",
    "            self.current+=1\n",
    "            return self.products[self.current]\n",
    "        return None\n",
    "    \n",
    "    def has_next(self):\n",
    "        return self.current < len(self.products)-1"
   ]
  },
  {
   "cell_type": "code",
   "execution_count": 57,
   "id": "6d3b34d1",
   "metadata": {},
   "outputs": [],
   "source": [
    "class Product():\n",
    "    \n",
    "    def __init__(self,name,price):\n",
    "        self.product_name = name\n",
    "        self.product_price = price\n",
    "        \n",
    "    def get_name(self):\n",
    "        return self.product_name\n",
    "    \n",
    "    def get_price(self):\n",
    "        return self.product_price"
   ]
  },
  {
   "cell_type": "code",
   "execution_count": 58,
   "id": "fa82ec80",
   "metadata": {},
   "outputs": [],
   "source": [
    "class Iterator():\n",
    "    \n",
    "    def __init__(self):\n",
    "        self.products = []\n",
    "    \n",
    "    \n",
    "    def add_product(self,obj):\n",
    "        self.products.append(obj)\n",
    "        \n",
    "    def create_iterator(self):\n",
    "        return ProductIterator(self.products)"
   ]
  },
  {
   "cell_type": "code",
   "execution_count": 59,
   "id": "a497702b",
   "metadata": {},
   "outputs": [],
   "source": [
    "p1 = Product(\"apple\",100)\n",
    "p2 = Product(\"orange\",200)\n",
    "p3 = Product(\"Grape\",300)"
   ]
  },
  {
   "cell_type": "code",
   "execution_count": 60,
   "id": "bf40b133",
   "metadata": {},
   "outputs": [],
   "source": [
    "itr = Iterator()"
   ]
  },
  {
   "cell_type": "code",
   "execution_count": 61,
   "id": "b9c10450",
   "metadata": {},
   "outputs": [],
   "source": [
    "itr.add_product(p1)\n",
    "itr.add_product(p2)\n",
    "itr.add_product(p3)"
   ]
  },
  {
   "cell_type": "code",
   "execution_count": 62,
   "id": "b17f13fb",
   "metadata": {},
   "outputs": [],
   "source": [
    "product_iterator = itr.create_iterator()"
   ]
  },
  {
   "cell_type": "code",
   "execution_count": 63,
   "id": "88463a83",
   "metadata": {},
   "outputs": [],
   "source": [
    "current_product = product_iterator.first()"
   ]
  },
  {
   "cell_type": "code",
   "execution_count": 65,
   "id": "4a12bb06",
   "metadata": {},
   "outputs": [
    {
     "name": "stdout",
     "output_type": "stream",
     "text": [
      "Product: apple, Price: $100\n",
      "Product: orange, Price: $200\n",
      "Product: Grape, Price: $300\n"
     ]
    }
   ],
   "source": [
    "while current_product:\n",
    "    print(f\"Product: {current_product.get_name()}, Price: ${current_product.get_price()}\")\n",
    "    current_product = product_iterator.next()"
   ]
  },
  {
   "cell_type": "code",
   "execution_count": null,
   "id": "3fc04f90",
   "metadata": {},
   "outputs": [],
   "source": []
  },
  {
   "cell_type": "code",
   "execution_count": null,
   "id": "183143c2",
   "metadata": {},
   "outputs": [],
   "source": []
  },
  {
   "cell_type": "code",
   "execution_count": null,
   "id": "95b5d436",
   "metadata": {},
   "outputs": [],
   "source": []
  }
 ],
 "metadata": {
  "kernelspec": {
   "display_name": "Python 3 (ipykernel)",
   "language": "python",
   "name": "python3"
  },
  "language_info": {
   "codemirror_mode": {
    "name": "ipython",
    "version": 3
   },
   "file_extension": ".py",
   "mimetype": "text/x-python",
   "name": "python",
   "nbconvert_exporter": "python",
   "pygments_lexer": "ipython3",
   "version": "3.9.18"
  }
 },
 "nbformat": 4,
 "nbformat_minor": 5
}
