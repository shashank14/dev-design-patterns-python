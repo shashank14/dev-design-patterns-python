{
 "cells": [
  {
   "cell_type": "markdown",
   "id": "ac62b4b6",
   "metadata": {},
   "source": [
    "###### The Chain of Responsibility"
   ]
  },
  {
   "cell_type": "markdown",
   "id": "207ec93c",
   "metadata": {},
   "source": [
    "The Chain of Responsibility Pattern is a behavioral design pattern that allows passing the request along a chain of handlers. Upon receiving a request, each handler decides either to process the request or to pass it to the next handler in the chain"
   ]
  },
  {
   "cell_type": "code",
   "execution_count": null,
   "id": "f5136517",
   "metadata": {},
   "outputs": [],
   "source": []
  },
  {
   "cell_type": "markdown",
   "id": "d2c1aad2",
   "metadata": {},
   "source": [
    "Chain of Responsibility Pattern: Example in Python\n",
    "In this example, let's consider a simple logging system where log messages can be processed by different loggers (info, debug, error). Each logger in the chain will have the opportunity to process the message or pass it along to the next logger."
   ]
  },
  {
   "cell_type": "code",
   "execution_count": null,
   "id": "c418beb8",
   "metadata": {},
   "outputs": [],
   "source": []
  },
  {
   "cell_type": "markdown",
   "id": "bba383ce",
   "metadata": {},
   "source": [
    "#### The key components of the Chain of Responsibility pattern are:\n",
    "\n",
    "#### Handler (Interface or Abstract Class):\n",
    "\n",
    "This defines an interface for handling requests. It typically includes a method for setting the next handler in the chain.In an abstract class implementation, it can also include a default implementation of the method that forwards the request to the next handler.\n",
    "\n",
    "\n",
    "#### Concrete Handlers:\n",
    "\n",
    "These are specific classes that implement or extend the Handler interface or class.\n",
    "Each Concrete Handler contains the actual code for processing requests. If a handler can handle the request, it does so; otherwise, it passes the request to the next handler in the chain.\n",
    "Concrete Handlers also maintain a reference to the next handler in the chain.\n",
    "\n",
    "\n",
    "#### Client:\n",
    "\n",
    "The client configures and initiates the chain of handlers. It may create the Concrete Handlers and link them in the chain, and then start the request handling process by sending a request to the first handler in the chain.\n",
    "\n",
    "##### Request:\n",
    "The request is the object that is being passed along the chain. This can be a simple command, an event, or any object with associated data that needs processing.\n",
    "\n",
    "\n"
   ]
  },
  {
   "cell_type": "code",
   "execution_count": null,
   "id": "97324a28",
   "metadata": {},
   "outputs": [],
   "source": []
  },
  {
   "cell_type": "markdown",
   "id": "ce60f8ca",
   "metadata": {},
   "source": [
    "How It Works:\n",
    "Chain Initialization: The client initializes the chain by linking the Concrete Handlers. Each handler knows who is the next handler in the chain and can forward the request if needed.\n",
    "\n",
    "\n",
    "Request Handling: The client sends the request to the first handler in the chain. The handler either handles the request or forwards it to the next handler in the chain.\n",
    "\n",
    "\n",
    "#### Termination:\n",
    "The request travels along the chain until a handler handles it or it reaches the end of the chain.\n",
    "\n",
    "\n",
    "##### Benefits of the Chain of Responsibility Pattern:\n",
    "Decoupling: The pattern decouples the sender of a request from its receivers. Senders of requests do not know which object in the chain will handle the request, and receivers do not know who sent the request.\n",
    "Flexibility: It gives more than one object an opportunity to handle the request. The set of handlers can be dynamically added to or modified at runtime.\n",
    "Responsibility Segregation: Each handler handles a specific type of command or request, adhering to the Single Responsibility Principle.\n",
    "The Chain of Responsibility pattern is particularly useful when multiple objects can handle a request and the handler doesn't need to be a specific object. This pattern is widely used in event handling systems, logging processes, and layered systems where a request can be processed at multiple levels."
   ]
  },
  {
   "cell_type": "code",
   "execution_count": null,
   "id": "bcf93c03",
   "metadata": {},
   "outputs": [],
   "source": []
  },
  {
   "cell_type": "code",
   "execution_count": 10,
   "id": "3489d051",
   "metadata": {},
   "outputs": [
    {
     "name": "stdout",
     "output_type": "stream",
     "text": [
      "Validating order: Pizza\n",
      "Processing payment for order: Pizza\n",
      "Preparing order: Pizza\n",
      "Assigning delivery for order: Pizza\n",
      "Tracking order: Pizza\n",
      "0\n",
      "----\n"
     ]
    }
   ],
   "source": [
    "from abc import ABC, abstractmethod\n",
    "\n",
    "# Define the abstract base class for order handlers.\n",
    "class OrderHandler(ABC):\n",
    "    def __init__(self, next_handler):\n",
    "        self.next_handler = next_handler\n",
    "\n",
    "    @abstractmethod\n",
    "    def process_order(self, order):\n",
    "        pass\n",
    "\n",
    "# Concrete handler for order validation.\n",
    "class OrderValidationHandler(OrderHandler):\n",
    "    def process_order(self, order):\n",
    "        print(f\"Validating order: {order}\")\n",
    "        # Perform order validation logic here\n",
    "\n",
    "        if self.next_handler:\n",
    "            self.next_handler.process_order(order)\n",
    "\n",
    "# Concrete handler for payment processing.\n",
    "class PaymentProcessingHandler(OrderHandler):\n",
    "    def process_order(self, order):\n",
    "        print(f\"Processing payment for order: {order}\")\n",
    "        # Perform payment processing logic here\n",
    "\n",
    "        if self.next_handler:\n",
    "            self.next_handler.process_order(order)\n",
    "\n",
    "# Concrete handler for order preparation.\n",
    "class OrderPreparationHandler(OrderHandler):\n",
    "    def process_order(self, order):\n",
    "        print(f\"Preparing order: {order}\")\n",
    "        # Perform order preparation logic here\n",
    "\n",
    "        if self.next_handler:\n",
    "            self.next_handler.process_order(order)\n",
    "\n",
    "# Concrete handler for delivery assignment.\n",
    "class DeliveryAssignmentHandler(OrderHandler):\n",
    "    def process_order(self, order):\n",
    "        print(f\"Assigning delivery for order: {order}\")\n",
    "        # Perform delivery assignment logic here\n",
    "\n",
    "        if self.next_handler:\n",
    "            self.next_handler.process_order(order)\n",
    "\n",
    "# Concrete handler for order tracking.\n",
    "class OrderTrackingHandler(OrderHandler):\n",
    "    def process_order(self, order):\n",
    "        print(f\"Tracking order: {order}\")\n",
    "        print(self.next_handler)\n",
    "        # Perform order tracking logic here\n",
    "        \n",
    "        if self.next_handler:\n",
    "            print(\"----\")\n",
    "\n",
    "# Demonstration of chain of responsibility in action\n",
    "def swiggy_order_demo():\n",
    "    # Create a chain of responsibility for order processing\n",
    "    order_processing_chain = OrderValidationHandler(\n",
    "        PaymentProcessingHandler(\n",
    "            OrderPreparationHandler(\n",
    "                DeliveryAssignmentHandler(\n",
    "                    OrderTrackingHandler(\"0\")\n",
    "                )\n",
    "            )\n",
    "        )\n",
    "    )\n",
    "\n",
    "    # Simulate an order being placed\n",
    "    order = \"Pizza\"\n",
    "    order_processing_chain.process_order(order)\n",
    "\n",
    "if __name__ == \"__main__\":\n",
    "    swiggy_order_demo()\n"
   ]
  },
  {
   "cell_type": "code",
   "execution_count": null,
   "id": "ecaf6ad5",
   "metadata": {},
   "outputs": [],
   "source": []
  },
  {
   "cell_type": "code",
   "execution_count": 1,
   "id": "cbba78d9",
   "metadata": {},
   "outputs": [
    {
     "name": "stdout",
     "output_type": "stream",
     "text": [
      "INFO: This is an information message.\n",
      "DEBUG: This is a debug message.\n",
      "ERROR: This is an error message.\n"
     ]
    }
   ],
   "source": [
    "from abc import ABC, abstractmethod\n",
    "\n",
    "class Logger(ABC):\n",
    "    def __init__(self, next_logger=None):\n",
    "        self.next_logger = next_logger\n",
    "\n",
    "    @abstractmethod\n",
    "    def log(self, message, level):\n",
    "        pass\n",
    "\n",
    "    def set_next(self, logger):\n",
    "        self.next_logger = logger\n",
    "\n",
    "class InfoLogger(Logger):\n",
    "    def log(self, message, level):\n",
    "        if level == 'INFO':\n",
    "            print(f\"INFO: {message}\")\n",
    "        elif self.next_logger:\n",
    "            self.next_logger.log(message, level)\n",
    "\n",
    "class DebugLogger(Logger):\n",
    "    def log(self, message, level):\n",
    "        if level == 'DEBUG':\n",
    "            print(f\"DEBUG: {message}\")\n",
    "        elif self.next_logger:\n",
    "            self.next_logger.log(message, level)\n",
    "\n",
    "class ErrorLogger(Logger):\n",
    "    def log(self, message, level):\n",
    "        if level == 'ERROR':\n",
    "            print(f\"ERROR: {message}\")\n",
    "        elif self.next_logger:\n",
    "            self.next_logger.log(message, level)\n",
    "\n",
    "# Usage\n",
    "info_logger = InfoLogger()\n",
    "debug_logger = DebugLogger()\n",
    "error_logger = ErrorLogger()\n",
    "\n",
    "info_logger.set_next(debug_logger)\n",
    "debug_logger.set_next(error_logger)\n",
    "\n",
    "# Creating a chain: Info -> Debug -> Error\n",
    "info_logger.log(\"This is an information message.\", \"INFO\")\n",
    "info_logger.log(\"This is a debug message.\", \"DEBUG\")\n",
    "info_logger.log(\"This is an error message.\", \"ERROR\")\n"
   ]
  },
  {
   "cell_type": "code",
   "execution_count": null,
   "id": "b8dcbd0e",
   "metadata": {},
   "outputs": [],
   "source": []
  },
  {
   "cell_type": "markdown",
   "id": "48f3277d",
   "metadata": {},
   "source": [
    "###### Explanation:\n",
    "Logger (Abstract Class): An abstract handler class with a method log and a mechanism to set the next logger in the chain (set_next).\n",
    "\n",
    "InfoLogger, DebugLogger, ErrorLogger (Concrete Handlers): These classes implement the log method. If a logger can handle a message (based on the level), it prints it; otherwise, it passes the message to the next logger in the chain.\n",
    "\n",
    "Usage: The chain is set up with info_logger at the start, followed by debug_logger, and finally error_logger. Messages are sent to the chain starting from info_logger, and they are processed by the first appropriate handler in the chain.\n",
    "\n",
    "This example illustrates the Chain of Responsibility Pattern, where multiple objects can handle a request, allowing them to be processed by multiple handlers or to fall through to a default handler. This pattern is useful for decoupling request senders and receivers"
   ]
  },
  {
   "cell_type": "code",
   "execution_count": null,
   "id": "85acac85",
   "metadata": {},
   "outputs": [],
   "source": []
  }
 ],
 "metadata": {
  "kernelspec": {
   "display_name": "Python 3 (ipykernel)",
   "language": "python",
   "name": "python3"
  },
  "language_info": {
   "codemirror_mode": {
    "name": "ipython",
    "version": 3
   },
   "file_extension": ".py",
   "mimetype": "text/x-python",
   "name": "python",
   "nbconvert_exporter": "python",
   "pygments_lexer": "ipython3",
   "version": "3.9.18"
  }
 },
 "nbformat": 4,
 "nbformat_minor": 5
}
