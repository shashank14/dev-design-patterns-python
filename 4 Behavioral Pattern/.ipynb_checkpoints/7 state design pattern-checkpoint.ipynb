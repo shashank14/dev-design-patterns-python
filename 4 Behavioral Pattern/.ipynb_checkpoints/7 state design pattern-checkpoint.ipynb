{
 "cells": [
  {
   "cell_type": "code",
   "execution_count": null,
   "id": "8db39b8c",
   "metadata": {},
   "outputs": [],
   "source": []
  },
  {
   "cell_type": "code",
   "execution_count": null,
   "id": "ade6d6e7",
   "metadata": {},
   "outputs": [],
   "source": []
  },
  {
   "cell_type": "code",
   "execution_count": 1,
   "id": "648c5e89",
   "metadata": {},
   "outputs": [
    {
     "name": "stdout",
     "output_type": "stream",
     "text": [
      "Ride has been requested.\n",
      "Ride request has been canceled.\n",
      "--------------------------------------------------\n",
      "Setting state to Driver Assigned.\n",
      "Ride is already assigned to a driver.\n",
      "Ride request has been canceled. The driver is notified.\n",
      "--------------------------------------------------\n",
      "Setting state to EnRoute.\n",
      "Ride is already en route.\n",
      "Ride request cannot be canceled while en route.\n"
     ]
    }
   ],
   "source": [
    "from abc import ABC, abstractmethod\n",
    "\n",
    "# Define the RideState interface.\n",
    "class RideState(ABC):\n",
    "    @abstractmethod\n",
    "    def handle_request(self):\n",
    "        pass\n",
    "\n",
    "    @abstractmethod\n",
    "    def handle_cancel(self):\n",
    "        pass\n",
    "\n",
    "# Implement concrete states.\n",
    "\n",
    "class RideRequestedState(RideState):\n",
    "    def handle_request(self):\n",
    "        print(\"Ride has been requested.\")\n",
    "\n",
    "    def handle_cancel(self):\n",
    "        print(\"Ride request has been canceled.\")\n",
    "\n",
    "class DriverAssignedState(RideState):\n",
    "    def handle_request(self):\n",
    "        print(\"Ride is already assigned to a driver.\")\n",
    "\n",
    "    def handle_cancel(self):\n",
    "        print(\"Ride request has been canceled. The driver is notified.\")\n",
    "\n",
    "class EnRouteState(RideState):\n",
    "    def handle_request(self):\n",
    "        print(\"Ride is already en route.\")\n",
    "\n",
    "    def handle_cancel(self):\n",
    "        print(\"Ride request cannot be canceled while en route.\")\n",
    "\n",
    "# Context\n",
    "\n",
    "class Ride:\n",
    "    def __init__(self):\n",
    "        # Initial state is RideRequestedState.\n",
    "        self.state = RideRequestedState()\n",
    "\n",
    "    def set_state(self, new_state):\n",
    "        self.state = new_state\n",
    "\n",
    "    def request_ride(self):\n",
    "        self.state.handle_request()\n",
    "\n",
    "    def cancel_ride(self):\n",
    "        self.state.handle_cancel()\n",
    "\n",
    "# Client code\n",
    "if __name__ == \"__main__\":\n",
    "    ride = Ride()\n",
    "\n",
    "    ride.request_ride()  # Output: Ride has been requested.\n",
    "    ride.cancel_ride()   # Output: Ride request has been canceled.\n",
    "\n",
    "    print(\"--------------------------------------------------\")\n",
    "    print(\"Setting state to Driver Assigned.\")\n",
    "\n",
    "    ride.set_state(DriverAssignedState())\n",
    "    ride.request_ride()  # Output: Ride is already assigned to a driver.\n",
    "    ride.cancel_ride()   # Output: Ride request has been canceled. The driver is notified.\n",
    "\n",
    "    print(\"--------------------------------------------------\")\n",
    "    print(\"Setting state to EnRoute.\")\n",
    "\n",
    "    ride.set_state(EnRouteState())\n",
    "    ride.request_ride()  # Output: Ride is already en route.\n",
    "    ride.cancel_ride()   # Output: Ride request cannot be canceled while en route.\n"
   ]
  },
  {
   "cell_type": "code",
   "execution_count": null,
   "id": "e4ffc4db",
   "metadata": {},
   "outputs": [],
   "source": []
  },
  {
   "cell_type": "code",
   "execution_count": null,
   "id": "6bb4ae80",
   "metadata": {},
   "outputs": [],
   "source": []
  }
 ],
 "metadata": {
  "kernelspec": {
   "display_name": "Python 3 (ipykernel)",
   "language": "python",
   "name": "python3"
  },
  "language_info": {
   "codemirror_mode": {
    "name": "ipython",
    "version": 3
   },
   "file_extension": ".py",
   "mimetype": "text/x-python",
   "name": "python",
   "nbconvert_exporter": "python",
   "pygments_lexer": "ipython3",
   "version": "3.9.18"
  }
 },
 "nbformat": 4,
 "nbformat_minor": 5
}
