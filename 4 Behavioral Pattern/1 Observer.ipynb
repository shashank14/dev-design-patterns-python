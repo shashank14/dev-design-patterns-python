{
 "cells": [
  {
   "cell_type": "markdown",
   "id": "b570539b",
   "metadata": {},
   "source": [
    "###### oberver design pattern"
   ]
  },
  {
   "cell_type": "markdown",
   "id": "df8f94f3",
   "metadata": {},
   "source": [
    "The Observer design pattern is a behavioral pattern where an object, known as the subject, maintains a \n",
    "list of dependents,known as observers, that are notified of any state changes, \n",
    "typically by calling one of their methods. \n",
    "\n",
    "\n",
    "This pattern is used to define a one-to-many dependency between objects so that when one object changes state,\n",
    "all its dependents are notified and updated automatically."
   ]
  },
  {
   "cell_type": "code",
   "execution_count": null,
   "id": "faccb263",
   "metadata": {},
   "outputs": [],
   "source": []
  },
  {
   "cell_type": "markdown",
   "id": "a282c0f1",
   "metadata": {},
   "source": [
    "\n",
    "\n",
    "##### Observer:\n",
    "\n",
    "Observers are entities that need to be informed about changes in the subject. They have a method (like update) that is called when the subject's state changes.\n",
    "<!-- \n",
    "###### Concrete Subject:\n",
    "A concrete implementation of the subject. It stores the actual state and sends notifications to observers when its state changes. -->\n",
    "\n",
    "##### Concrete Observer:\n",
    "These are specific implementations of the observer. They react to the notifications sent by the subject.\n",
    "\n",
    "\n",
    "##### Subject (Observable):\n",
    "\n",
    "This is the entity that holds the state of interest. It maintains a list of observers and provides methods to add or remove observers. It notifies the observers about state changes."
   ]
  },
  {
   "cell_type": "markdown",
   "id": "4efce8a8",
   "metadata": {},
   "source": [
    "##### key components "
   ]
  },
  {
   "cell_type": "code",
   "execution_count": 2,
   "id": "8d9ae6be",
   "metadata": {},
   "outputs": [
    {
     "name": "stdout",
     "output_type": "stream",
     "text": [
      "Hello, Customer 1! Order #123 is now Out for Delivery.\n",
      "Restaurant Rest 1: Order #123 is now Out for Delivery.\n",
      "Driver Driver 1: Order #123 is now Out for Delivery.\n",
      "Call center: Order #123 is now Out for Delivery.\n",
      "Hello, Customer 1! Order #123 is now Delivered.\n",
      "Restaurant Rest 1: Order #123 is now Delivered.\n",
      "Driver Driver 1: Order #123 is now Delivered.\n"
     ]
    }
   ],
   "source": [
    "from abc import ABC, abstractmethod\n",
    "\n",
    "# Observer: Observer\n",
    "class Observer(ABC):\n",
    "    @abstractmethod\n",
    "    def update(self, order):\n",
    "        pass\n",
    "\n",
    "# Concrete Observer Classes (Customer, Restaurant, DeliveryDriver, CallCenter)\n",
    "class Customer(Observer):\n",
    "    def __init__(self, name):\n",
    "        self.name = name\n",
    "\n",
    "    def update(self, order):\n",
    "        print(f\"Hello, {self.name}! Order #{order.id} is now {order.status}.\")\n",
    "\n",
    "class Restaurant(Observer):\n",
    "    def __init__(self, name):\n",
    "        self.name = name\n",
    "\n",
    "    def update(self, order):\n",
    "        print(f\"Restaurant {self.name}: Order #{order.id} is now {order.status}.\")\n",
    "\n",
    "class DeliveryDriver(Observer):\n",
    "    def __init__(self, name):\n",
    "        self.name = name\n",
    "\n",
    "    def update(self, order):\n",
    "        print(f\"Driver {self.name}: Order #{order.id} is now {order.status}.\")\n",
    "\n",
    "class CallCenter(Observer):\n",
    "    def __init__(self, name):\n",
    "        self.name = name\n",
    "        \n",
    "    def update(self, order):\n",
    "        print(f\"Call center: Order #{order.id} is now {order.status}.\")\n",
    "\n",
    "# Subject: Order\n",
    "class Order:\n",
    "    def __init__(self, order_id):\n",
    "        self.id = order_id\n",
    "        self.status = \"Order Placed\"\n",
    "        self.observers = []\n",
    "\n",
    "    def attach(self, observer):\n",
    "        self.observers.append(observer)\n",
    "\n",
    "    def detach(self, observer):\n",
    "        self.observers.remove(observer)\n",
    "\n",
    "    def notify_observers(self):\n",
    "        for observer in self.observers:\n",
    "            observer.update(self)\n",
    "\n",
    "    def set_status(self, new_status):\n",
    "        self.status = new_status\n",
    "        self.notify_observers()\n",
    "\n",
    "# Client Code\n",
    "def main():\n",
    "    # Create an order\n",
    "    order1 = Order(123)\n",
    "\n",
    "    # Create customers, restaurants, drivers, and a call center to track the order\n",
    "    customer1 = Customer(\"Customer 1\")\n",
    "    restaurant1 = Restaurant(\"Rest 1\")\n",
    "    driver1 = DeliveryDriver(\"Driver 1\")\n",
    "    call_center = CallCenter(\"call center 1\")\n",
    "\n",
    "    # Attach observers to the order/ subject\n",
    "    order1.attach(customer1)\n",
    "    order1.attach(restaurant1)\n",
    "    order1.attach(driver1)\n",
    "    order1.attach(call_center)\n",
    "\n",
    "    # Simulate order status updates\n",
    "    order1.set_status(\"Out for Delivery\")\n",
    "\n",
    "    # Detach an observer (if needed)\n",
    "    order1.detach(call_center)\n",
    "\n",
    "    # Simulate more order status updates\n",
    "    order1.set_status(\"Delivered\")\n",
    "\n",
    "if __name__ == \"__main__\":\n",
    "    main()\n"
   ]
  },
  {
   "cell_type": "code",
   "execution_count": null,
   "id": "876cde90",
   "metadata": {},
   "outputs": [],
   "source": []
  },
  {
   "cell_type": "code",
   "execution_count": null,
   "id": "b7ebbe8b",
   "metadata": {},
   "outputs": [],
   "source": []
  },
  {
   "cell_type": "markdown",
   "id": "b3e4b95e",
   "metadata": {},
   "source": [
    "###### Event Management in Distributed Systems"
   ]
  },
  {
   "cell_type": "code",
   "execution_count": 3,
   "id": "b801eb48",
   "metadata": {},
   "outputs": [
    {
     "name": "stdout",
     "output_type": "stream",
     "text": [
      "LoggingService received: Server CPU usage is high\n",
      "MonitoringService received: Server CPU usage is high\n",
      "AlertingService received: Server CPU usage is high\n",
      "LoggingService received: Server disk space is low\n",
      "AlertingService received: Server disk space is low\n"
     ]
    }
   ],
   "source": [
    "# Observer Interface\n",
    "class Observer:\n",
    "    def update(self, message):\n",
    "        pass\n",
    "\n",
    "# Subject Class\n",
    "class EventManager:\n",
    "    def __init__(self):\n",
    "        self.observers = []\n",
    "\n",
    "    def register_observer(self, observer: Observer):\n",
    "        self.observers.append(observer)\n",
    "\n",
    "    def unregister_observer(self, observer: Observer):\n",
    "        self.observers.remove(observer)\n",
    "\n",
    "    def notify_observers(self, message):\n",
    "        for observer in self.observers:\n",
    "            observer.update(message)\n",
    "\n",
    "# Concrete Observer Classes\n",
    "class LoggingService(Observer):\n",
    "    def update(self, message):\n",
    "        print(f\"LoggingService received: {message}\")\n",
    "\n",
    "class MonitoringService(Observer):\n",
    "    def update(self, message):\n",
    "        print(f\"MonitoringService received: {message}\")\n",
    "\n",
    "class AlertingService(Observer):\n",
    "    def update(self, message):\n",
    "        print(f\"AlertingService received: {message}\")\n",
    "\n",
    "# Demo\n",
    "def distributed_system_demo():\n",
    "    # Event manager\n",
    "    event_manager = EventManager()\n",
    "\n",
    "    # Observers\n",
    "    logger = LoggingService()\n",
    "    monitor = MonitoringService()\n",
    "    alerter = AlertingService()\n",
    "\n",
    "    # Register observers\n",
    "    event_manager.register_observer(logger)\n",
    "    event_manager.register_observer(monitor)\n",
    "    event_manager.register_observer(alerter)\n",
    "\n",
    "    # Simulate event\n",
    "    event_manager.notify_observers(\"Server CPU usage is high\")\n",
    "\n",
    "    # Unregister an observer\n",
    "    event_manager.unregister_observer(monitor)\n",
    "\n",
    "    # Simulate another event\n",
    "    event_manager.notify_observers(\"Server disk space is low\")\n",
    "\n",
    "if __name__ == \"__main__\":\n",
    "    distributed_system_demo()\n"
   ]
  },
  {
   "cell_type": "code",
   "execution_count": null,
   "id": "36b7a05c",
   "metadata": {},
   "outputs": [],
   "source": []
  }
 ],
 "metadata": {
  "kernelspec": {
   "display_name": "Python 3 (ipykernel)",
   "language": "python",
   "name": "python3"
  },
  "language_info": {
   "codemirror_mode": {
    "name": "ipython",
    "version": 3
   },
   "file_extension": ".py",
   "mimetype": "text/x-python",
   "name": "python",
   "nbconvert_exporter": "python",
   "pygments_lexer": "ipython3",
   "version": "3.9.18"
  }
 },
 "nbformat": 4,
 "nbformat_minor": 5
}
