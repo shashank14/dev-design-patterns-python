{
 "cells": [
  {
   "cell_type": "markdown",
   "id": "366dae7c",
   "metadata": {},
   "source": [
    "#### State design pattern\n",
    "The State design pattern is a behavioral design pattern that allows an object to change its behavior when its internal state changes. This pattern is used to simulate the behavior of state machines in object-oriented programming."
   ]
  },
  {
   "cell_type": "code",
   "execution_count": null,
   "id": "ade6d6e7",
   "metadata": {},
   "outputs": [],
   "source": []
  },
  {
   "cell_type": "markdown",
   "id": "c8784da8",
   "metadata": {},
   "source": [
    "##### Example\n",
    "Let's consider a simple example of a traffic light:\n",
    "\n",
    "##### Context: TrafficLight\n",
    "\n",
    "###### State: TrafficLightState (abstract class or interface)\n",
    "\n",
    "###### Concrete States: RedState, GreenState, YellowState"
   ]
  },
  {
   "cell_type": "code",
   "execution_count": null,
   "id": "5b4f2622",
   "metadata": {},
   "outputs": [],
   "source": []
  },
  {
   "cell_type": "code",
   "execution_count": null,
   "id": "e4ffc4db",
   "metadata": {},
   "outputs": [],
   "source": []
  },
  {
   "cell_type": "code",
   "execution_count": 2,
   "id": "648c5e89",
   "metadata": {},
   "outputs": [
    {
     "name": "stdout",
     "output_type": "stream",
     "text": [
      "Ride has been requested.\n",
      "Ride request has been canceled.\n",
      "--------------------------------------------------\n",
      "Setting state to Driver Assigned.\n",
      "Ride is already assigned to a driver.\n",
      "Ride request has been canceled. The driver is notified.\n",
      "--------------------------------------------------\n",
      "Setting state to EnRoute.\n",
      "Ride is already en route.\n",
      "Ride request cannot be canceled while en route.\n"
     ]
    }
   ],
   "source": [
    "from abc import ABC, abstractmethod\n",
    "\n",
    "# Define the RideState interface.\n",
    "class RideState(ABC):\n",
    "    @abstractmethod\n",
    "    def handle_request(self):\n",
    "        pass\n",
    "\n",
    "    @abstractmethod\n",
    "    def handle_cancel(self):\n",
    "        pass\n",
    "\n",
    "# Implement concrete states.\n",
    "\n",
    "class RideRequestedState(RideState):\n",
    "    def handle_request(self):\n",
    "        print(\"Ride has been requested.\")\n",
    "\n",
    "    def handle_cancel(self):\n",
    "        print(\"Ride request has been canceled.\")\n",
    "\n",
    "class DriverAssignedState(RideState):\n",
    "    def handle_request(self):\n",
    "        print(\"Ride is already assigned to a driver.\")\n",
    "\n",
    "    def handle_cancel(self):\n",
    "        print(\"Ride request has been canceled. The driver is notified.\")\n",
    "\n",
    "class EnRouteState(RideState):\n",
    "    def handle_request(self):\n",
    "        print(\"Ride is already en route.\")\n",
    "\n",
    "    def handle_cancel(self):\n",
    "        print(\"Ride request cannot be canceled while en route.\")\n",
    "\n",
    "# Context\n",
    "class Ride:\n",
    "    def __init__(self):\n",
    "        # Initial state is RideRequestedState.\n",
    "        self.state = RideRequestedState()\n",
    "\n",
    "    def set_state(self, new_state):\n",
    "        self.state = new_state\n",
    "\n",
    "    def request_ride(self):\n",
    "        self.state.handle_request()\n",
    "\n",
    "    def cancel_ride(self):\n",
    "        self.state.handle_cancel()\n",
    "\n",
    "# Client code\n",
    "if __name__ == \"__main__\":\n",
    "    ride = Ride()\n",
    "\n",
    "    ride.request_ride()  # Output: Ride has been requested.\n",
    "    ride.cancel_ride()   # Output: Ride request has been canceled.\n",
    "\n",
    "    print(\"--------------------------------------------------\")\n",
    "    print(\"Setting state to Driver Assigned.\")\n",
    "\n",
    "    ride.set_state(DriverAssignedState())\n",
    "    ride.request_ride()  # Output: Ride is already assigned to a driver.\n",
    "    ride.cancel_ride()   # Output: Ride request has been canceled. The driver is notified.\n",
    "\n",
    "    print(\"--------------------------------------------------\")\n",
    "    print(\"Setting state to EnRoute.\")\n",
    "\n",
    "    ride.set_state(EnRouteState())\n",
    "    ride.request_ride()  # Output: Ride is already en route.\n",
    "    ride.cancel_ride()   # Output: Ride request cannot be canceled while en route.\n"
   ]
  },
  {
   "cell_type": "code",
   "execution_count": null,
   "id": "ef5a1b0d",
   "metadata": {},
   "outputs": [],
   "source": []
  },
  {
   "cell_type": "code",
   "execution_count": null,
   "id": "67117523",
   "metadata": {},
   "outputs": [],
   "source": []
  },
  {
   "cell_type": "markdown",
   "id": "31d93887",
   "metadata": {},
   "source": [
    "The State and Bridge design patterns are both structural patterns in object-oriented programming, and while they may appear similar at a glance, they serve different purposes and are used in different contexts. Understanding their distinct roles and applications is key to applying them effectively.\n",
    "\n",
    "###### State Pattern\n",
    "The State pattern is used for managing the state of an object. It allows an object to change its behavior when its internal state changes. This pattern is typically used when an object's behavior depends on its state and needs to be able to change at runtime.\n",
    "\n",
    "###### Purpose:\n",
    "To encapsulate varying behavior for the same object based on its internal state.\n",
    "###### Usage:\n",
    "Used when an object's behavior changes depending on its state, and these state-dependent behaviors are numerous and complex.\n",
    "\n",
    "\n",
    "###### Example: \n",
    "In a ride-sharing application, the state of a ride changes (requested, driver assigned, en route, completed), and each state has different behaviors and rules.\n",
    "\n",
    "##### Bridge Pattern\n",
    "The Bridge pattern is used to separate an abstraction from its implementation so that the two can vary independently. It's often used when both the abstraction and the implementation can have different variations and we want to avoid a permanent binding between them.\n",
    "\n",
    "###### Purpose: \n",
    "To decouple an abstraction from its implementation so that the two can vary independently.\n",
    "###### Usage: \n",
    "Used when you want to avoid a permanent binding between an abstraction and its implementation, which might be necessary if, for instance, the implementation must be selected or switched at runtime.\n",
    "\n",
    "\n",
    "###### Example: \n",
    "In a graphics application, you might have a Shape abstraction and several implementations like DrawingAPI1, DrawingAPI2, etc. The Shape class (abstraction) can use any of the DrawingAPI implementations.\n",
    "\n",
    "\n",
    "###### Key Differences\n",
    "\n",
    "###### Intent: \n",
    "State is about an object changing its behavior when its internal state changes, while Bridge is about separating an abstraction from its implementation.\n",
    "\n",
    "###### Use Cases: \n",
    "State is used in situations where an object's behavior is influenced by its state and can change over time. Bridge is used when both the interface and underlying implementations can vary independently.\n",
    "\n",
    "###### Flexibility: \n",
    "State allows an object to change its behavior dynamically. Bridge allows both the abstraction (interface) and concrete implementations to evolve independently without affecting each other.\n",
    "\n",
    "In summary, the State pattern is more about behavior changing with the internal state, while the Bridge pattern is about organizing code to manage abstractions and implementations separately, allowing for more flexible and independent design"
   ]
  },
  {
   "cell_type": "code",
   "execution_count": 4,
   "id": "05890e1f",
   "metadata": {},
   "outputs": [
    {
     "data": {
      "text/plain": [
       "'/Users/shashankragireddy/workspace/geo/Design Patterns/4 Behavioral Pattern'"
      ]
     },
     "execution_count": 4,
     "metadata": {},
     "output_type": "execute_result"
    }
   ],
   "source": [
    "pwd"
   ]
  },
  {
   "cell_type": "code",
   "execution_count": null,
   "id": "9237b6f5",
   "metadata": {},
   "outputs": [],
   "source": []
  },
  {
   "cell_type": "code",
   "execution_count": null,
   "id": "b14337b2",
   "metadata": {},
   "outputs": [],
   "source": []
  },
  {
   "cell_type": "code",
   "execution_count": 28,
   "id": "28350d0d",
   "metadata": {},
   "outputs": [],
   "source": [
    "def generateDivTags(numberOfTags):\n",
    "    arr = []\n",
    "    s=\"\"\n",
    "    backrack(s,0,0,numberOfTags,arr)\n",
    "    return arr\n",
    "\n",
    "def backrack(s,left,right,numberOfTags,arr):\n",
    "    if len(s)==numberOfTags*(len(\"<div></div>\")):\n",
    "        arr.append(s)\n",
    "        return\n",
    "    if left<numberOfTags:\n",
    "        backrack(s+\"<div>\",left+1,right,numberOfTags,arr)\n",
    "    if left>right:\n",
    "        backrack(s+\"</div>\",left,right+1,numberOfTags,arr)\n",
    "    return arr\n",
    "        "
   ]
  },
  {
   "cell_type": "code",
   "execution_count": 32,
   "id": "c0a187fb",
   "metadata": {},
   "outputs": [
    {
     "data": {
      "text/plain": [
       "['<div><div></div></div>', '<div></div><div></div>']"
      ]
     },
     "execution_count": 32,
     "metadata": {},
     "output_type": "execute_result"
    }
   ],
   "source": [
    "generateDivTags(2)"
   ]
  },
  {
   "cell_type": "code",
   "execution_count": 18,
   "id": "cc4dcf17",
   "metadata": {},
   "outputs": [
    {
     "data": {
      "text/plain": [
       "33"
      ]
     },
     "execution_count": 18,
     "metadata": {},
     "output_type": "execute_result"
    }
   ],
   "source": [
    "len(\"<div></div>\")*3"
   ]
  },
  {
   "cell_type": "code",
   "execution_count": null,
   "id": "3d244145",
   "metadata": {},
   "outputs": [],
   "source": []
  }
 ],
 "metadata": {
  "kernelspec": {
   "display_name": "Python 3 (ipykernel)",
   "language": "python",
   "name": "python3"
  },
  "language_info": {
   "codemirror_mode": {
    "name": "ipython",
    "version": 3
   },
   "file_extension": ".py",
   "mimetype": "text/x-python",
   "name": "python",
   "nbconvert_exporter": "python",
   "pygments_lexer": "ipython3",
   "version": "3.9.18"
  }
 },
 "nbformat": 4,
 "nbformat_minor": 5
}
