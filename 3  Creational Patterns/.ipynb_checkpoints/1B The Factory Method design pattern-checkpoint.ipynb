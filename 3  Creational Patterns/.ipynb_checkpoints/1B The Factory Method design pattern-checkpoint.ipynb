{
 "cells": [
  {
   "cell_type": "markdown",
   "id": "a046be19",
   "metadata": {},
   "source": [
    "The Factory Method design pattern: is a creational pattern that provides an interface for creating objects in a superclass, but allows subclasses to alter the type of objects that will be created. It's particularly useful when there is a need to delegate the instantiation process to child classes."
   ]
  },
  {
   "cell_type": "markdown",
   "id": "c577ea5c",
   "metadata": {},
   "source": [
    "let's refine the example with a more realistic approach within the domain of fighter jets. In the real world, different types of fighter jets often require specific types of engines and avionics systems. For instance, a stealth fighter jet might need an engine that prioritizes low radar signature, while an interceptor jet might prioritize speed and agility."
   ]
  },
  {
   "cell_type": "code",
   "execution_count": null,
   "id": "7dba539f",
   "metadata": {},
   "outputs": [],
   "source": []
  },
  {
   "cell_type": "markdown",
   "id": "406f8fb5",
   "metadata": {},
   "source": [
    "Explanation\n",
    "In this revised example:\n",
    "\n",
    "Engine Types: LowObservableEngine is suited for stealth jets, focusing on low radar signature. HighPerformanceEngine is for interceptors, emphasizing speed and agility.\n",
    "\n",
    "Avionics Types: StealthAvionics supports stealth operations with specialized features, whereas CombatAvionics is designed for air-to-air combat scenarios.\n",
    "\n",
    "Factory Methods in Subclasses: Each subclass (StealthJet and InterceptorJet) implements the create_engine and create_avionics methods to instantiate the appropriate engine and avionics systems.\n",
    "\n"
   ]
  },
  {
   "cell_type": "code",
   "execution_count": 4,
   "id": "202212fb",
   "metadata": {},
   "outputs": [
    {
     "name": "stdout",
     "output_type": "stream",
     "text": [
      "Stealth Jet: Engine - Turbofan engine for high speed and efficiency ; Weapon - Missiles for long-range combat ; Avionics - Advanced stealth avionics for low visibility operations\n",
      "Interceptor Jet: Engine - Afterburner engine for high thrust ; Weapon - Cannon for close-range combat ; Avionics - Advanced combat avionics for superior air-to-air capabilities\n"
     ]
    }
   ],
   "source": [
    "from abc import ABC, abstractmethod\n",
    "\n",
    "# Abstract component classes\n",
    "class Engine(ABC):\n",
    "    @abstractmethod\n",
    "    def specification(self):\n",
    "        pass\n",
    "\n",
    "class Weapon(ABC):\n",
    "    @abstractmethod\n",
    "    def specification(self):\n",
    "        pass\n",
    "\n",
    "class Avionics(ABC):  # New abstract component class for Avionics\n",
    "    @abstractmethod\n",
    "    def specification(self):\n",
    "        pass\n",
    "\n",
    "# Concrete component types for Engines, Weapons, and Avionics\n",
    "class TurbofanEngine(Engine):\n",
    "    def specification(self):\n",
    "        return \"Turbofan engine for high speed and efficiency\"\n",
    "\n",
    "class AfterburnerEngine(Engine):\n",
    "    def specification(self):\n",
    "        return \"Afterburner engine for high thrust\"\n",
    "\n",
    "class MissileWeapon(Weapon):\n",
    "    def specification(self):\n",
    "        return \"Missiles for long-range combat\"\n",
    "\n",
    "class CannonWeapon(Weapon):\n",
    "    def specification(self):\n",
    "        return \"Cannon for close-range combat\"\n",
    "\n",
    "class StealthAvionics(Avionics):  # New concrete class for Avionics\n",
    "    def specification(self):\n",
    "        return \"Advanced stealth avionics for low visibility operations\"\n",
    "\n",
    "class CombatAvionics(Avionics):  # New concrete class for Avionics\n",
    "    def specification(self):\n",
    "        return \"Advanced combat avionics for superior air-to-air capabilities\"\n",
    "\n",
    "# Superclass with the factory method\n",
    "class FighterJet(ABC):\n",
    "    def __init__(self):\n",
    "        self.engine = self.create_engine()\n",
    "        self.weapon = self.create_weapon()\n",
    "        self.avionics = self.create_avionics()  # New component initialization\n",
    "\n",
    "    @abstractmethod\n",
    "    def create_engine(self):\n",
    "        pass\n",
    "\n",
    "    @abstractmethod\n",
    "    def create_weapon(self):\n",
    "        pass\n",
    "\n",
    "    @abstractmethod\n",
    "    def create_avionics(self):  # New factory method for avionics\n",
    "        pass\n",
    "\n",
    "# Subclass implementing the factory methods\n",
    "class StealthJet(FighterJet):\n",
    "    def create_engine(self):\n",
    "        return TurbofanEngine()\n",
    "\n",
    "    def create_weapon(self):\n",
    "        return MissileWeapon()\n",
    "\n",
    "    def create_avionics(self):  # Implementing the avionics for StealthJet\n",
    "        return StealthAvionics()\n",
    "\n",
    "class InterceptorJet(FighterJet):\n",
    "    def create_engine(self):\n",
    "        return AfterburnerEngine()\n",
    "\n",
    "    def create_weapon(self):\n",
    "        return CannonWeapon()\n",
    "\n",
    "    def create_avionics(self):  # Implementing the avionics for InterceptorJet\n",
    "        return CombatAvionics()\n",
    "\n",
    "# Usage\n",
    "stealth_jet = StealthJet()\n",
    "print(\"Stealth Jet: Engine -\", stealth_jet.engine.specification(),\n",
    "      \"; Weapon -\", stealth_jet.weapon.specification(),\n",
    "      \"; Avionics -\", stealth_jet.avionics.specification())\n",
    "\n",
    "interceptor_jet = InterceptorJet()\n",
    "print(\"Interceptor Jet: Engine -\", interceptor_jet.engine.specification(),\n",
    "      \"; Weapon -\", interceptor_jet.weapon.specification(),\n",
    "      \"; Avionics -\", interceptor_jet.avionics.specification())\n"
   ]
  },
  {
   "cell_type": "markdown",
   "id": "aa60c981",
   "metadata": {},
   "source": [
    "Applicability\n",
    "This example illustrates scenarios where the Factory Method pattern is particularly useful:\n",
    "\n",
    "Specialized Configuration: Different jet types have specific needs for engines and avionics. This pattern allows each type of jet to independently specify and create these components.\n",
    "\n",
    "Complex Creation Logic: If the creation of engines and avionics involves complex decision-making or configuration, encapsulating this within the subclass is beneficial.\n",
    "\n",
    "Maintaining Flexibility and Extensibility: The pattern allows for easy introduction of new jet types or component types without modifying existing classes.\n",
    "\n",
    "Decoupling: The FighterJet superclass remains decoupled from the specific types of engines and avionics, promoting a flexible and maintainable codebase.\n",
    "\n",
    "In real-world applications, the Factory Method pattern is valuable in scenarios where products or components are diverse and require specialized creation processes, as seen in different types of fighter jets and their components. This approach enables a system to be both adaptable and scalable."
   ]
  },
  {
   "cell_type": "markdown",
   "id": "771d48f1",
   "metadata": {},
   "source": [
    "### Conclusion\n",
    "In the Factory Method pattern, it's crucial for all subclasses to implement the abstract methods defined in the superclass. Failing to do so breaks the contract established by the superclass and will result in runtime errors. This ensures consistency and enforces the implementation of all necessary components in each subclass, which is a fundamental aspect of this design pattern."
   ]
  },
  {
   "cell_type": "code",
   "execution_count": null,
   "id": "42a1deca",
   "metadata": {},
   "outputs": [],
   "source": []
  }
 ],
 "metadata": {
  "kernelspec": {
   "display_name": "Python 3 (ipykernel)",
   "language": "python",
   "name": "python3"
  },
  "language_info": {
   "codemirror_mode": {
    "name": "ipython",
    "version": 3
   },
   "file_extension": ".py",
   "mimetype": "text/x-python",
   "name": "python",
   "nbconvert_exporter": "python",
   "pygments_lexer": "ipython3",
   "version": "3.9.18"
  }
 },
 "nbformat": 4,
 "nbformat_minor": 5
}
