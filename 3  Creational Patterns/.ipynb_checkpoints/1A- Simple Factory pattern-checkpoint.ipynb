{
 "cells": [
  {
   "cell_type": "markdown",
   "id": "7feb0071",
   "metadata": {},
   "source": [
    "### Simple factory design pattern:"
   ]
  },
  {
   "cell_type": "code",
   "execution_count": null,
   "id": "44fb4959",
   "metadata": {},
   "outputs": [],
   "source": []
  },
  {
   "cell_type": "markdown",
   "id": "b10e8f89",
   "metadata": {},
   "source": [
    "##### Simple factory design pattern:\n",
    "\n",
    "The Simple Factory Design Pattern is a creational pattern that provides a simple interface\n",
    "for creating objects without specifying their concrete classes. \n",
    "It involves a factory class that is responsible for instantiating objects based on the\n",
    "input parameters it receives.  \n",
    "\n",
    "The client code interacts with the factory to obtain\n",
    "the desired object without having to know the details of the object's creation.\n"
   ]
  },
  {
   "cell_type": "code",
   "execution_count": null,
   "id": "5cbac6ea",
   "metadata": {},
   "outputs": [],
   "source": []
  },
  {
   "cell_type": "markdown",
   "id": "cbccedf8",
   "metadata": {},
   "source": [
    "\n",
    "## Here are the key components of the Simple Factory Design Pattern:\n",
    "\n",
    "##### Product:\n",
    "The interface or abstract class that declares the methods that concrete products must implement.\n",
    "\n",
    "##### Concrete Product:\n",
    "The actual implementations of the product interface or class.\n",
    "\n",
    "##### Factory:\n",
    "The factory class responsible for creating instances of concrete products based on client requests.\n",
    "It contains a method that takes parameters and decides which product to instantiate and return.\n",
    "\n",
    "##### Client:\n",
    "The code that interacts with the factory to obtain instances of concrete products without knowing\n",
    "their specific implementations."
   ]
  },
  {
   "cell_type": "code",
   "execution_count": null,
   "id": "ac46dd9d",
   "metadata": {},
   "outputs": [],
   "source": []
  },
  {
   "cell_type": "markdown",
   "id": "97f0f70a",
   "metadata": {},
   "source": [
    "Description:\n",
    "IFighterJet (Interface): This is the interface that all types of fighter jets will implement. It declares the display_info method.\n",
    "\n",
    "MiG29, SukhoiSu35, F16Falcon (Concrete Products): These are the concrete classes that implement the IFighterJet interface. Each class provides its specific implementation of the display_info method.\n",
    "\n",
    "FighterJetFactory (Factory Class): This class has the create_fighter_jet method that decides which concrete fighter jet to instantiate based on the input it receives.\n",
    "\n",
    "Client: This is typically the class that interacts with the factory to request objects. In your code, it's represented by the main function that creates instances of fighter jets using the FighterJetFactory."
   ]
  },
  {
   "cell_type": "code",
   "execution_count": 1,
   "id": "2530c867",
   "metadata": {},
   "outputs": [
    {
     "name": "stdout",
     "output_type": "stream",
     "text": [
      "MiG-29 Fighter Jet\n",
      "Sukhoi Su-35 Fighter Jet\n",
      "F-16 Falcon Fighter Jet\n"
     ]
    }
   ],
   "source": [
    "from abc import ABC, abstractmethod\n",
    "\n",
    "# Product Interface: FighterJet\n",
    "class IFighterJet(ABC):\n",
    "    @abstractmethod\n",
    "    def display_info(self):\n",
    "        pass\n",
    "\n",
    "# Concrete Products\n",
    "class MiG29(IFighterJet):\n",
    "    def display_info(self):\n",
    "        print(\"MiG-29 Fighter Jet\")\n",
    "\n",
    "class SukhoiSu35(IFighterJet):\n",
    "    def display_info(self):\n",
    "        print(\"Sukhoi Su-35 Fighter Jet\")\n",
    "\n",
    "class F16Falcon(IFighterJet):\n",
    "    def display_info(self):\n",
    "        print(\"F-16 Falcon Fighter Jet\")\n",
    "\n",
    "# Simple Factory\n",
    "class FighterJetFactory:\n",
    "    def create_fighter_jet(self, jet_type):\n",
    "        if jet_type == \"MiG29\":\n",
    "            return MiG29()\n",
    "        elif jet_type == \"Su35\":\n",
    "            return SukhoiSu35()\n",
    "        elif jet_type == \"F16\":\n",
    "            return F16Falcon()\n",
    "        else:\n",
    "            raise ValueError(\"Invalid fighter jet type\")\n",
    "\n",
    "# Client Code\n",
    "def main():\n",
    "    factory = FighterJetFactory()\n",
    "\n",
    "    mig29 = factory.create_fighter_jet(\"MiG29\")\n",
    "    mig29.display_info()\n",
    "\n",
    "    su35 = factory.create_fighter_jet(\"Su35\")\n",
    "    su35.display_info()\n",
    "\n",
    "    f16 = factory.create_fighter_jet(\"F16\")\n",
    "    f16.display_info()\n",
    "\n",
    "if __name__ == \"__main__\":\n",
    "    main()\n"
   ]
  },
  {
   "cell_type": "code",
   "execution_count": null,
   "id": "e5c39959",
   "metadata": {},
   "outputs": [],
   "source": []
  },
  {
   "cell_type": "markdown",
   "id": "3b762431",
   "metadata": {},
   "source": [
    "The Simple Factory Design Pattern: is straightforward and provides \n",
    "a centralized point for creating objects, making it easier to manage the instantiation \n",
    "process and hide the details of object creation from the client code.\n",
    "\n",
    "However, it does not adhere to the Open/Closed Principle, as adding a new product requires modifying the \n",
    "factory class. For more extensibility, other creational patterns like the Factory Method or\n",
    "Abstract Factory may be considered."
   ]
  },
  {
   "cell_type": "code",
   "execution_count": null,
   "id": "f7939dfa",
   "metadata": {},
   "outputs": [],
   "source": []
  },
  {
   "cell_type": "code",
   "execution_count": 2,
   "id": "2ccf157c",
   "metadata": {},
   "outputs": [
    {
     "ename": "SyntaxError",
     "evalue": "invalid syntax (3689837917.py, line 1)",
     "output_type": "error",
     "traceback": [
      "\u001b[0;36m  Cell \u001b[0;32mIn [2], line 1\u001b[0;36m\u001b[0m\n\u001b[0;31m    +-------------------------+\u001b[0m\n\u001b[0m                               ^\u001b[0m\n\u001b[0;31mSyntaxError\u001b[0m\u001b[0;31m:\u001b[0m invalid syntax\n"
     ]
    }
   ],
   "source": [
    "+-------------------------+\n",
    "|    <<interface>>        |\n",
    "|      IFighterJet        |\n",
    "+-------------------------+\n",
    "| - display_info(): void  |\n",
    "+-------------------------+\n",
    "            ^\n",
    "            | implements\n",
    "+-----------+----------+  +-----------------------+  +-------------------------+\n",
    "|    MiG29             |  |   SukhoiSu35          |  |   F16Falcon             |\n",
    "+----------------------+  +-----------------------+  +-------------------------+\n",
    "| - display_info(): void | | - display_info(): void | | - display_info(): void  |\n",
    "+----------------------+  +-----------------------+  +-------------------------+\n",
    "\n",
    "+-----------------------+\n",
    "|   FighterJetFactory   |\n",
    "+-----------------------+\n",
    "| + create_fighter_jet()|\n",
    "+-----------------------+\n",
    "\n",
    "+-----------------------+\n",
    "|         Client        |\n",
    "+-----------------------+\n",
    "|         main()        |\n",
    "+-----------------------+\n"
   ]
  }
 ],
 "metadata": {
  "kernelspec": {
   "display_name": "Python 3 (ipykernel)",
   "language": "python",
   "name": "python3"
  },
  "language_info": {
   "codemirror_mode": {
    "name": "ipython",
    "version": 3
   },
   "file_extension": ".py",
   "mimetype": "text/x-python",
   "name": "python",
   "nbconvert_exporter": "python",
   "pygments_lexer": "ipython3",
   "version": "3.9.18"
  }
 },
 "nbformat": 4,
 "nbformat_minor": 5
}
