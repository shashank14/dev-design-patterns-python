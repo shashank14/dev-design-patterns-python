{
 "cells": [
  {
   "cell_type": "markdown",
   "id": "2dcf579d",
   "metadata": {},
   "source": [
    "### Singleton design pattern "
   ]
  },
  {
   "cell_type": "markdown",
   "id": "e8f7d3a4",
   "metadata": {},
   "source": [
    "The Singleton design pattern is a creational design pattern that ensures a \n",
    "class has only one instance and provides\n",
    "a global point of access to it. It guarantees that a single instance of the class is created\n",
    "and shared across the entire application.\n",
    "\n",
    "In Python, you can implement the Singleton design pattern using various approaches. \n",
    "Here's an example of a common implementation using a class variable:"
   ]
  },
  {
   "cell_type": "code",
   "execution_count": null,
   "id": "36558678",
   "metadata": {},
   "outputs": [],
   "source": []
  },
  {
   "cell_type": "markdown",
   "id": "33838311",
   "metadata": {},
   "source": [
    "##### Key Characteristics of the Singleton Pattern:\n",
    "###### Single Instance:\n",
    "The pattern ensures that a class has only one instance. This is typically enforced by making the class constructor private, preventing other classes from creating a new instance.\n",
    "\n",
    "###### Global Access:\n",
    "It provides a global access point to that instance. This is usually implemented through a static method in the class.\n",
    "\n",
    "###### Lazy Initialization:\n",
    "Often, the singleton instance is not created until it's needed for the first time. This is known as lazy initialization and helps save system resources."
   ]
  },
  {
   "cell_type": "code",
   "execution_count": null,
   "id": "c2fadbca",
   "metadata": {},
   "outputs": [],
   "source": []
  },
  {
   "cell_type": "markdown",
   "id": "d56a58a4",
   "metadata": {},
   "source": [
    "In this example, the Singleton class has a class variable _instance that keeps track of the single instance of\n",
    "the class. The __new__() method is overridden to control the instantiation process.\n",
    "\n",
    "The __new__() method is a special method in Python that is called to create a new instance of a class.\n",
    "\n",
    "\n",
    "In this implementation, it checks whether the _instance variable is None.\n",
    "If it is None, it creates a new instance using super().__new__(cls) and assigns\n",
    "it to _instance. If _instance is not None, it simply returns the existing instance.\n",
    "\n",
    "When creating instances of the Singleton class, such as singleton1 and singleton2, \n",
    "both variables will refer to the same object. This is because the __new__() method ensures\n",
    "that only one instance is created and shared.\n",
    "\n",
    "It's important to note that the Singleton pattern is often considered a controversial \n",
    "pattern due to potential issues with maintainability and testability.\n",
    "It introduces global state and can make it harder to reason about dependencies and control\n",
    "object lifecycles. Therefore, it's advisable to carefully consider the use of the\n",
    "###### Singleton pattern and explore alternative design approaches, such as dependency injection, when appropriate."
   ]
  },
  {
   "cell_type": "code",
   "execution_count": 21,
   "id": "c24e6bd1",
   "metadata": {},
   "outputs": [],
   "source": [
    "class Singleton:\n",
    "    __instance = None\n",
    "    __initialized = False\n",
    "\n",
    "    settings = {\n",
    "        \"key1\": \"value1\",\n",
    "        \"key2\": \"value2\"\n",
    "    }\n",
    "\n",
    "    def __new__(cls, *args, **kwargs):\n",
    "        if not cls.__instance:\n",
    "            cls.__instance = super().__new__(cls)\n",
    "        return cls.__instance\n",
    "    \n",
    "    def __init__(self,arg1,arg2):\n",
    "        if not Singleton.__initialized:\n",
    "            self.arg1 = arg1\n",
    "            self.arg2 = arg2\n",
    "            Singleton.__initialized = True\n",
    "\n",
    "    def get_setting(self):\n",
    "#         print(self.settings,self.arg1,self.arg2)\n",
    "        return self.settings.get(\"key1\")\n",
    "\n",
    "    def set_setting(self,value):\n",
    "        self.settings[\"key1\"] = value"
   ]
  },
  {
   "cell_type": "code",
   "execution_count": 22,
   "id": "0464b7e8",
   "metadata": {},
   "outputs": [
    {
     "name": "stdout",
     "output_type": "stream",
     "text": [
      "4562403536 4562403536\n"
     ]
    }
   ],
   "source": [
    "# Usage example\n",
    "singleton1 = Singleton(\"meta1\",\"google1\")\n",
    "singleton2 = Singleton(\"meta2\",\"google2\")\n",
    "print(id(singleton1),id(singleton2))"
   ]
  },
  {
   "cell_type": "code",
   "execution_count": null,
   "id": "5171cb0a",
   "metadata": {},
   "outputs": [],
   "source": []
  },
  {
   "cell_type": "code",
   "execution_count": 17,
   "id": "752f51e0",
   "metadata": {},
   "outputs": [],
   "source": [
    "singleton1.set_setting(\"100\")"
   ]
  },
  {
   "cell_type": "code",
   "execution_count": 18,
   "id": "87cebca2",
   "metadata": {},
   "outputs": [
    {
     "data": {
      "text/plain": [
       "'100'"
      ]
     },
     "execution_count": 18,
     "metadata": {},
     "output_type": "execute_result"
    }
   ],
   "source": [
    "singleton2.get_setting()"
   ]
  },
  {
   "cell_type": "code",
   "execution_count": 19,
   "id": "d0e3c1ee",
   "metadata": {},
   "outputs": [],
   "source": [
    "singleton2.set_setting(200)"
   ]
  },
  {
   "cell_type": "code",
   "execution_count": 20,
   "id": "4632c766",
   "metadata": {},
   "outputs": [
    {
     "data": {
      "text/plain": [
       "200"
      ]
     },
     "execution_count": 20,
     "metadata": {},
     "output_type": "execute_result"
    }
   ],
   "source": [
    "singleton1.get_setting()"
   ]
  },
  {
   "cell_type": "code",
   "execution_count": null,
   "id": "dc14b3f3",
   "metadata": {},
   "outputs": [],
   "source": []
  },
  {
   "cell_type": "code",
   "execution_count": null,
   "id": "1d0fdbf5",
   "metadata": {},
   "outputs": [],
   "source": []
  },
  {
   "cell_type": "code",
   "execution_count": null,
   "id": "0f5b47bc",
   "metadata": {},
   "outputs": [],
   "source": []
  },
  {
   "cell_type": "code",
   "execution_count": 3,
   "id": "b0e90e50",
   "metadata": {},
   "outputs": [
    {
     "name": "stdout",
     "output_type": "stream",
     "text": [
      "{'key1': 'shashank', 'key2': 'value2'} meta google\n",
      "None\n"
     ]
    }
   ],
   "source": [
    "singleton1.set_setting(\"name\",\"shashank\")\n",
    "ad = singleton1.get_setting(\"name\")\n",
    "print(ad)"
   ]
  },
  {
   "cell_type": "markdown",
   "id": "e0dd096b",
   "metadata": {},
   "source": [
    "##### Use Cases:\n",
    "Singletons are often used in scenarios where system-wide coordinated behavior is necessary, such as:\n",
    "\n",
    "##### Database Connections:\n",
    "Ensuring that only one connection pool is created and shared across the application.\n",
    "\n",
    "##### Configuration Settings:\n",
    "Holding application-wide settings in a single object that is globally accessible.\n",
    "\n",
    "##### Logging: \n",
    "Managing logging to a single log file from throughout an application.\n",
    "\n",
    "##### Caching:\n",
    "Storing and managing a cache of data or configurations that needs to be globally accessible and consistent."
   ]
  },
  {
   "cell_type": "code",
   "execution_count": 34,
   "id": "d221b276",
   "metadata": {},
   "outputs": [
    {
     "name": "stdout",
     "output_type": "stream",
     "text": [
      "{'key1': 'value1', 'key2': 'value2'} meta google\n",
      "None\n"
     ]
    }
   ],
   "source": [
    "# Usage example\n",
    "singleton1 = Singleton(\"meta\",\"google\")\n",
    "ad = singleton1.get_setting(\"name\")\n",
    "print(ad)"
   ]
  },
  {
   "cell_type": "code",
   "execution_count": 25,
   "id": "af09fc13",
   "metadata": {},
   "outputs": [
    {
     "name": "stdout",
     "output_type": "stream",
     "text": [
      "{'key1': 'shashank', 'key2': 'value2'} meta google\n",
      "None\n"
     ]
    }
   ],
   "source": []
  },
  {
   "cell_type": "code",
   "execution_count": 39,
   "id": "0d5cded4",
   "metadata": {},
   "outputs": [],
   "source": [
    "singleton2.set_setting(\"33\",\"kli\")"
   ]
  },
  {
   "cell_type": "code",
   "execution_count": 38,
   "id": "e1e712ef",
   "metadata": {},
   "outputs": [],
   "source": [
    "singleton2 =  Singleton(\"meta1\",\"google1\")"
   ]
  },
  {
   "cell_type": "code",
   "execution_count": 40,
   "id": "7939e892",
   "metadata": {},
   "outputs": [
    {
     "name": "stdout",
     "output_type": "stream",
     "text": [
      "{'key1': 'kli', 'key2': 'value2'} meta google\n",
      "{'key1': 'kli', 'key2': 'value2'} meta google\n"
     ]
    }
   ],
   "source": [
    "singleton1.get_setting(\"name\")\n",
    "singleton2.get_setting(\"name\")"
   ]
  },
  {
   "cell_type": "code",
   "execution_count": 91,
   "id": "34eade3c",
   "metadata": {},
   "outputs": [
    {
     "name": "stdout",
     "output_type": "stream",
     "text": [
      "True\n"
     ]
    }
   ],
   "source": [
    "print(singleton1 is singleton2)  # Output: True"
   ]
  },
  {
   "cell_type": "code",
   "execution_count": null,
   "id": "f3f0d53e",
   "metadata": {},
   "outputs": [],
   "source": [
    "class ObjectPool:\n",
    "    _pool = []\n",
    "\n",
    "    def __new__(cls, *args, **kwargs):\n",
    "        if cls._pool:\n",
    "            return cls._pool.pop()\n",
    "        else:\n",
    "            return super().__new__(cls, *args, **kwargs)\n",
    "\n",
    "    def __init__(self, value):\n",
    "        self.value = value\n",
    "\n",
    "    def release(self):\n",
    "        self.__class__._pool.append(self)\n",
    "\n",
    "# Usage example\n",
    "obj1 = ObjectPool(\"Object 1\")\n",
    "obj2 = ObjectPool(\"Object 2\")\n",
    "\n",
    "print(obj1.value)  # Output: Object 1\n",
    "print(obj2.value)  # Output: Object 2\n",
    "\n",
    "obj1.release()\n",
    "obj3 = ObjectPool(\"Object 3\")\n",
    "\n",
    "print(obj3.value)  # Output: Object 1 (reused from the pool)\n"
   ]
  },
  {
   "cell_type": "code",
   "execution_count": 4,
   "id": "7c6c37a4",
   "metadata": {},
   "outputs": [],
   "source": []
  },
  {
   "cell_type": "code",
   "execution_count": null,
   "id": "23c2f4c7",
   "metadata": {},
   "outputs": [],
   "source": [
    "\n",
    "# In Python, __new__() is a special method that is called to create a new instance of a class before\n",
    "# it is initialized. It is a static method that is responsible for creating and returning the instance of the class.\n",
    "\n",
    "# The __new__() method is defined in the base object class and can be overridden\n",
    "# in derived classes to customize the object creation process. It is called with \n",
    "# the class as the first argument (cls) and any additional arguments that are passed to the class constructor.\n",
    "\n",
    "# Here's an example that demonstrates the usage of __new__():"
   ]
  },
  {
   "cell_type": "code",
   "execution_count": null,
   "id": "22d97838",
   "metadata": {},
   "outputs": [],
   "source": []
  },
  {
   "cell_type": "code",
   "execution_count": 4,
   "id": "0d4a0283",
   "metadata": {},
   "outputs": [],
   "source": [
    "settings = dict()\n",
    "settings[\"name\"] = \"shashank\""
   ]
  },
  {
   "cell_type": "code",
   "execution_count": 6,
   "id": "6486983c",
   "metadata": {},
   "outputs": [
    {
     "data": {
      "text/plain": [
       "'shashank'"
      ]
     },
     "execution_count": 6,
     "metadata": {},
     "output_type": "execute_result"
    }
   ],
   "source": [
    "settings[\"name\"]"
   ]
  },
  {
   "cell_type": "code",
   "execution_count": 2,
   "id": "4611a082",
   "metadata": {},
   "outputs": [],
   "source": [
    "class MyClass:\n",
    "    def __new__(cls, *args, **kwargs):\n",
    "        print(\"Creating instance using __new__()\")\n",
    "        instance = super().__new__(cls)\n",
    "        return instance\n",
    "\n",
    "    def __init__(self, *args, **kwargs):\n",
    "        print(\"Initializing instance using __init__()\")\n",
    "        \n",
    "        \n",
    "    def set_data(self):\n",
    "        "
   ]
  },
  {
   "cell_type": "code",
   "execution_count": 3,
   "id": "7b8734c9",
   "metadata": {},
   "outputs": [
    {
     "name": "stdout",
     "output_type": "stream",
     "text": [
      "Creating instance using __new__()\n",
      "Initializing instance using __init__()\n"
     ]
    }
   ],
   "source": [
    "\n",
    "# Usage example\n",
    "my_object = MyClass()"
   ]
  },
  {
   "cell_type": "code",
   "execution_count": null,
   "id": "9873e9ad",
   "metadata": {},
   "outputs": [],
   "source": [
    "\n",
    "# In this example, the __new__() method is defined in the MyClass class. \n",
    "# It is responsible for creating and returning the instance of the class. In this case, \n",
    "# it simply calls the __new__() method of the base object class (super().__new__(cls)) to create the instance.\n",
    "\n",
    "# The __init__() method is the initializer method that is called after __new__() and is \n",
    "# responsible for initializing the instance. In this example, it prints a message to\n",
    "# indicate that it is initializing the instance.\n",
    "\n",
    "# When we create an instance of MyClass using my_object = MyClass(), the following steps occur:\n",
    "\n",
    "# The __new__() method is called to create the instance. It prints the message \"Creating instance using new()\".\n",
    "\n",
    "# The __new__() method then calls super().__new__(cls) to create and return the instance.\n",
    "\n",
    "# Once the instance is created, the __init__() method is called to initialize the\n",
    "# instance. It prints the message \"Initializing instance using init()\".\n",
    "\n",
    "# The __new__() method provides a way to customize the object creation process in Python. \n",
    "# It is commonly used in advanced scenarios such as implementing singletons, \n",
    "# custom metaclasses, and object pooling. However, in most cases, you will\n",
    "# not need to override __new__() and can rely on the default object creation behavior provided by Python."
   ]
  },
  {
   "cell_type": "code",
   "execution_count": null,
   "id": "a3582de2",
   "metadata": {},
   "outputs": [],
   "source": [
    "The line super().__new__(cls) in the __new__() method is responsible for calling the __new__() method of the base object class and creating a new instance of the class.\n",
    "\n",
    "In Python, every class is derived from the base object class, and the super() function provides a way to access methods and attributes from the superclass. By calling super().__new__(cls), you are invoking the __new__() method of the base object class to create the instance.\n",
    "\n",
    "The __new__() method is a static method that is responsible for creating a new instance of the class. It takes the class as the first argument (cls) and any additional arguments that are passed to the class constructor.\n",
    "\n",
    "By calling super().__new__(cls), you delegate the responsibility of creating the instance to the base object class. This ensures that the proper instance creation mechanism defined in the base object class is used, including any special behavior or memory allocation that may be implemented there.\n",
    "\n",
    "After super().__new__(cls) is called, the instance is created and returned. It can then be further initialized and customized in the __init__() method or any other initialization logic specific to your class.\n",
    "\n",
    "In summary, super().__new__(cls) in the __new__() method calls the __new__() method of the base object class to create a new instance of the class, leveraging the default object creation mechanism provided by Python"
   ]
  },
  {
   "cell_type": "code",
   "execution_count": null,
   "id": "f84aed57",
   "metadata": {},
   "outputs": [],
   "source": []
  },
  {
   "cell_type": "code",
   "execution_count": null,
   "id": "e057623a",
   "metadata": {},
   "outputs": [],
   "source": []
  },
  {
   "cell_type": "code",
   "execution_count": 124,
   "id": "79ba0797",
   "metadata": {},
   "outputs": [],
   "source": [
    "class Ten:\n",
    "    \n",
    "    name = None\n",
    "    \n",
    "    def __init__(self,arg1):\n",
    "        self.arg1 = arg1\n",
    "        #self.name = \"Shashank\"\n",
    "        \n",
    "        \n",
    "    def print_ar(self):\n",
    "        print(self.name)\n",
    "        print(self.arg1)\n",
    "        \n",
    "        \n",
    "    @classmethod\n",
    "    def ppa(cls):\n",
    "        print(cls.name)\n",
    "        "
   ]
  },
  {
   "cell_type": "code",
   "execution_count": 125,
   "id": "1722554d",
   "metadata": {},
   "outputs": [],
   "source": [
    "t = Ten(\"sd\")"
   ]
  },
  {
   "cell_type": "code",
   "execution_count": 126,
   "id": "a236812c",
   "metadata": {},
   "outputs": [
    {
     "name": "stdout",
     "output_type": "stream",
     "text": [
      "None\n",
      "sd\n"
     ]
    }
   ],
   "source": [
    "t.print_ar()"
   ]
  },
  {
   "cell_type": "code",
   "execution_count": 127,
   "id": "762b79b5",
   "metadata": {},
   "outputs": [
    {
     "name": "stdout",
     "output_type": "stream",
     "text": [
      "None\n"
     ]
    }
   ],
   "source": [
    "t.ppa()"
   ]
  },
  {
   "cell_type": "code",
   "execution_count": null,
   "id": "87acea91",
   "metadata": {},
   "outputs": [],
   "source": []
  },
  {
   "cell_type": "code",
   "execution_count": 1,
   "id": "804c713d",
   "metadata": {},
   "outputs": [
    {
     "name": "stdout",
     "output_type": "stream",
     "text": [
      "Are instances the same object?\n",
      "True\n",
      "MiG-29 Fighter Jet\n",
      "Engine: RD-33\n",
      "Weaponry: Air-to-Air Missiles\n",
      "Avionics: Phazotron Radar\n",
      "\n",
      "MiG-29 Fighter Jet\n",
      "Engine: RD-33\n",
      "Weaponry: Air-to-Air Missiles\n",
      "Avionics: Phazotron Radar\n",
      "\n",
      "MiG-29 Fighter Jet\n",
      "Engine: RD-33\n",
      "Weaponry: Air-to-Air Missiles\n",
      "Avionics: Phazotron Radar\n",
      "\n"
     ]
    }
   ],
   "source": [
    "class FighterJetSingleton:\n",
    "    _instance = None\n",
    "\n",
    "    def __new__(cls, model, engine, weaponry, avionics):\n",
    "        if cls._instance is None:\n",
    "            cls._instance = super(FighterJetSingleton, cls).__new__(cls)\n",
    "            cls._instance.model = model\n",
    "            cls._instance.engine = engine\n",
    "            cls._instance.weaponry = weaponry\n",
    "            cls._instance.avionics = avionics\n",
    "        return cls._instance\n",
    "\n",
    "    def display_info(self):\n",
    "        print(f\"{self.model} Fighter Jet\\nEngine: {self.engine}\\nWeaponry: {self.weaponry}\\nAvionics: {self.avionics}\\n\")\n",
    "\n",
    "# Client Code\n",
    "def main():\n",
    "    # Creating instances using Singleton\n",
    "    mig_instance = FighterJetSingleton(\"MiG-29\", \"RD-33\", \"Air-to-Air Missiles\", \"Phazotron Radar\")\n",
    "    sukh_instance = FighterJetSingleton(\"Sukhoi Su-35\", \"AL-41F1S\", \"Missiles and Bombs\", \"Irbis-E Radar\")\n",
    "    falcon_instance = FighterJetSingleton(\"F-16 Falcon\", \"F110-GE-129\", \"Precision-Guided Munitions\", \"AN/APG-68 Radar\")\n",
    "\n",
    "    # All instances point to the same object\n",
    "    print(\"Are instances the same object?\")\n",
    "    print(mig_instance is sukh_instance is falcon_instance)  # Output: True\n",
    "\n",
    "    # Display information for each instance\n",
    "    mig_instance.display_info()\n",
    "    sukh_instance.display_info()\n",
    "    falcon_instance.display_info()\n",
    "\n",
    "if __name__ == \"__main__\":\n",
    "    main()\n"
   ]
  },
  {
   "cell_type": "code",
   "execution_count": null,
   "id": "6b411169",
   "metadata": {},
   "outputs": [],
   "source": [
    "class Singleton:\n",
    "    _instance = None\n",
    "    __initialized = False\n",
    "\n",
    "    settings = {\n",
    "        \"key1\": \"value1\",\n",
    "        \"key2\": \"value2\"\n",
    "    }\n",
    "\n",
    "    def __new__(cls, *args, **kwargs):\n",
    "        if not cls._instance:\n",
    "            cls._instance = super().__new__(cls)\n",
    "        return cls._instance\n",
    "    \n",
    "    def __init__(self,arg1,arg2):\n",
    "        if not self.__initialized:\n",
    "            self.arg1 = arg1\n",
    "            self.arg2 = arg2\n",
    "            self.__initialized = True\n",
    "\n",
    "    def get_setting(self, key):\n",
    "        print(self.settings,self.arg1,self.arg2)\n",
    "        return self.settings.get(key)\n",
    "\n",
    "    def set_setting(self, key, value):\n",
    "        self.settings[\"key1\"] = value"
   ]
  },
  {
   "cell_type": "code",
   "execution_count": null,
   "id": "f1c81925",
   "metadata": {},
   "outputs": [],
   "source": []
  },
  {
   "cell_type": "code",
   "execution_count": null,
   "id": "069e7d3e",
   "metadata": {},
   "outputs": [],
   "source": []
  },
  {
   "cell_type": "code",
   "execution_count": 1,
   "id": "8cd9d620",
   "metadata": {},
   "outputs": [
    {
     "ename": "NameError",
     "evalue": "name 'SomeExpensiveObjectClass' is not defined",
     "output_type": "error",
     "traceback": [
      "\u001b[0;31m---------------------------------------------------------------------------\u001b[0m",
      "\u001b[0;31mNameError\u001b[0m                                 Traceback (most recent call last)",
      "Cell \u001b[0;32mIn [1], line 32\u001b[0m\n\u001b[1;32m     30\u001b[0m \u001b[38;5;66;03m# Example Usage\u001b[39;00m\n\u001b[1;32m     31\u001b[0m pool \u001b[38;5;241m=\u001b[39m ObjectPool()\n\u001b[0;32m---> 32\u001b[0m obj \u001b[38;5;241m=\u001b[39m \u001b[43mpool\u001b[49m\u001b[38;5;241;43m.\u001b[39;49m\u001b[43mget_object\u001b[49m\u001b[43m(\u001b[49m\u001b[43m)\u001b[49m\n\u001b[1;32m     33\u001b[0m \u001b[38;5;66;03m# use obj\u001b[39;00m\n\u001b[1;32m     34\u001b[0m pool\u001b[38;5;241m.\u001b[39mrelease_object(obj)\n",
      "Cell \u001b[0;32mIn [1], line 18\u001b[0m, in \u001b[0;36mObjectPool.get_object\u001b[0;34m(self)\u001b[0m\n\u001b[1;32m     16\u001b[0m \u001b[38;5;28;01mdef\u001b[39;00m \u001b[38;5;21mget_object\u001b[39m(\u001b[38;5;28mself\u001b[39m):\n\u001b[1;32m     17\u001b[0m     \u001b[38;5;28;01mif\u001b[39;00m \u001b[38;5;129;01mnot\u001b[39;00m \u001b[38;5;28mself\u001b[39m\u001b[38;5;241m.\u001b[39m_objects:\n\u001b[0;32m---> 18\u001b[0m         new_object \u001b[38;5;241m=\u001b[39m \u001b[38;5;28;43mself\u001b[39;49m\u001b[38;5;241;43m.\u001b[39;49m\u001b[43mcreate_object\u001b[49m\u001b[43m(\u001b[49m\u001b[43m)\u001b[49m\n\u001b[1;32m     19\u001b[0m         \u001b[38;5;28;01mreturn\u001b[39;00m new_object\n\u001b[1;32m     20\u001b[0m     \u001b[38;5;28;01melse\u001b[39;00m:\n",
      "Cell \u001b[0;32mIn [1], line 28\u001b[0m, in \u001b[0;36mObjectPool.create_object\u001b[0;34m(self)\u001b[0m\n\u001b[1;32m     26\u001b[0m \u001b[38;5;28;01mdef\u001b[39;00m \u001b[38;5;21mcreate_object\u001b[39m(\u001b[38;5;28mself\u001b[39m):\n\u001b[1;32m     27\u001b[0m     \u001b[38;5;66;03m# Create a new object (expensive operation)\u001b[39;00m\n\u001b[0;32m---> 28\u001b[0m     \u001b[38;5;28;01mreturn\u001b[39;00m \u001b[43mSomeExpensiveObjectClass\u001b[49m()\n",
      "\u001b[0;31mNameError\u001b[0m: name 'SomeExpensiveObjectClass' is not defined"
     ]
    }
   ],
   "source": [
    "class SingletonMeta(type):\n",
    "    \"\"\"\n",
    "    This is a metaclass for creating Singleton classes.\n",
    "    \"\"\"\n",
    "    _instances = {}\n",
    "\n",
    "    def __call__(cls, *args, **kwargs):\n",
    "        if cls not in cls._instances:\n",
    "            cls._instances[cls] = super(SingletonMeta, cls).__call__(*args, **kwargs)\n",
    "        return cls._instances[cls]\n",
    "\n",
    "class ObjectPool(metaclass=SingletonMeta):\n",
    "    def __init__(self):\n",
    "        self._objects = []\n",
    "\n",
    "    def get_object(self):\n",
    "        if not self._objects:\n",
    "            new_object = self.create_object()\n",
    "            return new_object\n",
    "        else:\n",
    "            return self._objects.pop()\n",
    "\n",
    "    def release_object(self, obj):\n",
    "        self._objects.append(obj)\n",
    "\n",
    "    def create_object(self):\n",
    "        # Create a new object (expensive operation)\n",
    "        return SomeExpensiveObjectClass()\n",
    "\n",
    "# Example Usage\n",
    "pool = ObjectPool()\n",
    "obj = pool.get_object()\n",
    "# use obj\n",
    "pool.release_object(obj)\n"
   ]
  },
  {
   "cell_type": "code",
   "execution_count": null,
   "id": "f313a03e",
   "metadata": {},
   "outputs": [],
   "source": []
  },
  {
   "cell_type": "code",
   "execution_count": null,
   "id": "ebffdac5",
   "metadata": {},
   "outputs": [],
   "source": []
  },
  {
   "cell_type": "code",
   "execution_count": null,
   "id": "cfbd9fab",
   "metadata": {},
   "outputs": [],
   "source": []
  },
  {
   "cell_type": "code",
   "execution_count": null,
   "id": "15bad8e9",
   "metadata": {},
   "outputs": [],
   "source": []
  },
  {
   "cell_type": "code",
   "execution_count": null,
   "id": "6ef82e82",
   "metadata": {},
   "outputs": [],
   "source": []
  }
 ],
 "metadata": {
  "kernelspec": {
   "display_name": "Python 3 (ipykernel)",
   "language": "python",
   "name": "python3"
  },
  "language_info": {
   "codemirror_mode": {
    "name": "ipython",
    "version": 3
   },
   "file_extension": ".py",
   "mimetype": "text/x-python",
   "name": "python",
   "nbconvert_exporter": "python",
   "pygments_lexer": "ipython3",
   "version": "3.9.18"
  }
 },
 "nbformat": 4,
 "nbformat_minor": 5
}
