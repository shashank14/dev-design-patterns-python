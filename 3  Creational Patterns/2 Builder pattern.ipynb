{
 "cells": [
  {
   "cell_type": "markdown",
   "id": "f2b855a3",
   "metadata": {},
   "source": [
    "### Builder Pattern:"
   ]
  },
  {
   "cell_type": "markdown",
   "id": "ca58ce02",
   "metadata": {},
   "source": [
    "The Builder Design Pattern is a creational pattern used to construct complex objects step by step. It separates the construction of a complex object from its representation, allowing the same construction process to create different representations."
   ]
  },
  {
   "cell_type": "code",
   "execution_count": null,
   "id": "5337ff1a",
   "metadata": {},
   "outputs": [],
   "source": []
  },
  {
   "cell_type": "markdown",
   "id": "d623657f",
   "metadata": {},
   "source": [
    "##### key components \n",
    "\n",
    "\n",
    "###### Product:\n",
    "The final complex object being constructed.\n",
    "\n",
    "###### Builder:\n",
    "Declares the construction steps and provides an interface for building the product.\n",
    "\n",
    "###### ConcreteBuilder:\n",
    "Implements the builder interface and provides specific construction steps.\n",
    "\n",
    "##### Director:\n",
    "Coordinates the construction process using a builder interface.\n",
    "\n",
    "\n"
   ]
  },
  {
   "cell_type": "code",
   "execution_count": 2,
   "id": "7e1a8726",
   "metadata": {},
   "outputs": [],
   "source": [
    "from abc import ABC,abstractmethod"
   ]
  },
  {
   "cell_type": "code",
   "execution_count": 4,
   "id": "2b925eb4",
   "metadata": {},
   "outputs": [
    {
     "name": "stdout",
     "output_type": "stream",
     "text": [
      "Pizaa Configuration:\n",
      "Size: Thin, Crust: XLarge, Sauce: Cheese, Toppings: yumtee\n"
     ]
    }
   ],
   "source": [
    "class Pizza:\n",
    "    def __init__(self):\n",
    "        self.size = None\n",
    "        self.crust = None\n",
    "        self.toppings = []\n",
    "        self.sauce = None\n",
    "\n",
    "    def __str__(self):\n",
    "        return (f\"Size: {self.size}, Crust: {self.crust}, \"\n",
    "                f\"Sauce: {self.sauce}, Toppings: {', '.join(self.toppings)}\")\n",
    "    \n",
    "    \n",
    "class PizzaBuilder(ABC):\n",
    "    @abstractmethod\n",
    "    def choose_size(self, size):\n",
    "        pass\n",
    "\n",
    "    @abstractmethod\n",
    "    def choose_crust(self, crust):\n",
    "        pass\n",
    "\n",
    "    @abstractmethod\n",
    "    def add_topping(self, topping):\n",
    "        pass\n",
    "\n",
    "    @abstractmethod\n",
    "    def add_sauce(self, sauce):\n",
    "        pass\n",
    "\n",
    "    @abstractmethod\n",
    "    def build(self):\n",
    "        pass\n",
    "    \n",
    "    \n",
    "class CustomPizzaBuilder(PizzaBuilder):\n",
    "    def __init__(self):\n",
    "        self.pizza = Pizza()\n",
    "\n",
    "    def choose_size(self, size):\n",
    "        self.pizza.size = size\n",
    "        return self\n",
    "\n",
    "    def choose_crust(self, crust):\n",
    "        self.pizza.crust = crust\n",
    "        return self\n",
    "\n",
    "    def add_topping(self, topping):\n",
    "        self.pizza.toppings.append(topping)\n",
    "        return self\n",
    "\n",
    "    def add_sauce(self, sauce):\n",
    "        self.pizza.sauce = sauce\n",
    "        return self\n",
    "\n",
    "    def build(self):\n",
    "        return self.pizza\n",
    "    \n",
    "#### director\n",
    "class PizzaDirector:\n",
    "    def __init__(self,crust,size,topping,sauce):\n",
    "        self.size = size\n",
    "        self.crust = crust\n",
    "        self.topping = topping\n",
    "        self.sauce = sauce\n",
    "\n",
    "    def construct(self,builder):\n",
    "        self.builder = builder\n",
    "        self.builder.choose_size(self.size)\n",
    "        self.builder.choose_crust(self.crust)\n",
    "        self.builder.add_topping(self.topping)\n",
    "        self.builder.add_sauce(self.sauce)\n",
    "        return self.builder.build()\n",
    "    \n",
    "# Client code\n",
    "custom = CustomPizzaBuilder()\n",
    "director = PizzaDirector(\"XLarge\",\"Thin\",\"yumtee\",\"Cheese\")\n",
    "custom_pizza = director.construct(custom)\n",
    "\n",
    "print(\"Pizaa Configuration:\")\n",
    "print(custom_pizza)"
   ]
  },
  {
   "cell_type": "code",
   "execution_count": null,
   "id": "da32efe3",
   "metadata": {},
   "outputs": [],
   "source": []
  },
  {
   "cell_type": "markdown",
   "id": "fa1366bf",
   "metadata": {},
   "source": [
    "A real-world example of the Builder pattern can be found in the construction of ordering systems in restaurants, especially for building complex orders like a custom pizza or a burger. Let's consider the example of a pizza ordering system.\n",
    "\n",
    "Scenario: Custom Pizza Ordering System\n",
    "In a pizza restaurant, customers can customize their pizzas with various toppings, crust types, sizes, and sauces. Using the Builder pattern, the system can construct different types of pizza orders based on customer preferences.\n",
    "\n",
    "Implementation:\n",
    "Product (Pizza):\n",
    "This is the complex object that represents a custom pizza."
   ]
  },
  {
   "cell_type": "code",
   "execution_count": null,
   "id": "8cce18d8",
   "metadata": {},
   "outputs": [],
   "source": []
  },
  {
   "cell_type": "code",
   "execution_count": 8,
   "id": "2df50d31",
   "metadata": {},
   "outputs": [],
   "source": [
    "\n"
   ]
  },
  {
   "cell_type": "code",
   "execution_count": null,
   "id": "a61dd32c",
   "metadata": {},
   "outputs": [],
   "source": []
  },
  {
   "cell_type": "code",
   "execution_count": 10,
   "id": "8b81c30a",
   "metadata": {},
   "outputs": [],
   "source": [
    "\n"
   ]
  },
  {
   "cell_type": "code",
   "execution_count": null,
   "id": "8b8d593e",
   "metadata": {},
   "outputs": [],
   "source": []
  },
  {
   "cell_type": "code",
   "execution_count": 11,
   "id": "2ccb727e",
   "metadata": {},
   "outputs": [],
   "source": [
    "\n"
   ]
  },
  {
   "cell_type": "code",
   "execution_count": null,
   "id": "ddb36557",
   "metadata": {},
   "outputs": [],
   "source": []
  },
  {
   "cell_type": "code",
   "execution_count": null,
   "id": "33b82ac9",
   "metadata": {},
   "outputs": [],
   "source": []
  }
 ],
 "metadata": {
  "kernelspec": {
   "display_name": "Python 3 (ipykernel)",
   "language": "python",
   "name": "python3"
  },
  "language_info": {
   "codemirror_mode": {
    "name": "ipython",
    "version": 3
   },
   "file_extension": ".py",
   "mimetype": "text/x-python",
   "name": "python",
   "nbconvert_exporter": "python",
   "pygments_lexer": "ipython3",
   "version": "3.9.18"
  }
 },
 "nbformat": 4,
 "nbformat_minor": 5
}
