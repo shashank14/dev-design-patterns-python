{
 "cells": [
  {
   "cell_type": "markdown",
   "id": "7feb0071",
   "metadata": {},
   "source": [
    "### Simple Factory,  Design pattern:"
   ]
  },
  {
   "cell_type": "code",
   "execution_count": null,
   "id": "77f45753",
   "metadata": {},
   "outputs": [],
   "source": []
  },
  {
   "cell_type": "markdown",
   "id": "0dbda286",
   "metadata": {},
   "source": [
    "##### Simple Factory design pattern:\n",
    "\n",
    "The Simple Factory Design Pattern is a creational pattern that provides a simple interface\n",
    "for creating objects without specifying their concrete classes. \n",
    "It involves a factory class that is responsible for instantiating objects based on the\n",
    "input parameters it receives.  \n",
    "\n",
    "The client code interacts with the factory to obtain\n",
    "the desired object without having to know the details of the object's creation.\n"
   ]
  },
  {
   "cell_type": "code",
   "execution_count": null,
   "id": "c325a5fa",
   "metadata": {},
   "outputs": [],
   "source": []
  },
  {
   "cell_type": "markdown",
   "id": "0cc20d64",
   "metadata": {},
   "source": [
    "\n",
    "## key components:\n",
    "\n",
    "##### Product (iterface):\n",
    "The interface or abstract class that declares the methods that concrete products must implement.\n",
    "\n",
    "##### Concrete Product:\n",
    "The actual implementations of the product interface or class.\n",
    "\n",
    "##### Factory:\n",
    "The factory class responsible for creating instances of concrete products based on client requests.\n",
    "It contains a method that takes parameters and decides which product to instantiate and return.\n",
    "\n",
    "##### Client:\n",
    "The code that interacts with the factory to obtain instances of concrete products without knowing\n",
    "their specific implementations."
   ]
  },
  {
   "cell_type": "code",
   "execution_count": null,
   "id": "c261e622",
   "metadata": {},
   "outputs": [],
   "source": []
  },
  {
   "cell_type": "markdown",
   "id": "97f0f70a",
   "metadata": {},
   "source": [
    "##### How it works\n",
    "\n",
    "###### IFighterJet (Interface):\n",
    "This is the interface that all types of fighter jets will implement. It declares the display_info method.\n",
    "\n",
    "##### MiG29, SukhoiSu35, F16Falcon (Concrete Products):\n",
    "\n",
    "These are the concrete classes that implement the IFighterJet interface. Each class provides its specific implementation of the display_info method.\n",
    "\n",
    "###### FighterJetFactory (Factory Class):\n",
    "This class has the create_fighter_jet method that decides which concrete fighter jet to instantiate based on the input it receives.\n",
    "\n",
    "##### Client:\n",
    "This is typically the class that interacts with the factory to request objects. In your code, it's represented by the main function that creates instances of fighter jets using the FighterJetFactory."
   ]
  },
  {
   "cell_type": "code",
   "execution_count": 2,
   "id": "2530c867",
   "metadata": {},
   "outputs": [
    {
     "name": "stdout",
     "output_type": "stream",
     "text": [
      "MiG-29 Fighter Jet\n"
     ]
    }
   ],
   "source": [
    "from abc import ABC, abstractmethod\n",
    "\n",
    "# Product Interface: FighterJet\n",
    "class IFighterJet(ABC):\n",
    "    @abstractmethod\n",
    "    def display_info(self):\n",
    "        pass\n",
    "\n",
    "# Concrete Products\n",
    "class MiG29(IFighterJet):\n",
    "    def display_info(self):\n",
    "        print(\"MiG-29 Fighter Jet\")\n",
    "\n",
    "class SukhoiSu35(IFighterJet):\n",
    "    def display_info(self):\n",
    "        print(\"Sukhoi Su-35 Fighter Jet\")\n",
    "\n",
    "class F16Falcon(IFighterJet):\n",
    "    def display_info(self):\n",
    "        print(\"F-16 Falcon Fighter Jet\")\n",
    "\n",
    "# Simple Factory\n",
    "class FighterJetFactory:\n",
    "    def create_fighter_jet(self, jet_type):\n",
    "        if jet_type == \"MiG29\":\n",
    "            return MiG29()\n",
    "        elif jet_type == \"Su35\":\n",
    "            return SukhoiSu35()\n",
    "        elif jet_type == \"F16\":\n",
    "            return F16Falcon()\n",
    "        else:\n",
    "            raise ValueError(\"Invalid fighter jet type\")\n",
    "\n",
    "# Client Code\n",
    "def main():\n",
    "    factory = FighterJetFactory()\n",
    "\n",
    "    jet = factory.create_fighter_jet(\"MiG29\")\n",
    "    jet.display_info()\n",
    "\n",
    "#     jet = factory.create_fighter_jet(\"Su35\")\n",
    "#     jet.display_info()\n",
    "\n",
    "#     jet = factory.create_fighter_jet(\"F16\")\n",
    "#     jet.display_info()\n",
    "\n",
    "if __name__ == \"__main__\":\n",
    "    main()\n"
   ]
  },
  {
   "cell_type": "markdown",
   "id": "d7a4d048",
   "metadata": {},
   "source": [
    "When to Use Simple Factory:\n",
    "\n",
    "When the creation process of an object is complex but you want to hide this complexity from the client.\n",
    "When there are many objects of a similar type and they can be created through a single interface.\n",
    "When the client should be independent of how the products are created and represented."
   ]
  },
  {
   "cell_type": "markdown",
   "id": "1df645aa",
   "metadata": {},
   "source": [
    "##### scenarios where the Simple Factory pattern is a popular choice:\n",
    "\n",
    "##### Centralizing Creation Logic:\n",
    "When there's a need to centralize the creation logic for a set of related classes, so that changes in the way objects are created can be made in one place.\n",
    "\n",
    "##### Decoupling Client and Product Classes:\n",
    "When you want to decouple the client code from the concrete classes it needs to instantiate, thereby reducing the dependency of the client code on these concrete classes.\n",
    "\n",
    "##### Providing a Common Interface for Object Creation:\n",
    "When different types of objects can be created using a common interface or method, which simplifies the client's interaction with different object types.\n",
    "\n",
    "##### Conditional Object Creation:\n",
    "In scenarios where the type of object to be created depends on certain conditions or parameters, the Simple Factory can evaluate these conditions and instantiate the appropriate class.\n",
    "\n",
    "###### Encapsulating Complex Initialization Logic:\n",
    "When the instantiation and setup of an object are complex (involving conditional logic, configurations, or multiple steps), encapsulating this complexity in a factory makes the client code cleaner and more readable.\n",
    "\n",
    "##### Reducing Code Duplication:\n",
    "When there's repetitive code for object creation scattered across multiple places in the application, a factory can centralize this logic, thereby reducing code duplication.\n",
    "\n",
    "##### Ease of Maintenance and Updating:\n",
    "When the system evolves and the process of object creation needs to change (like adding new classes to the family of products), having a factory simplifies these updates as you only need to modify the factory, not the client code.\n",
    "\n",
    "\n"
   ]
  },
  {
   "cell_type": "markdown",
   "id": "7b6f0661",
   "metadata": {},
   "source": [
    "###### Product Selection and Configuration:\n",
    "In cases where different configurations or environmental settings dictate which product class should be instantiated, a factory can make these selections based on the runtime context."
   ]
  },
  {
   "cell_type": "markdown",
   "id": "f6dfc639",
   "metadata": {},
   "source": [
    "#####  conclusion:\n",
    "It is straightforward and provides a centralized point for creating objects, making it easier to manage the instantiation process and hide the details of object creation from the client code.\n",
    "\n",
    "However, it does not adhere to the Open/Closed Principle, as adding a new product requires modifying the \n",
    "factory class. For more extensibility, other creational patterns like the Factory Method or\n",
    "Abstract Factory may be considered."
   ]
  },
  {
   "cell_type": "code",
   "execution_count": null,
   "id": "0f60e125",
   "metadata": {},
   "outputs": [],
   "source": []
  },
  {
   "cell_type": "code",
   "execution_count": null,
   "id": "7bee81ff",
   "metadata": {},
   "outputs": [],
   "source": []
  },
  {
   "cell_type": "code",
   "execution_count": null,
   "id": "350e373b",
   "metadata": {},
   "outputs": [],
   "source": []
  },
  {
   "cell_type": "code",
   "execution_count": null,
   "id": "d2bb5e62",
   "metadata": {},
   "outputs": [],
   "source": []
  },
  {
   "cell_type": "code",
   "execution_count": null,
   "id": "2a7a5f45",
   "metadata": {},
   "outputs": [],
   "source": []
  },
  {
   "cell_type": "code",
   "execution_count": null,
   "id": "d22ff37e",
   "metadata": {},
   "outputs": [],
   "source": []
  },
  {
   "cell_type": "code",
   "execution_count": null,
   "id": "90bbf85a",
   "metadata": {},
   "outputs": [],
   "source": []
  },
  {
   "cell_type": "code",
   "execution_count": null,
   "id": "2ac380ae",
   "metadata": {},
   "outputs": [],
   "source": []
  },
  {
   "cell_type": "code",
   "execution_count": null,
   "id": "b4029c91",
   "metadata": {},
   "outputs": [],
   "source": []
  },
  {
   "cell_type": "code",
   "execution_count": null,
   "id": "c7daf46a",
   "metadata": {},
   "outputs": [],
   "source": []
  },
  {
   "cell_type": "code",
   "execution_count": 2,
   "id": "2ccf157c",
   "metadata": {},
   "outputs": [
    {
     "ename": "SyntaxError",
     "evalue": "invalid syntax (3689837917.py, line 1)",
     "output_type": "error",
     "traceback": [
      "\u001b[0;36m  Cell \u001b[0;32mIn [2], line 1\u001b[0;36m\u001b[0m\n\u001b[0;31m    +-------------------------+\u001b[0m\n\u001b[0m                               ^\u001b[0m\n\u001b[0;31mSyntaxError\u001b[0m\u001b[0;31m:\u001b[0m invalid syntax\n"
     ]
    }
   ],
   "source": [
    "+-------------------------+\n",
    "|    <<interface>>        |\n",
    "|      IFighterJet        |\n",
    "+-------------------------+\n",
    "| - display_info(): void  |\n",
    "+-------------------------+\n",
    "            ^\n",
    "            | implements\n",
    "+-----------+----------+  +-----------------------+  +-------------------------+\n",
    "|    MiG29             |  |   SukhoiSu35          |  |   F16Falcon             |\n",
    "+----------------------+  +-----------------------+  +-------------------------+\n",
    "| - display_info(): void | | - display_info(): void | | - display_info(): void  |\n",
    "+----------------------+  +-----------------------+  +-------------------------+\n",
    "\n",
    "+-----------------------+\n",
    "|   FighterJetFactory   |\n",
    "+-----------------------+\n",
    "| + create_fighter_jet()|\n",
    "+-----------------------+\n",
    "\n",
    "+-----------------------+\n",
    "|         Client        |\n",
    "+-----------------------+\n",
    "|         main()        |\n",
    "+-----------------------+\n"
   ]
  }
 ],
 "metadata": {
  "kernelspec": {
   "display_name": "Python 3 (ipykernel)",
   "language": "python",
   "name": "python3"
  },
  "language_info": {
   "codemirror_mode": {
    "name": "ipython",
    "version": 3
   },
   "file_extension": ".py",
   "mimetype": "text/x-python",
   "name": "python",
   "nbconvert_exporter": "python",
   "pygments_lexer": "ipython3",
   "version": "3.9.18"
  }
 },
 "nbformat": 4,
 "nbformat_minor": 5
}
